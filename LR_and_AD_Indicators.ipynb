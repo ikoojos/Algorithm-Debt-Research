{
  "cells": [
    {
      "cell_type": "code",
      "execution_count": null,
      "metadata": {
        "id": "DcsKeqbTQnon"
      },
      "outputs": [],
      "source": [
        "import warnings\n",
        "\n",
        "# Ignore all warnings\n",
        "warnings.filterwarnings(\"ignore\")"
      ]
    },
    {
      "cell_type": "code",
      "execution_count": null,
      "metadata": {
        "colab": {
          "base_uri": "https://localhost:8080/"
        },
        "id": "DMA9H5i62C9Z",
        "outputId": "99088393-9353-4020-f9ba-6acbd232f9b9"
      },
      "outputs": [
        {
          "output_type": "stream",
          "name": "stdout",
          "text": [
            "Mounted at /content/drive\n",
            "/content/drive/My Drive/AD Identification using SATD\n"
          ]
        }
      ],
      "source": [
        "from google.colab import drive\n",
        "drive.mount('/content/drive')\n",
        "%cd '/content/drive/My Drive/AD Identification using SATD'"
      ]
    },
    {
      "cell_type": "markdown",
      "metadata": {
        "id": "uUgEpe7-eUCS"
      },
      "source": [
        "#Import basic libraries"
      ]
    },
    {
      "cell_type": "code",
      "execution_count": null,
      "metadata": {
        "id": "IhAMrUt62QZD"
      },
      "outputs": [],
      "source": [
        "import matplotlib.pyplot as plt\n",
        "import pandas as pd\n",
        "import numpy as np\n",
        "import matplotlib.colors as mcolors\n",
        "import seaborn as sns\n",
        "import matplotlib.pyplot as plt\n",
        "\n",
        "from sklearn.model_selection import train_test_split\n",
        "from sklearn.feature_extraction.text import CountVectorizer, TfidfVectorizer, HashingVectorizer\n",
        "from sklearn.ensemble import RandomForestClassifier\n",
        "from sklearn.metrics import accuracy_score, classification_report, confusion_matrix, f1_score\n",
        "from sklearn.preprocessing import LabelEncoder\n",
        "\n",
        "\n",
        "from sklearn.multioutput import MultiOutputClassifier\n",
        "from sklearn.ensemble import RandomForestClassifier\n",
        "from sklearn.preprocessing import MultiLabelBinarizer, LabelEncoder\n",
        "\n",
        "from gensim.models import Word2Vec\n",
        "from nltk.tokenize import word_tokenize\n",
        "\n",
        "import pandas as pd\n",
        "from sklearn.model_selection import train_test_split\n",
        "from sklearn.feature_extraction.text import CountVectorizer, TfidfVectorizer, HashingVectorizer\n",
        "from sklearn.linear_model import LogisticRegression\n",
        "from sklearn.svm import SVC\n",
        "\n"
      ]
    },
    {
      "cell_type": "markdown",
      "metadata": {
        "id": "cF-tbskFeYnn"
      },
      "source": [
        "#Read the datasets"
      ]
    },
    {
      "cell_type": "code",
      "execution_count": null,
      "metadata": {
        "id": "MItX6IAvtxPx"
      },
      "outputs": [],
      "source": [
        "import pandas as pd\n",
        "liu_ = '/content/drive/My Drive/AD Identification using SATD/liu_datset_processed.csv'\n",
        "liu_ = pd.read_csv(liu_, low_memory=False)"
      ]
    },
    {
      "cell_type": "code",
      "source": [
        "liu_['Comments'].fillna('', inplace=True)\n",
        "liu_['TDType'] = liu_['TDType'].astype(str)\n",
        "\n",
        "values_to_remove = ['MULTITHREAD', 'nan', 'removeType']\n",
        "replacement_value = 'WITHOUT_CLASSIFICATION'\n",
        "liu_['TDType'].replace(values_to_remove, replacement_value, inplace=True)\n",
        "\n",
        "liu_['Comments'] = liu_['Comments'].str.replace('content=', '', regex=False)\n",
        "liu_['Comments'] = liu_['Comments'].str.replace('\"', '', regex=False)"
      ],
      "metadata": {
        "id": "4k_AAMZy73nc"
      },
      "execution_count": null,
      "outputs": []
    },
    {
      "cell_type": "code",
      "source": [
        "# Remove duplicates\n",
        "liu_ = liu_.drop_duplicates(subset=['Comments', 'TDType'])\n"
      ],
      "metadata": {
        "id": "pBJ55NAS77V6"
      },
      "execution_count": null,
      "outputs": []
    },
    {
      "cell_type": "code",
      "source": [
        "# Count the number of duplicate rows in the DataFrame\n",
        "num_duplicates = liu_.duplicated().sum()\n",
        "\n",
        "print(f\"Number of duplicate rows: {num_duplicates}\")"
      ],
      "metadata": {
        "colab": {
          "base_uri": "https://localhost:8080/"
        },
        "id": "pKh3sNpN7-Ui",
        "outputId": "b4f64ceb-6e7b-45e5-e0af-00f93e69ebea"
      },
      "execution_count": null,
      "outputs": [
        {
          "output_type": "stream",
          "name": "stdout",
          "text": [
            "Number of duplicate rows: 0\n"
          ]
        }
      ]
    },
    {
      "cell_type": "code",
      "source": [
        "liu_['TDType'] = liu_['TDType'].replace('removeType', 'WITHOUT_CLASSIFICATION')"
      ],
      "metadata": {
        "id": "mgyGJ4t88FdA"
      },
      "execution_count": null,
      "outputs": []
    },
    {
      "cell_type": "code",
      "source": [
        "import pandas as pd\n",
        "from sklearn.feature_extraction.text import CountVectorizer\n",
        "from sklearn.linear_model import LogisticRegression\n",
        "from sklearn.model_selection import train_test_split\n",
        "from sklearn.metrics import f1_score, classification_report, confusion_matrix\n",
        "from scipy.sparse import csr_matrix, hstack\n",
        "\n",
        "df = liu_\n",
        "X = df['Comments'].apply(lambda x: x.lower().strip())\n",
        "y = df['TDType']\n",
        "\n",
        "# Split the dataset first to prevent leakage\n",
        "X_train_raw, X_test_raw, y_train, y_test = train_test_split(X, y, test_size=0.2, random_state=42)\n",
        "\n",
        "# Custom feature extraction function\n",
        "def custom_features(text):\n",
        "    keywords = ['shape', 'input', 'tensor', 'output', 'size', 'convolution', 'value', 'efficient', 'matrix', 'model', 'node', 'function', 'batch']\n",
        "    features = {f'contains_{kw}': int(kw in text.lower()) for kw in keywords}\n",
        "    return pd.Series(features)\n",
        "\n",
        "# Apply custom feature extraction separately on train and test sets\n",
        "custom_features_train_df = X_train_raw.apply(custom_features)\n",
        "custom_features_test_df = X_test_raw.apply(custom_features)\n",
        "\n",
        "# Convert custom features to sparse format\n",
        "custom_features_train_sparse = csr_matrix(custom_features_train_df.values)\n",
        "custom_features_test_sparse = csr_matrix(custom_features_test_df.values)\n",
        "\n",
        "vectorizer = CountVectorizer()\n",
        "countVect_train = vectorizer.fit_transform(X_train_raw)\n",
        "countVect_test = vectorizer.transform(X_test_raw)\n",
        "\n",
        "X_train_combined = hstack((countVect_train, custom_features_train_sparse))\n",
        "X_test_combined = hstack((countVect_test, custom_features_test_sparse))\n",
        "\n",
        "# Train the model\n",
        "model = LogisticRegression(random_state=42, solver='liblinear', penalty='l2', C=10, class_weight='balanced', max_iter=1000)\n",
        "model.fit(X_train_combined, y_train)\n",
        "\n",
        "y_pred = model.predict(X_test_combined)\n",
        "\n",
        "print(f'F1 Score (Macro): {f1_score(y_test, y_pred, average=\"macro\"):.2f}')\n",
        "print(\"Classification Report:\")\n",
        "print(classification_report(y_test, y_pred))\n",
        "print(\"Confusion Matrix:\")\n",
        "print(confusion_matrix(y_test, y_pred))\n"
      ],
      "metadata": {
        "colab": {
          "base_uri": "https://localhost:8080/"
        },
        "id": "UtGb1Dq6dYL8",
        "outputId": "08aa54db-b185-4fb5-a48b-fa9f971154c6"
      },
      "execution_count": null,
      "outputs": [
        {
          "output_type": "stream",
          "name": "stdout",
          "text": [
            "F1 Score (Macro): 0.68\n",
            "Classification Report:\n",
            "                        precision    recall  f1-score   support\n",
            "\n",
            "             ALGORITHM       0.55      0.51      0.53       200\n",
            "         COMPATIBILITY       0.63      0.52      0.57        89\n",
            "                DEFECT       0.49      0.53      0.51       135\n",
            "                DESIGN       0.87      0.83      0.85      2206\n",
            "         DOCUMENTATION       0.67      0.52      0.59        23\n",
            "        IMPLEMENTATION       0.70      0.74      0.72       387\n",
            "                  TEST       0.73      0.77      0.75       143\n",
            "WITHOUT_CLASSIFICATION       0.95      0.97      0.96      4592\n",
            "\n",
            "              accuracy                           0.89      7775\n",
            "             macro avg       0.70      0.67      0.68      7775\n",
            "          weighted avg       0.89      0.89      0.89      7775\n",
            "\n",
            "Confusion Matrix:\n",
            "[[ 102    1    4   55    0    7    3   28]\n",
            " [   4   46    2   19    0    4    5    9]\n",
            " [   5    4   71   33    0    4    4   14]\n",
            " [  40   17   46 1827    3   97   16  160]\n",
            " [   3    0    0    6   12    2    0    0]\n",
            " [   1    1   10   76    0  287    6    6]\n",
            " [   0    0    2   18    1    2  110   10]\n",
            " [  31    4    9   69    2    5    7 4465]]\n"
          ]
        }
      ]
    },
    {
      "cell_type": "code",
      "source": [
        "import shap"
      ],
      "metadata": {
        "id": "rQrJwTjMfuTI"
      },
      "execution_count": null,
      "outputs": []
    },
    {
      "cell_type": "code",
      "source": [
        "explainer = shap.LinearExplainer(model, X_train_combined)\n",
        "shap_values = explainer.shap_values(X_test_combined)\n"
      ],
      "metadata": {
        "id": "yfeIjgrXfuRV"
      },
      "execution_count": null,
      "outputs": []
    },
    {
      "cell_type": "code",
      "source": [
        "shap.summary_plot(shap_values, X_test_combined)"
      ],
      "metadata": {
        "id": "ZeLeBelsfuPS"
      },
      "execution_count": null,
      "outputs": []
    }
  ],
  "metadata": {
    "colab": {
      "machine_shape": "hm",
      "provenance": [],
      "gpuType": "T4"
    },
    "kernelspec": {
      "display_name": "Python 3",
      "name": "python3"
    },
    "language_info": {
      "name": "python"
    },
    "accelerator": "GPU"
  },
  "nbformat": 4,
  "nbformat_minor": 0
}