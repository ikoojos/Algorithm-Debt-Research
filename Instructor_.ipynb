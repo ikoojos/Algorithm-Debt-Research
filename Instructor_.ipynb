{
  "cells": [
    {
      "cell_type": "markdown",
      "metadata": {
        "id": "view-in-github",
        "colab_type": "text"
      },
      "source": [
        "<a href=\"https://colab.research.google.com/github/ikoojos/Algorithm-Debt-Research/blob/master/Instructor_.ipynb\" target=\"_parent\"><img src=\"https://colab.research.google.com/assets/colab-badge.svg\" alt=\"Open In Colab\"/></a>"
      ]
    },
    {
      "cell_type": "code",
      "execution_count": 1,
      "metadata": {
        "colab": {
          "base_uri": "https://localhost:8080/"
        },
        "id": "SROlvyyO88QJ",
        "outputId": "b5e1733a-76f2-4d8e-bb65-d7aeb827e69d"
      },
      "outputs": [
        {
          "output_type": "stream",
          "name": "stdout",
          "text": [
            "Drive already mounted at /content/drive; to attempt to forcibly remount, call drive.mount(\"/content/drive\", force_remount=True).\n"
          ]
        }
      ],
      "source": [
        "import sys\n",
        "from google.colab import drive\n",
        "from itertools import product\n",
        "from sklearn.linear_model import LogisticRegression\n",
        "import importlib\n",
        "\n",
        "\n",
        "import pandas as pd\n",
        "from sklearn.model_selection import train_test_split\n",
        "import numpy as np\n",
        "\n",
        "\n",
        "# Mount Google Drive\n",
        "drive.mount('/content/drive')\n",
        "sys.path.append('/content/drive/My Drive/AD Final Experiments')\n",
        "\n",
        "# Import custom modules\n",
        "from preprocessing import preprocess_data\n",
        "from splitting import split_data\n",
        "from utils import *\n",
        "from evaluate_model import evaluate_best_model\n",
        "from lr_tuning import hyperparameter_tuning\n",
        "\n",
        "\n",
        "for module in ['preprocessing', 'splitting', 'utils', 'evaluate_model', 'lr_tuning']:\n",
        "    importlib.reload(sys.modules[module])\n"
      ]
    },
    {
      "cell_type": "code",
      "execution_count": 2,
      "metadata": {
        "colab": {
          "base_uri": "https://localhost:8080/"
        },
        "id": "HBmoHdRKjiEy",
        "outputId": "6b550a00-383b-4f2f-9796-49631d462534"
      },
      "outputs": [
        {
          "output_type": "stream",
          "name": "stdout",
          "text": [
            "/content/drive/My Drive/AD Final Experiments\n",
            "Requirement already satisfied: sentence-transformers==2.2.2 in /usr/local/lib/python3.10/dist-packages (from -r requirements.txt (line 7)) (2.2.2)\n",
            "Requirement already satisfied: transformers<5.0.0,>=4.6.0 in /usr/local/lib/python3.10/dist-packages (from sentence-transformers==2.2.2->-r requirements.txt (line 7)) (4.46.3)\n",
            "Requirement already satisfied: tqdm in /usr/local/lib/python3.10/dist-packages (from sentence-transformers==2.2.2->-r requirements.txt (line 7)) (4.66.6)\n",
            "Requirement already satisfied: torch>=1.6.0 in /usr/local/lib/python3.10/dist-packages (from sentence-transformers==2.2.2->-r requirements.txt (line 7)) (2.5.1+cu121)\n",
            "Requirement already satisfied: torchvision in /usr/local/lib/python3.10/dist-packages (from sentence-transformers==2.2.2->-r requirements.txt (line 7)) (0.20.1+cu121)\n",
            "Requirement already satisfied: numpy in /usr/local/lib/python3.10/dist-packages (from sentence-transformers==2.2.2->-r requirements.txt (line 7)) (1.26.4)\n",
            "Requirement already satisfied: scikit-learn in /usr/local/lib/python3.10/dist-packages (from sentence-transformers==2.2.2->-r requirements.txt (line 7)) (1.5.2)\n",
            "Requirement already satisfied: scipy in /usr/local/lib/python3.10/dist-packages (from sentence-transformers==2.2.2->-r requirements.txt (line 7)) (1.13.1)\n",
            "Requirement already satisfied: nltk in /usr/local/lib/python3.10/dist-packages (from sentence-transformers==2.2.2->-r requirements.txt (line 7)) (3.9.1)\n",
            "Requirement already satisfied: sentencepiece in /usr/local/lib/python3.10/dist-packages (from sentence-transformers==2.2.2->-r requirements.txt (line 7)) (0.2.0)\n",
            "Requirement already satisfied: huggingface-hub>=0.4.0 in /usr/local/lib/python3.10/dist-packages (from sentence-transformers==2.2.2->-r requirements.txt (line 7)) (0.25.2)\n",
            "Requirement already satisfied: filelock in /usr/local/lib/python3.10/dist-packages (from huggingface-hub>=0.4.0->sentence-transformers==2.2.2->-r requirements.txt (line 7)) (3.16.1)\n",
            "Requirement already satisfied: fsspec>=2023.5.0 in /usr/local/lib/python3.10/dist-packages (from huggingface-hub>=0.4.0->sentence-transformers==2.2.2->-r requirements.txt (line 7)) (2024.10.0)\n",
            "Requirement already satisfied: packaging>=20.9 in /usr/local/lib/python3.10/dist-packages (from huggingface-hub>=0.4.0->sentence-transformers==2.2.2->-r requirements.txt (line 7)) (24.2)\n",
            "Requirement already satisfied: pyyaml>=5.1 in /usr/local/lib/python3.10/dist-packages (from huggingface-hub>=0.4.0->sentence-transformers==2.2.2->-r requirements.txt (line 7)) (6.0.2)\n",
            "Requirement already satisfied: requests in /usr/local/lib/python3.10/dist-packages (from huggingface-hub>=0.4.0->sentence-transformers==2.2.2->-r requirements.txt (line 7)) (2.32.3)\n",
            "Requirement already satisfied: typing-extensions>=3.7.4.3 in /usr/local/lib/python3.10/dist-packages (from huggingface-hub>=0.4.0->sentence-transformers==2.2.2->-r requirements.txt (line 7)) (4.12.2)\n",
            "Requirement already satisfied: networkx in /usr/local/lib/python3.10/dist-packages (from torch>=1.6.0->sentence-transformers==2.2.2->-r requirements.txt (line 7)) (3.4.2)\n",
            "Requirement already satisfied: jinja2 in /usr/local/lib/python3.10/dist-packages (from torch>=1.6.0->sentence-transformers==2.2.2->-r requirements.txt (line 7)) (3.1.4)\n",
            "Requirement already satisfied: sympy==1.13.1 in /usr/local/lib/python3.10/dist-packages (from torch>=1.6.0->sentence-transformers==2.2.2->-r requirements.txt (line 7)) (1.13.1)\n",
            "Requirement already satisfied: mpmath<1.4,>=1.1.0 in /usr/local/lib/python3.10/dist-packages (from sympy==1.13.1->torch>=1.6.0->sentence-transformers==2.2.2->-r requirements.txt (line 7)) (1.3.0)\n",
            "Requirement already satisfied: regex!=2019.12.17 in /usr/local/lib/python3.10/dist-packages (from transformers<5.0.0,>=4.6.0->sentence-transformers==2.2.2->-r requirements.txt (line 7)) (2024.9.11)\n",
            "Requirement already satisfied: tokenizers<0.21,>=0.20 in /usr/local/lib/python3.10/dist-packages (from transformers<5.0.0,>=4.6.0->sentence-transformers==2.2.2->-r requirements.txt (line 7)) (0.20.3)\n",
            "Requirement already satisfied: safetensors>=0.4.1 in /usr/local/lib/python3.10/dist-packages (from transformers<5.0.0,>=4.6.0->sentence-transformers==2.2.2->-r requirements.txt (line 7)) (0.4.5)\n",
            "Requirement already satisfied: click in /usr/local/lib/python3.10/dist-packages (from nltk->sentence-transformers==2.2.2->-r requirements.txt (line 7)) (8.1.7)\n",
            "Requirement already satisfied: joblib in /usr/local/lib/python3.10/dist-packages (from nltk->sentence-transformers==2.2.2->-r requirements.txt (line 7)) (1.4.2)\n",
            "Requirement already satisfied: threadpoolctl>=3.1.0 in /usr/local/lib/python3.10/dist-packages (from scikit-learn->sentence-transformers==2.2.2->-r requirements.txt (line 7)) (3.5.0)\n",
            "Requirement already satisfied: pillow!=8.3.*,>=5.3.0 in /usr/local/lib/python3.10/dist-packages (from torchvision->sentence-transformers==2.2.2->-r requirements.txt (line 7)) (11.0.0)\n",
            "Requirement already satisfied: MarkupSafe>=2.0 in /usr/local/lib/python3.10/dist-packages (from jinja2->torch>=1.6.0->sentence-transformers==2.2.2->-r requirements.txt (line 7)) (3.0.2)\n",
            "Requirement already satisfied: charset-normalizer<4,>=2 in /usr/local/lib/python3.10/dist-packages (from requests->huggingface-hub>=0.4.0->sentence-transformers==2.2.2->-r requirements.txt (line 7)) (3.4.0)\n",
            "Requirement already satisfied: idna<4,>=2.5 in /usr/local/lib/python3.10/dist-packages (from requests->huggingface-hub>=0.4.0->sentence-transformers==2.2.2->-r requirements.txt (line 7)) (3.10)\n",
            "Requirement already satisfied: urllib3<3,>=1.21.1 in /usr/local/lib/python3.10/dist-packages (from requests->huggingface-hub>=0.4.0->sentence-transformers==2.2.2->-r requirements.txt (line 7)) (2.2.3)\n",
            "Requirement already satisfied: certifi>=2017.4.17 in /usr/local/lib/python3.10/dist-packages (from requests->huggingface-hub>=0.4.0->sentence-transformers==2.2.2->-r requirements.txt (line 7)) (2024.8.30)\n"
          ]
        }
      ],
      "source": [
        "%cd '/content/drive/My Drive/AD Final Experiments'\n",
        "!pip install -r requirements.txt"
      ]
    },
    {
      "cell_type": "code",
      "execution_count": 3,
      "metadata": {
        "colab": {
          "base_uri": "https://localhost:8080/"
        },
        "id": "Y8H3ktPVkgv0",
        "outputId": "55490b18-98c9-447f-ec6f-1dfaf8a7dc2f"
      },
      "outputs": [
        {
          "output_type": "stream",
          "name": "stdout",
          "text": [
            "Requirement already satisfied: sentence-transformers in /usr/local/lib/python3.10/dist-packages (2.2.2)\n",
            "Requirement already satisfied: transformers<5.0.0,>=4.6.0 in /usr/local/lib/python3.10/dist-packages (from sentence-transformers) (4.46.3)\n",
            "Requirement already satisfied: tqdm in /usr/local/lib/python3.10/dist-packages (from sentence-transformers) (4.66.6)\n",
            "Requirement already satisfied: torch>=1.6.0 in /usr/local/lib/python3.10/dist-packages (from sentence-transformers) (2.5.1+cu121)\n",
            "Requirement already satisfied: torchvision in /usr/local/lib/python3.10/dist-packages (from sentence-transformers) (0.20.1+cu121)\n",
            "Requirement already satisfied: numpy in /usr/local/lib/python3.10/dist-packages (from sentence-transformers) (1.26.4)\n",
            "Requirement already satisfied: scikit-learn in /usr/local/lib/python3.10/dist-packages (from sentence-transformers) (1.5.2)\n",
            "Requirement already satisfied: scipy in /usr/local/lib/python3.10/dist-packages (from sentence-transformers) (1.13.1)\n",
            "Requirement already satisfied: nltk in /usr/local/lib/python3.10/dist-packages (from sentence-transformers) (3.9.1)\n",
            "Requirement already satisfied: sentencepiece in /usr/local/lib/python3.10/dist-packages (from sentence-transformers) (0.2.0)\n",
            "Requirement already satisfied: huggingface-hub>=0.4.0 in /usr/local/lib/python3.10/dist-packages (from sentence-transformers) (0.25.2)\n",
            "Requirement already satisfied: filelock in /usr/local/lib/python3.10/dist-packages (from huggingface-hub>=0.4.0->sentence-transformers) (3.16.1)\n",
            "Requirement already satisfied: fsspec>=2023.5.0 in /usr/local/lib/python3.10/dist-packages (from huggingface-hub>=0.4.0->sentence-transformers) (2024.10.0)\n",
            "Requirement already satisfied: packaging>=20.9 in /usr/local/lib/python3.10/dist-packages (from huggingface-hub>=0.4.0->sentence-transformers) (24.2)\n",
            "Requirement already satisfied: pyyaml>=5.1 in /usr/local/lib/python3.10/dist-packages (from huggingface-hub>=0.4.0->sentence-transformers) (6.0.2)\n",
            "Requirement already satisfied: requests in /usr/local/lib/python3.10/dist-packages (from huggingface-hub>=0.4.0->sentence-transformers) (2.32.3)\n",
            "Requirement already satisfied: typing-extensions>=3.7.4.3 in /usr/local/lib/python3.10/dist-packages (from huggingface-hub>=0.4.0->sentence-transformers) (4.12.2)\n",
            "Requirement already satisfied: networkx in /usr/local/lib/python3.10/dist-packages (from torch>=1.6.0->sentence-transformers) (3.4.2)\n",
            "Requirement already satisfied: jinja2 in /usr/local/lib/python3.10/dist-packages (from torch>=1.6.0->sentence-transformers) (3.1.4)\n",
            "Requirement already satisfied: sympy==1.13.1 in /usr/local/lib/python3.10/dist-packages (from torch>=1.6.0->sentence-transformers) (1.13.1)\n",
            "Requirement already satisfied: mpmath<1.4,>=1.1.0 in /usr/local/lib/python3.10/dist-packages (from sympy==1.13.1->torch>=1.6.0->sentence-transformers) (1.3.0)\n",
            "Requirement already satisfied: regex!=2019.12.17 in /usr/local/lib/python3.10/dist-packages (from transformers<5.0.0,>=4.6.0->sentence-transformers) (2024.9.11)\n",
            "Requirement already satisfied: tokenizers<0.21,>=0.20 in /usr/local/lib/python3.10/dist-packages (from transformers<5.0.0,>=4.6.0->sentence-transformers) (0.20.3)\n",
            "Requirement already satisfied: safetensors>=0.4.1 in /usr/local/lib/python3.10/dist-packages (from transformers<5.0.0,>=4.6.0->sentence-transformers) (0.4.5)\n",
            "Requirement already satisfied: click in /usr/local/lib/python3.10/dist-packages (from nltk->sentence-transformers) (8.1.7)\n",
            "Requirement already satisfied: joblib in /usr/local/lib/python3.10/dist-packages (from nltk->sentence-transformers) (1.4.2)\n",
            "Requirement already satisfied: threadpoolctl>=3.1.0 in /usr/local/lib/python3.10/dist-packages (from scikit-learn->sentence-transformers) (3.5.0)\n",
            "Requirement already satisfied: pillow!=8.3.*,>=5.3.0 in /usr/local/lib/python3.10/dist-packages (from torchvision->sentence-transformers) (11.0.0)\n",
            "Requirement already satisfied: MarkupSafe>=2.0 in /usr/local/lib/python3.10/dist-packages (from jinja2->torch>=1.6.0->sentence-transformers) (3.0.2)\n",
            "Requirement already satisfied: charset-normalizer<4,>=2 in /usr/local/lib/python3.10/dist-packages (from requests->huggingface-hub>=0.4.0->sentence-transformers) (3.4.0)\n",
            "Requirement already satisfied: idna<4,>=2.5 in /usr/local/lib/python3.10/dist-packages (from requests->huggingface-hub>=0.4.0->sentence-transformers) (3.10)\n",
            "Requirement already satisfied: urllib3<3,>=1.21.1 in /usr/local/lib/python3.10/dist-packages (from requests->huggingface-hub>=0.4.0->sentence-transformers) (2.2.3)\n",
            "Requirement already satisfied: certifi>=2017.4.17 in /usr/local/lib/python3.10/dist-packages (from requests->huggingface-hub>=0.4.0->sentence-transformers) (2024.8.30)\n",
            "Requirement already satisfied: InstructorEmbedding in /usr/local/lib/python3.10/dist-packages (1.0.1)\n"
          ]
        }
      ],
      "source": [
        "!pip install sentence-transformers\n",
        "!pip install InstructorEmbedding"
      ]
    },
    {
      "cell_type": "code",
      "execution_count": 4,
      "metadata": {
        "colab": {
          "base_uri": "https://localhost:8080/"
        },
        "id": "VJuzPK4Mkjr8",
        "outputId": "ed29bb73-512f-4b2d-9d5a-1e3cbb446eb4"
      },
      "outputs": [
        {
          "output_type": "stream",
          "name": "stdout",
          "text": [
            "Requirement already satisfied: huggingface_hub in /usr/local/lib/python3.10/dist-packages (0.25.2)\n",
            "Collecting huggingface_hub\n",
            "  Using cached huggingface_hub-0.26.5-py3-none-any.whl.metadata (13 kB)\n",
            "Requirement already satisfied: filelock in /usr/local/lib/python3.10/dist-packages (from huggingface_hub) (3.16.1)\n",
            "Requirement already satisfied: fsspec>=2023.5.0 in /usr/local/lib/python3.10/dist-packages (from huggingface_hub) (2024.10.0)\n",
            "Requirement already satisfied: packaging>=20.9 in /usr/local/lib/python3.10/dist-packages (from huggingface_hub) (24.2)\n",
            "Requirement already satisfied: pyyaml>=5.1 in /usr/local/lib/python3.10/dist-packages (from huggingface_hub) (6.0.2)\n",
            "Requirement already satisfied: requests in /usr/local/lib/python3.10/dist-packages (from huggingface_hub) (2.32.3)\n",
            "Requirement already satisfied: tqdm>=4.42.1 in /usr/local/lib/python3.10/dist-packages (from huggingface_hub) (4.66.6)\n",
            "Requirement already satisfied: typing-extensions>=3.7.4.3 in /usr/local/lib/python3.10/dist-packages (from huggingface_hub) (4.12.2)\n",
            "Requirement already satisfied: charset-normalizer<4,>=2 in /usr/local/lib/python3.10/dist-packages (from requests->huggingface_hub) (3.4.0)\n",
            "Requirement already satisfied: idna<4,>=2.5 in /usr/local/lib/python3.10/dist-packages (from requests->huggingface_hub) (3.10)\n",
            "Requirement already satisfied: urllib3<3,>=1.21.1 in /usr/local/lib/python3.10/dist-packages (from requests->huggingface_hub) (2.2.3)\n",
            "Requirement already satisfied: certifi>=2017.4.17 in /usr/local/lib/python3.10/dist-packages (from requests->huggingface_hub) (2024.8.30)\n",
            "Using cached huggingface_hub-0.26.5-py3-none-any.whl (447 kB)\n",
            "Installing collected packages: huggingface_hub\n",
            "  Attempting uninstall: huggingface_hub\n",
            "    Found existing installation: huggingface-hub 0.25.2\n",
            "    Uninstalling huggingface-hub-0.25.2:\n",
            "      Successfully uninstalled huggingface-hub-0.25.2\n",
            "Successfully installed huggingface_hub-0.26.5\n",
            "Collecting huggingface_hub==0.25.2\n",
            "  Using cached huggingface_hub-0.25.2-py3-none-any.whl.metadata (13 kB)\n",
            "Requirement already satisfied: filelock in /usr/local/lib/python3.10/dist-packages (from huggingface_hub==0.25.2) (3.16.1)\n",
            "Requirement already satisfied: fsspec>=2023.5.0 in /usr/local/lib/python3.10/dist-packages (from huggingface_hub==0.25.2) (2024.10.0)\n",
            "Requirement already satisfied: packaging>=20.9 in /usr/local/lib/python3.10/dist-packages (from huggingface_hub==0.25.2) (24.2)\n",
            "Requirement already satisfied: pyyaml>=5.1 in /usr/local/lib/python3.10/dist-packages (from huggingface_hub==0.25.2) (6.0.2)\n",
            "Requirement already satisfied: requests in /usr/local/lib/python3.10/dist-packages (from huggingface_hub==0.25.2) (2.32.3)\n",
            "Requirement already satisfied: tqdm>=4.42.1 in /usr/local/lib/python3.10/dist-packages (from huggingface_hub==0.25.2) (4.66.6)\n",
            "Requirement already satisfied: typing-extensions>=3.7.4.3 in /usr/local/lib/python3.10/dist-packages (from huggingface_hub==0.25.2) (4.12.2)\n",
            "Requirement already satisfied: charset-normalizer<4,>=2 in /usr/local/lib/python3.10/dist-packages (from requests->huggingface_hub==0.25.2) (3.4.0)\n",
            "Requirement already satisfied: idna<4,>=2.5 in /usr/local/lib/python3.10/dist-packages (from requests->huggingface_hub==0.25.2) (3.10)\n",
            "Requirement already satisfied: urllib3<3,>=1.21.1 in /usr/local/lib/python3.10/dist-packages (from requests->huggingface_hub==0.25.2) (2.2.3)\n",
            "Requirement already satisfied: certifi>=2017.4.17 in /usr/local/lib/python3.10/dist-packages (from requests->huggingface_hub==0.25.2) (2024.8.30)\n",
            "Using cached huggingface_hub-0.25.2-py3-none-any.whl (436 kB)\n",
            "Installing collected packages: huggingface_hub\n",
            "  Attempting uninstall: huggingface_hub\n",
            "    Found existing installation: huggingface-hub 0.26.5\n",
            "    Uninstalling huggingface-hub-0.26.5:\n",
            "      Successfully uninstalled huggingface-hub-0.26.5\n",
            "Successfully installed huggingface_hub-0.25.2\n"
          ]
        }
      ],
      "source": [
        "!pip install --upgrade huggingface_hub\n",
        "!pip install huggingface_hub==0.25.2"
      ]
    },
    {
      "cell_type": "code",
      "source": [
        "drive.mount('/content/drive')\n",
        "\n",
        "sys.path.append('/content/drive/My Drive/AD Final Experiments')\n",
        "\n",
        "file_path = '/content/drive/My Drive/AD Identification using SATD/liu_datset_processed.csv'\n",
        "data = preprocess_data(file_path)\n",
        "#X_train_final, X_val, X_test, y_train_final, y_val, y_test = split_data(data)\n",
        "\n",
        "print(\"Data preprocessing complete!\")"
      ],
      "metadata": {
        "colab": {
          "base_uri": "https://localhost:8080/"
        },
        "id": "x1_xi3gMS1fl",
        "outputId": "1126093d-eec5-462d-918c-599da021149d"
      },
      "execution_count": 27,
      "outputs": [
        {
          "output_type": "stream",
          "name": "stdout",
          "text": [
            "Drive already mounted at /content/drive; to attempt to forcibly remount, call drive.mount(\"/content/drive\", force_remount=True).\n",
            "Data preprocessing complete!\n"
          ]
        }
      ]
    },
    {
      "cell_type": "code",
      "source": [
        "from InstructorEmbedding import INSTRUCTOR\n",
        "\n",
        "# Initialize Instructor Model\n",
        "model = INSTRUCTOR('hkunlp/instructor-large')\n",
        "\n",
        "# Load Dataset\n",
        "liu_data = data\n",
        "\n",
        "# Map Labels to Integers\n",
        "class_mapping = {label: idx for idx, label in enumerate(liu_data['TDType'].unique())}\n",
        "liu_data['label'] = liu_data['TDType'].map(class_mapping)\n",
        "\n",
        "# Split Dataset into Train, Validation, and Test Sets\n",
        "X_train, X_test, y_train, y_test = train_test_split(liu_data['Comments'], liu_data['label'], test_size=0.2, random_state=42, stratify=liu_data['label'])\n",
        "X_train_final, X_val, y_train_final, y_val = train_test_split(X_train, y_train, test_size=0.2, random_state=42)\n",
        "\n",
        "\n",
        "# Prepare Comments with Instructions\n",
        "def prepare_text_instruction_pairs(texts):\n",
        "    instruction = \"Represent the following technical debt comments for classification:\"\n",
        "    return [[instruction, text] for text in texts]\n",
        "\n",
        "train_texts = prepare_text_instruction_pairs(X_train_final.tolist())\n",
        "val_texts = prepare_text_instruction_pairs(X_val.tolist())\n",
        "test_texts = prepare_text_instruction_pairs(X_test.tolist())\n",
        "\n",
        "# Generate Embeddings\n",
        "def calculate_embeddings(model, texts):\n",
        "    return model.encode(texts)\n",
        "\n",
        "train_embeddings = calculate_embeddings(model, train_texts)\n",
        "val_embeddings = calculate_embeddings(model, val_texts)\n",
        "test_embeddings = calculate_embeddings(model, test_texts)\n",
        "\n",
        "# Combine Embeddings and Labels into DataFrames\n",
        "train_df = pd.DataFrame(train_embeddings)\n",
        "train_df['label'] = y_train_final.values\n",
        "\n",
        "val_df = pd.DataFrame(val_embeddings)\n",
        "val_df['label'] = y_val.values\n",
        "\n",
        "test_df = pd.DataFrame(test_embeddings)\n",
        "test_df['label'] = y_test.values\n",
        "\n",
        "# Save to CSV\n",
        "train_df.to_csv('train_embeddings__.csv', index=False)\n",
        "val_df.to_csv('val_embeddings__.csv', index=False)\n",
        "test_df.to_csv('test_embeddings__.csv', index=False)\n",
        "\n",
        "print(\"Embeddings__ for Train, Validation, and Test sets have been saved.\")\n"
      ],
      "metadata": {
        "colab": {
          "base_uri": "https://localhost:8080/"
        },
        "id": "ZvF6J3a5TPjY",
        "outputId": "9867b842-034b-4586-83d2-7f6c5ef86448"
      },
      "execution_count": 12,
      "outputs": [
        {
          "output_type": "stream",
          "name": "stdout",
          "text": [
            "load INSTRUCTOR_Transformer\n",
            "max_seq_length  512\n",
            "Embeddings__ for Train, Validation, and Test sets have been saved.\n"
          ]
        }
      ]
    },
    {
      "cell_type": "code",
      "source": [
        "import pandas as pd\n",
        "from sklearn.linear_model import LogisticRegression\n",
        "from sklearn.preprocessing import StandardScaler\n",
        "from sklearn.pipeline import Pipeline\n",
        "from sklearn.metrics import accuracy_score, f1_score, classification_report\n",
        "from itertools import product\n",
        "import warnings\n",
        "\n",
        "# Suppress warnings for cleaner output\n",
        "warnings.filterwarnings(\"ignore\")\n",
        "\n",
        "# Load Precomputed Embeddings\n",
        "train_df = pd.read_csv('train_embeddings__.csv')\n",
        "val_df = pd.read_csv('val_embeddings__.csv')\n",
        "test_df = pd.read_csv('test_embeddings__.csv')\n",
        "\n",
        "# Separate Features (X) and Labels (y)\n",
        "X_train, y_train = train_df.iloc[:, :-1], train_df['label']\n",
        "X_val, y_val = val_df.iloc[:, :-1], val_df['label']\n",
        "X_test, y_test = test_df.iloc[:, :-1], test_df['label']\n",
        "\n",
        "# Define Hyperparameter Grid for Logistic Regression\n",
        "param_grid = {\n",
        "    'C': [0.01, 1, 10],\n",
        "    'penalty': ['l2'],  # Regularization (ElasticNet is not supported for dense embeddings)\n",
        "    'max_iter': [100, 200]\n",
        "}\n",
        "\n",
        "# Initialize Variables to Track the Best Model\n",
        "best_score = -1\n",
        "best_params = None\n",
        "best_model = None\n",
        "\n",
        "# Hyperparameter Tuning Loop\n",
        "for C, penalty, max_iter in product(param_grid['C'], param_grid['penalty'], param_grid['max_iter']):\n",
        "    solver = 'lbfgs'  # Solver suitable for 'l2' regularization\n",
        "\n",
        "    try:\n",
        "        # Build Pipeline with StandardScaler and Logistic Regression\n",
        "        pipeline = Pipeline([\n",
        "            ('scaler', StandardScaler()),\n",
        "            ('clf', LogisticRegression(\n",
        "                C=C, penalty=penalty, max_iter=max_iter, solver=solver,\n",
        "                random_state=42, class_weight='balanced'\n",
        "            ))\n",
        "        ])\n",
        "\n",
        "        # Train the Model\n",
        "        pipeline.fit(X_train, y_train)\n",
        "\n",
        "        # Validate the Model on the Validation Set\n",
        "        y_val_pred = pipeline.predict(X_val)\n",
        "        score = accuracy_score(y_val, y_val_pred)\n",
        "\n",
        "        # Update the Best Model if Current Validation Score is Higher\n",
        "        if score > best_score:\n",
        "            best_score = score\n",
        "            best_params = {'C': C, 'penalty': penalty, 'max_iter': max_iter}\n",
        "            best_model = pipeline\n",
        "\n",
        "    except Exception as e:\n",
        "        print(f\"Skipping configuration C={C}, penalty={penalty}, max_iter={max_iter} due to error: {e}\")\n",
        "\n",
        "# Evaluate the Best Model on the Test Set\n",
        "if best_model:\n",
        "    y_test_pred = best_model.predict(X_test)\n",
        "\n",
        "    print(\"Best Model Parameters:\", best_params)\n",
        "    print(\"Validation Accuracy of Best Model:\", best_score)\n",
        "\n",
        "    print(\"\\nTest Set Evaluation:\")\n",
        "    print(\"Accuracy:\", accuracy_score(y_test, y_test_pred))\n",
        "    print(\"F1 Score:\", f1_score(y_test, y_test_pred, average='weighted'))\n",
        "    print(\"Classification Report:\\n\", classification_report(y_test, y_test_pred))\n",
        "else:\n",
        "    print(\"No valid model was found during hyperparameter tuning.\")\n"
      ],
      "metadata": {
        "colab": {
          "base_uri": "https://localhost:8080/"
        },
        "id": "QDWbBuM7FN91",
        "outputId": "879534e6-f596-4a28-f9ca-f35c3448eee9"
      },
      "execution_count": 21,
      "outputs": [
        {
          "output_type": "stream",
          "name": "stdout",
          "text": [
            "Best Model Parameters: {'C': 1, 'penalty': 'l2', 'max_iter': 100}\n",
            "Validation Accuracy of Best Model: 0.7755627009646302\n",
            "\n",
            "Test Set Evaluation:\n",
            "Accuracy: 0.7742765273311897\n",
            "F1 Score: 0.7960433578396509\n",
            "Classification Report:\n",
            "               precision    recall  f1-score   support\n",
            "\n",
            "           0       0.20      0.54      0.30       187\n",
            "           1       0.23      0.52      0.32        91\n",
            "           2       0.25      0.63      0.36       132\n",
            "           3       0.83      0.57      0.67      2178\n",
            "           4       0.37      0.69      0.48        32\n",
            "           5       0.42      0.69      0.53       393\n",
            "           6       0.44      0.66      0.52       131\n",
            "           7       0.96      0.90      0.93      4631\n",
            "\n",
            "    accuracy                           0.77      7775\n",
            "   macro avg       0.46      0.65      0.51      7775\n",
            "weighted avg       0.84      0.77      0.80      7775\n",
            "\n"
          ]
        }
      ]
    },
    {
      "cell_type": "code",
      "source": [],
      "metadata": {
        "id": "g_CcF3DQFN5X"
      },
      "execution_count": null,
      "outputs": []
    }
  ],
  "metadata": {
    "accelerator": "GPU",
    "colab": {
      "gpuType": "T4",
      "machine_shape": "hm",
      "provenance": [],
      "include_colab_link": true
    },
    "kernelspec": {
      "display_name": "Python 3",
      "name": "python3"
    },
    "language_info": {
      "name": "python"
    }
  },
  "nbformat": 4,
  "nbformat_minor": 0
}