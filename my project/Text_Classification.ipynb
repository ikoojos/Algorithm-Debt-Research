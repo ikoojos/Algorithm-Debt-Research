{
  "cells": [
    {
      "cell_type": "code",
      "source": [
        "import warnings\n",
        "\n",
        "# Ignore all warnings\n",
        "warnings.filterwarnings(\"ignore\")"
      ],
      "metadata": {
        "id": "DcsKeqbTQnon"
      },
      "execution_count": 29,
      "outputs": []
    },
    {
      "cell_type": "code",
      "execution_count": 2,
      "metadata": {
        "colab": {
          "base_uri": "https://localhost:8080/"
        },
        "id": "DMA9H5i62C9Z",
        "outputId": "17da699a-1517-468e-d222-49af1ace537f"
      },
      "outputs": [
        {
          "output_type": "stream",
          "name": "stdout",
          "text": [
            "Mounted at /content/drive\n",
            "/content/drive/My Drive/Plots\n"
          ]
        }
      ],
      "source": [
        "from google.colab import drive\n",
        "drive.mount('/content/drive')\n",
        "%cd '/content/drive/My Drive/Plots'"
      ]
    },
    {
      "cell_type": "code",
      "execution_count": 30,
      "metadata": {
        "id": "IhAMrUt62QZD"
      },
      "outputs": [],
      "source": [
        "import matplotlib.pyplot as plt\n",
        "import pandas as pd\n",
        "import numpy as np\n",
        "import matplotlib.colors as mcolors\n",
        "\n",
        "\n",
        "import pandas as pd\n",
        "import seaborn as sns\n",
        "import matplotlib.pyplot as plt\n",
        "\n"
      ]
    },
    {
      "cell_type": "code",
      "execution_count": 31,
      "metadata": {
        "id": "MItX6IAvtxPx"
      },
      "outputs": [],
      "source": [
        "import pandas as pd\n",
        "\n",
        "# Specify the file path to your CSV file\n",
        "obrien = '/content/drive/My Drive/Plots/Obrien2022.csv'\n",
        "vidoni = '/content/drive/My Drive/Plots/Vidoni2021.csv'\n",
        "liu = '/content/drive/My Drive/Plots/LiuOnly2020.csv'\n",
        "\n",
        "# Read the CSV file into a DataFrame\n",
        "obrien = pd.read_csv(obrien, low_memory=False)\n",
        "vidoni = pd.read_csv(vidoni, low_memory=False)\n",
        "liu = pd.read_csv(liu, low_memory=False)\n",
        "# Now dfq contains the data from your CSV file\n"
      ]
    },
    {
      "cell_type": "code",
      "source": [
        "import pandas as pd\n",
        "from sklearn.model_selection import train_test_split\n",
        "from sklearn.feature_extraction.text import TfidfVectorizer\n",
        "from sklearn.naive_bayes import MultinomialNB\n",
        "from sklearn.metrics import classification_report, accuracy_score\n",
        "\n",
        "# Load the dataset\n",
        "data = vidoni\n",
        "\n",
        "# Split the dataset into features (X) and target labels (y)\n",
        "X = data['Comments']\n",
        "y = data['TDType']\n",
        "\n",
        "# Text preprocessing and feature extraction using TF-IDF\n",
        "vectorizer = TfidfVectorizer(stop_words='english')\n",
        "X = vectorizer.fit_transform(X)\n",
        "\n",
        "# Split the dataset into training and testing sets\n",
        "X_train, X_test, y_train, y_test = train_test_split(X, y, test_size=0.2, random_state=42)\n",
        "\n",
        "\n"
      ],
      "metadata": {
        "id": "FAw-4J2yK9JR"
      },
      "execution_count": 32,
      "outputs": []
    },
    {
      "cell_type": "code",
      "source": [
        "# Initialize and train the classifier (e.g., Naive Bayes)\n",
        "classifier = MultinomialNB()\n",
        "classifier.fit(X_train, y_train)\n",
        "\n",
        "# Predict the labels for the test set\n",
        "y_pred = classifier.predict(X_test)\n",
        "\n",
        "# Evaluate the classifier\n",
        "print(classification_report(y_test, y_pred))"
      ],
      "metadata": {
        "colab": {
          "base_uri": "https://localhost:8080/"
        },
        "id": "6iAt4heeOzn-",
        "outputId": "42aef212-e0e0-4f8e-8e64-3681120e55f7"
      },
      "execution_count": 33,
      "outputs": [
        {
          "output_type": "stream",
          "name": "stdout",
          "text": [
            "               precision    recall  f1-score   support\n",
            "\n",
            "    ALGORITHM       0.00      0.00      0.00        47\n",
            " ARCHITECTURE       1.00      0.07      0.13        57\n",
            "        BUILD       0.00      0.00      0.00        29\n",
            "         CODE       0.49      1.00      0.65       428\n",
            "       DEFECT       0.83      0.07      0.13       138\n",
            "       DESIGN       1.00      0.02      0.05        43\n",
            "DOCUMENTATION       0.00      0.00      0.00         7\n",
            "       PEOPLE       0.00      0.00      0.00         8\n",
            " REQUIREMENTS       1.00      0.05      0.09        62\n",
            "         TEST       0.98      0.63      0.77       151\n",
            "    USABILITY       0.00      0.00      0.00        19\n",
            "   VERSIONING       0.00      0.00      0.00         4\n",
            "\n",
            "     accuracy                           0.54       993\n",
            "    macro avg       0.44      0.15      0.15       993\n",
            " weighted avg       0.64      0.54      0.43       993\n",
            "\n"
          ]
        }
      ]
    },
    {
      "cell_type": "code",
      "source": [
        "\n",
        "from sklearn.model_selection import GridSearchCV\n",
        "\n",
        "\n",
        "# Preprocessing: Convert text to lowercase and remove punctuation\n",
        "data['Comments'] = data['Comments'].str.lower()\n",
        "data['Comments'] = data['Comments'].str.replace('[^\\w\\s]', '')\n",
        "\n",
        "# Split the data into train and test sets\n",
        "X_train, X_test, y_train, y_test = train_test_split(data['Comments'], data['TDType'], test_size=0.2, random_state=42)\n",
        "\n",
        "# Vectorize the text data using TF-IDF vectorizer\n",
        "tfidf_vectorizer = TfidfVectorizer()\n",
        "X_train_tfidf = tfidf_vectorizer.fit_transform(X_train)\n",
        "X_test_tfidf = tfidf_vectorizer.transform(X_test)\n",
        "\n",
        "# Initialize and train the classifier (Multinomial Naive Bayes)\n",
        "clf = MultinomialNB()\n",
        "clf.fit(X_train_tfidf, y_train)\n",
        "\n",
        "# Evaluate the classifier\n",
        "y_pred = clf.predict(X_test_tfidf)\n",
        "print(\"Accuracy:\", accuracy_score(y_test, y_pred))\n",
        "print(\"Classification Report:\")\n",
        "print(classification_report(y_test, y_pred))\n",
        "\n",
        "# Perform hyperparameter tuning using GridSearchCV\n",
        "parameters = {'alpha': [0.01, 0.1, 1.0, 10.0]}\n",
        "grid_search = GridSearchCV(clf, parameters, cv=5)\n",
        "grid_search.fit(X_train_tfidf, y_train)\n",
        "\n",
        "print(\"Best parameters found:\", grid_search.best_params_)\n",
        "\n",
        "# Re-train the classifier with the best parameters\n",
        "best_clf = grid_search.best_estimator_\n",
        "best_clf.fit(X_train_tfidf, y_train)\n",
        "\n",
        "# Evaluate the classifier with the best parameters\n",
        "y_pred_best = best_clf.predict(X_test_tfidf)\n",
        "print(\"Accuracy with best parameters:\", accuracy_score(y_test, y_pred_best))\n",
        "print(\"Classification Report with best parameters:\")\n",
        "print(classification_report(y_test, y_pred_best))\n"
      ],
      "metadata": {
        "colab": {
          "base_uri": "https://localhost:8080/"
        },
        "id": "zncVMXkDLWOP",
        "outputId": "a2405dbc-9b6c-4696-c62a-7f7e9c0f46d0"
      },
      "execution_count": 34,
      "outputs": [
        {
          "output_type": "stream",
          "name": "stdout",
          "text": [
            "Accuracy: 0.5246727089627392\n",
            "Classification Report:\n",
            "               precision    recall  f1-score   support\n",
            "\n",
            "    ALGORITHM       0.00      0.00      0.00        47\n",
            " ARCHITECTURE       1.00      0.07      0.13        57\n",
            "        BUILD       0.00      0.00      0.00        29\n",
            "         CODE       0.48      1.00      0.64       428\n",
            "       DEFECT       0.86      0.04      0.08       138\n",
            "       DESIGN       0.00      0.00      0.00        43\n",
            "DOCUMENTATION       0.00      0.00      0.00         7\n",
            "       PEOPLE       0.00      0.00      0.00         8\n",
            " REQUIREMENTS       1.00      0.03      0.06        62\n",
            "         TEST       0.99      0.55      0.71       151\n",
            "    USABILITY       0.00      0.00      0.00        19\n",
            "   VERSIONING       0.00      0.00      0.00         4\n",
            "\n",
            "     accuracy                           0.52       993\n",
            "    macro avg       0.36      0.14      0.14       993\n",
            " weighted avg       0.59      0.52      0.41       993\n",
            "\n",
            "Best parameters found: {'alpha': 0.1}\n",
            "Accuracy with best parameters: 0.6122860020140987\n",
            "Classification Report with best parameters:\n",
            "               precision    recall  f1-score   support\n",
            "\n",
            "    ALGORITHM       0.57      0.09      0.15        47\n",
            " ARCHITECTURE       0.80      0.21      0.33        57\n",
            "        BUILD       1.00      0.28      0.43        29\n",
            "         CODE       0.56      0.92      0.69       428\n",
            "       DEFECT       0.57      0.39      0.46       138\n",
            "       DESIGN       0.83      0.12      0.20        43\n",
            "DOCUMENTATION       0.00      0.00      0.00         7\n",
            "       PEOPLE       0.00      0.00      0.00         8\n",
            " REQUIREMENTS       0.62      0.29      0.40        62\n",
            "         TEST       0.91      0.72      0.80       151\n",
            "    USABILITY       1.00      0.11      0.19        19\n",
            "   VERSIONING       0.67      0.50      0.57         4\n",
            "\n",
            "     accuracy                           0.61       993\n",
            "    macro avg       0.63      0.30      0.35       993\n",
            " weighted avg       0.66      0.61      0.56       993\n",
            "\n"
          ]
        }
      ]
    },
    {
      "cell_type": "code",
      "source": [
        "from sklearn.neighbors import KNeighborsClassifier\n",
        "\n",
        "\n",
        "# Split the data into training and testing sets\n",
        "X_train, X_test, y_train, y_test = train_test_split(X, y, test_size=0.2, random_state=42)\n",
        "\n",
        "# Initialize the KNN classifier\n",
        "knn = KNeighborsClassifier(n_neighbors=5)\n",
        "\n",
        "# Train the classifier\n",
        "knn.fit(X_train, y_train)\n",
        "\n",
        "# Make predictions\n",
        "y_pred = knn.predict(X_test)\n",
        "\n",
        "# Evaluate the classifier\n",
        "print(classification_report(y_test, y_pred))\n",
        "print(\"Accuracy:\", accuracy_score(y_test, y_pred))\n",
        "\n"
      ],
      "metadata": {
        "colab": {
          "base_uri": "https://localhost:8080/"
        },
        "id": "NYu4oSaCMS4v",
        "outputId": "127838b7-3ce9-4736-f787-fbe35fab5245"
      },
      "execution_count": 35,
      "outputs": [
        {
          "output_type": "stream",
          "name": "stdout",
          "text": [
            "               precision    recall  f1-score   support\n",
            "\n",
            "    ALGORITHM       0.29      0.04      0.07        47\n",
            " ARCHITECTURE       1.00      0.12      0.22        57\n",
            "        BUILD       1.00      0.21      0.34        29\n",
            "         CODE       0.48      0.98      0.65       428\n",
            "       DEFECT       0.73      0.06      0.11       138\n",
            "       DESIGN       0.67      0.05      0.09        43\n",
            "DOCUMENTATION       1.00      0.14      0.25         7\n",
            "       PEOPLE       0.00      0.00      0.00         8\n",
            " REQUIREMENTS       1.00      0.15      0.25        62\n",
            "         TEST       0.97      0.49      0.65       151\n",
            "    USABILITY       1.00      0.05      0.10        19\n",
            "   VERSIONING       0.67      0.50      0.57         4\n",
            "\n",
            "     accuracy                           0.54       993\n",
            "    macro avg       0.73      0.23      0.28       993\n",
            " weighted avg       0.68      0.54      0.44       993\n",
            "\n",
            "Accuracy: 0.5357502517623364\n"
          ]
        }
      ]
    },
    {
      "cell_type": "code",
      "source": [],
      "metadata": {
        "id": "Nw0_ijPdNefA"
      },
      "execution_count": 35,
      "outputs": []
    }
  ],
  "metadata": {
    "colab": {
      "provenance": [],
      "machine_shape": "hm"
    },
    "kernelspec": {
      "display_name": "Python 3",
      "name": "python3"
    },
    "language_info": {
      "name": "python"
    }
  },
  "nbformat": 4,
  "nbformat_minor": 0
}