{
  "cells": [
    {
      "cell_type": "code",
      "execution_count": null,
      "metadata": {
        "id": "DcsKeqbTQnon"
      },
      "outputs": [],
      "source": [
        " import warnings\n",
        "\n",
        "# Ignore all warnings\n",
        "warnings.filterwarnings(\"ignore\")"
      ]
    },
    {
      "cell_type": "code",
      "execution_count": null,
      "metadata": {
        "colab": {
          "base_uri": "https://localhost:8080/"
        },
        "id": "DMA9H5i62C9Z",
        "outputId": "cabb1fa7-3ab6-4a38-d070-c5cea6f027fd"
      },
      "outputs": [
        {
          "output_type": "stream",
          "name": "stdout",
          "text": [
            "Mounted at /content/drive\n",
            "/content/drive/My Drive/AD Identification using SATD\n"
          ]
        }
      ],
      "source": [
        "from google.colab import drive\n",
        "drive.mount('/content/drive')\n",
        "%cd '/content/drive/My Drive/AD Identification using SATD'"
      ]
    },
    {
      "cell_type": "code",
      "source": [
        "import pandas as pd\n",
        "import numpy as np\n",
        "\n",
        "from sklearn.model_selection import train_test_split\n",
        "from sklearn.feature_extraction.text import CountVectorizer, TfidfVectorizer, HashingVectorizer\n",
        "from sklearn.ensemble import RandomForestClassifier\n",
        "from sklearn.metrics import accuracy_score, classification_report, confusion_matrix\n",
        "from sklearn.preprocessing import LabelEncoder, MultiLabelBinarizer\n",
        "\n",
        "from sklearn.multioutput import MultiOutputClassifier\n",
        "\n",
        "from sklearn.model_selection import train_test_split, StratifiedKFold, GridSearchCV\n",
        "from sklearn.pipeline import Pipeline\n",
        "from sklearn.preprocessing import StandardScaler\n"
      ],
      "metadata": {
        "id": "nQG-5iLoKAVm"
      },
      "execution_count": null,
      "outputs": []
    },
    {
      "cell_type": "markdown",
      "metadata": {
        "id": "cF-tbskFeYnn"
      },
      "source": [
        "#Read the dataset and process"
      ]
    },
    {
      "cell_type": "code",
      "execution_count": null,
      "metadata": {
        "id": "MItX6IAvtxPx"
      },
      "outputs": [],
      "source": [
        "\n",
        "liu_ = '/content/drive/My Drive/AD Identification using SATD/liu_datset_processed.csv'\n",
        "liu_ = pd.read_csv(liu_, low_memory=False)"
      ]
    },
    {
      "cell_type": "code",
      "execution_count": null,
      "metadata": {
        "id": "vNrWN2oDsJDZ"
      },
      "outputs": [],
      "source": [
        "liu_['Comments'].fillna('', inplace=True)\n",
        "liu_['TDType'] = liu_['TDType'].astype(str)\n",
        "\n",
        "values_to_remove = ['MULTITHREAD', 'nan', 'removeType']\n",
        "replacement_value = 'WITHOUT_CLASSIFICATION'\n",
        "liu_['TDType'].replace(values_to_remove, replacement_value, inplace=True)\n",
        "\n",
        "liu_['Comments'] = liu_['Comments'].str.replace('content=', '', regex=False)\n",
        "liu_['Comments'] = liu_['Comments'].str.replace('\"', '', regex=False)\n",
        "liu_ = liu_.drop_duplicates(subset=['Comments', 'TDType'])\n",
        "liu_['TDType'] = liu_['TDType'].replace('removeType', 'WITHOUT_CLASSIFICATION')"
      ]
    },
    {
      "cell_type": "code",
      "execution_count": null,
      "metadata": {
        "colab": {
          "base_uri": "https://localhost:8080/"
        },
        "id": "-rOU-PcknHuX",
        "outputId": "4d0b22a2-1da2-43a1-d398-dc4f95303ba8"
      },
      "outputs": [
        {
          "output_type": "stream",
          "name": "stdout",
          "text": [
            "Number of duplicate rows: 0\n"
          ]
        }
      ],
      "source": [
        "# Count the number of duplicate rows in the DataFrame\n",
        "num_duplicates = liu_.duplicated().sum()\n",
        "\n",
        "print(f\"Number of duplicate rows: {num_duplicates}\")\n"
      ]
    },
    {
      "cell_type": "markdown",
      "source": [
        "##RF __CV"
      ],
      "metadata": {
        "id": "_o37yvXtHb4Q"
      }
    },
    {
      "cell_type": "code",
      "execution_count": null,
      "metadata": {
        "colab": {
          "base_uri": "https://localhost:8080/"
        },
        "id": "JZtLUCf5X4Hg",
        "outputId": "7ac62a2b-bdfd-44b8-8877-5379ec9f6354"
      },
      "outputs": [
        {
          "name": "stdout",
          "output_type": "stream",
          "text": [
            "Fitting 5 folds for each of 64 candidates, totalling 320 fits\n",
            "Best parameters found: {'clf__max_depth': None, 'clf__min_samples_leaf': 1, 'clf__min_samples_split': 2, 'clf__n_estimators': 200}\n",
            "Validation Confusion Matrix:\n",
            "[[  18    0    0   49    0    2    0   22]\n",
            " [   0   14    0   20    0    2    0   10]\n",
            " [   0    0   16   40    1    0    0   10]\n",
            " [   2    1    3  909    0   38    0   96]\n",
            " [   0    0    0    4    6    0    0    0]\n",
            " [   1    0    1   77    1  131    0   12]\n",
            " [   0    0    1   30    0    1   32    4]\n",
            " [   1    1    0   41    0    0    0 2291]]\n",
            "\n",
            "Validation Classification Report:\n",
            "                        precision    recall  f1-score   support\n",
            "\n",
            "             ALGORITHM       0.82      0.20      0.32        91\n",
            "         COMPATIBILITY       0.88      0.30      0.45        46\n",
            "                DEFECT       0.76      0.24      0.36        67\n",
            "                DESIGN       0.78      0.87      0.82      1049\n",
            "         DOCUMENTATION       0.75      0.60      0.67        10\n",
            "        IMPLEMENTATION       0.75      0.59      0.66       223\n",
            "                  TEST       1.00      0.47      0.64        68\n",
            "WITHOUT_CLASSIFICATION       0.94      0.98      0.96      2334\n",
            "\n",
            "              accuracy                           0.88      3888\n",
            "             macro avg       0.83      0.53      0.61      3888\n",
            "          weighted avg       0.88      0.88      0.87      3888\n",
            "\n",
            "\n",
            "Test Confusion Matrix:\n",
            "[[  59    0    0   96    1    4    0   40]\n",
            " [   0   28    0   42    0    3    0   16]\n",
            " [   0    0   42   64    0    3    3   23]\n",
            " [   3    0    3 1981    0   47    2  170]\n",
            " [   0    0    0    9    9    3    0    2]\n",
            " [   0    0    4  156    0  212    0   15]\n",
            " [   0    0    0   70    0    3   55   15]\n",
            " [   4    1    1   75    1    0    0 4510]]\n",
            "\n",
            "Test Classification Report:\n",
            "                        precision    recall  f1-score   support\n",
            "\n",
            "             ALGORITHM       0.89      0.29      0.44       200\n",
            "         COMPATIBILITY       0.97      0.31      0.47        89\n",
            "                DEFECT       0.84      0.31      0.45       135\n",
            "                DESIGN       0.79      0.90      0.84      2206\n",
            "         DOCUMENTATION       0.82      0.39      0.53        23\n",
            "        IMPLEMENTATION       0.77      0.55      0.64       387\n",
            "                  TEST       0.92      0.38      0.54       143\n",
            "WITHOUT_CLASSIFICATION       0.94      0.98      0.96      4592\n",
            "\n",
            "              accuracy                           0.89      7775\n",
            "             macro avg       0.87      0.52      0.61      7775\n",
            "          weighted avg       0.89      0.89      0.88      7775\n",
            "\n"
          ]
        }
      ],
      "source": [
        "data = liu_\n",
        "\n",
        "# Split data into train and test sets (80% train, 20% test)\n",
        "X_train, X_test, y_train, y_test = train_test_split(data['Comments'], data['TDType'], test_size=0.2, random_state=42)\n",
        "\n",
        "# Further split the training set into training and validation sets\n",
        "X_train_final, X_val, y_train_final, y_val = train_test_split(X_train, y_train, test_size=0.125, random_state=42)\n",
        "\n",
        "pipeline = Pipeline([\n",
        "    ('countVectorizer', CountVectorizer()),\n",
        "    ('scaler', StandardScaler(with_mean=False)),\n",
        "    ('clf', RandomForestClassifier(random_state=42))\n",
        "])\n",
        "\n",
        "# Define the parameter grid for hyperparameter tuning\n",
        "param_grid = {\n",
        "    'clf__n_estimators': [100, 200],\n",
        "    'clf__max_depth': [None, 10, 20, 30],\n",
        "    'clf__min_samples_split': [None,2, 5, 10],\n",
        "    'clf__min_samples_leaf': [1, 2],\n",
        "\n",
        "}\n",
        "\n",
        "\n",
        "# Set up GridSearchCV with cross-validation\n",
        "grid_search = GridSearchCV(estimator=pipeline, param_grid=param_grid,\n",
        "                           cv=StratifiedKFold(n_splits=5, shuffle=True, random_state=42),\n",
        "                           scoring='accuracy', n_jobs=-1, verbose=2)\n",
        "\n",
        "# Fit the grid search model\n",
        "grid_search.fit(X_train_final, y_train_final)\n",
        "\n",
        "# Print the best parameters found by GridSearchCV\n",
        "print(\"Best parameters found:\", grid_search.best_params_)\n",
        "\n",
        "# Evaluate the best model on the validation set\n",
        "best_model = grid_search.best_estimator_\n",
        "y_val_pred = best_model.predict(X_val)\n",
        "conf_matrix_val = confusion_matrix(y_val, y_val_pred)\n",
        "classification_rep_val = classification_report(y_val, y_val_pred)\n",
        "\n",
        "print(\"Validation Confusion Matrix:\")\n",
        "print(conf_matrix_val)\n",
        "print(\"\\nValidation Classification Report:\")\n",
        "print(classification_rep_val)\n",
        "\n",
        "# Evaluate the best model on the test set\n",
        "y_test_pred = best_model.predict(X_test)\n",
        "conf_matrix_test = confusion_matrix(y_test, y_test_pred)\n",
        "classification_rep_test = classification_report(y_test, y_test_pred)\n",
        "\n",
        "print(\"\\nTest Confusion Matrix:\")\n",
        "print(conf_matrix_test)\n",
        "print(\"\\nTest Classification Report:\")\n",
        "print(classification_rep_test)\n"
      ]
    }
  ],
  "metadata": {
    "colab": {
      "gpuType": "T4",
      "machine_shape": "hm",
      "provenance": []
    },
    "kernelspec": {
      "display_name": "Python 3",
      "name": "python3"
    },
    "language_info": {
      "name": "python"
    }
  },
  "nbformat": 4,
  "nbformat_minor": 0
}