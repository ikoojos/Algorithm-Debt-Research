{
  "cells": [
    {
      "cell_type": "markdown",
      "metadata": {
        "id": "view-in-github",
        "colab_type": "text"
      },
      "source": [
        "<a href=\"https://colab.research.google.com/github/ikoojos/Algorithm-Debt-Research/blob/master/Random_Forest_CV.ipynb\" target=\"_parent\"><img src=\"https://colab.research.google.com/assets/colab-badge.svg\" alt=\"Open In Colab\"/></a>"
      ]
    },
    {
      "cell_type": "code",
      "execution_count": null,
      "metadata": {
        "id": "DcsKeqbTQnon",
        "colab": {
          "base_uri": "https://localhost:8080/"
        },
        "outputId": "566264fe-7d76-47d1-bda5-bfb6621a2407"
      },
      "outputs": [
        {
          "output_type": "stream",
          "name": "stdout",
          "text": [
            "Drive already mounted at /content/drive; to attempt to forcibly remount, call drive.mount(\"/content/drive\", force_remount=True).\n"
          ]
        }
      ],
      "source": [
        "import sys\n",
        "from google.colab import drive\n",
        "from itertools import product\n",
        "from sklearn.ensemble import RandomForestClassifier\n",
        "import importlib\n",
        "\n",
        "drive.mount('/content/drive')\n",
        "sys.path.append('/content/drive/My Drive/AD Final Experiments')\n",
        "\n",
        "from preprocessing import preprocess_data\n",
        "from splitting import split_data\n",
        "from utils import *\n",
        "from evaluate_model import evaluate_best_model\n",
        "from rf_tuning import hyperparameter_tuning_rf\n",
        "\n",
        "\n",
        "for module in ['preprocessing', 'splitting', 'utils', 'evaluate_model', 'rf_tuning']:\n",
        "    importlib.reload(sys.modules[module])"
      ]
    },
    {
      "cell_type": "code",
      "execution_count": null,
      "metadata": {
        "id": "DMA9H5i62C9Z"
      },
      "outputs": [],
      "source": [
        "file_path = '/content/drive/My Drive/AD Identification using SATD/liu_datset_processed.csv'\n",
        "data = preprocess_data(file_path)\n",
        "X_train_final, X_val, X_test, y_train_final, y_val, y_test = split_data(data)"
      ]
    },
    {
      "cell_type": "code",
      "source": [
        "param_grid = {\n",
        "    'n_estimators': [100, 200, 100],\n",
        "    'max_depth': [None, 10, 20, 30],\n",
        "    'min_samples_split': [2, 5, 10],\n",
        "    'min_samples_leaf': [1, 2]\n",
        "}\n",
        "\n",
        "vectorizer = CountVectorizer()\n",
        "best_model, best_params, best_score = hyperparameter_tuning_rf(X_train_final, y_train_final, X_val, y_val, param_grid, vectorizer)\n",
        "evaluate_best_model(best_model, best_params, best_score, X_test, y_test)"
      ],
      "metadata": {
        "colab": {
          "base_uri": "https://localhost:8080/"
        },
        "id": "eBGnPS8UXhJ-",
        "outputId": "1217b752-7473-40e0-95cf-1d7bdbc64b9a"
      },
      "execution_count": null,
      "outputs": [
        {
          "output_type": "stream",
          "name": "stdout",
          "text": [
            "Best parameters found: {'n_estimators': 200, 'max_depth': None, 'min_samples_split': 10, 'min_samples_leaf': 1}\n",
            "Validation set accuracy: 0.8832797427652733\n",
            "\n",
            "Test Confusion Matrix:\n",
            "[[  70    0    2   89    1    7    0   31]\n",
            " [   0   38    0   34    0    3    4   10]\n",
            " [   0    1   57   53    0    5    5   14]\n",
            " [   2    4    9 1958    0   80   11  142]\n",
            " [   0    0    0    6   11    5    0    1]\n",
            " [   0    0    5  110    1  255    3   13]\n",
            " [   0    0    2   34    0    2   91   14]\n",
            " [   4    1    1  119    1    0    2 4464]]\n",
            "\n",
            "Test Classification Report:\n",
            "                        precision    recall  f1-score   support\n",
            "\n",
            "             ALGORITHM       0.92      0.35      0.51       200\n",
            "         COMPATIBILITY       0.86      0.43      0.57        89\n",
            "                DEFECT       0.75      0.42      0.54       135\n",
            "                DESIGN       0.81      0.89      0.85      2206\n",
            "         DOCUMENTATION       0.79      0.48      0.59        23\n",
            "        IMPLEMENTATION       0.71      0.66      0.69       387\n",
            "                  TEST       0.78      0.64      0.70       143\n",
            "WITHOUT_CLASSIFICATION       0.95      0.97      0.96      4592\n",
            "\n",
            "              accuracy                           0.89      7775\n",
            "             macro avg       0.82      0.60      0.68      7775\n",
            "          weighted avg       0.89      0.89      0.89      7775\n",
            "\n"
          ]
        }
      ]
    }
  ],
  "metadata": {
    "colab": {
      "gpuType": "T4",
      "machine_shape": "hm",
      "provenance": [],
      "include_colab_link": true
    },
    "kernelspec": {
      "display_name": "Python 3",
      "name": "python3"
    },
    "language_info": {
      "name": "python"
    }
  },
  "nbformat": 4,
  "nbformat_minor": 0
}