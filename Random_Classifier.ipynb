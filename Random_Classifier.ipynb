{
  "cells": [
    {
      "cell_type": "code",
      "execution_count": null,
      "metadata": {
        "id": "DcsKeqbTQnon"
      },
      "outputs": [],
      "source": [
        "import warnings\n",
        "\n",
        "# Ignore all warnings\n",
        "warnings.filterwarnings(\"ignore\")"
      ]
    },
    {
      "cell_type": "code",
      "execution_count": null,
      "metadata": {
        "colab": {
          "base_uri": "https://localhost:8080/"
        },
        "id": "DMA9H5i62C9Z",
        "outputId": "06cea3f8-658a-4278-c8f7-5cc1f3bdb0c7"
      },
      "outputs": [
        {
          "output_type": "stream",
          "name": "stdout",
          "text": [
            "Mounted at /content/drive\n",
            "/content/drive/My Drive/AD Identification using SATD\n"
          ]
        }
      ],
      "source": [
        "from google.colab import drive\n",
        "drive.mount('/content/drive')\n",
        "%cd '/content/drive/My Drive/AD Identification using SATD'"
      ]
    },
    {
      "cell_type": "code",
      "source": [
        "import matplotlib.pyplot as plt\n",
        "import pandas as pd\n",
        "import numpy as np\n",
        "\n",
        "from sklearn.model_selection import train_test_split\n",
        "from sklearn.feature_extraction.text import CountVectorizer, TfidfVectorizer, HashingVectorizer\n",
        "from sklearn.ensemble import RandomForestClassifier\n",
        "from sklearn.metrics import accuracy_score, classification_report, confusion_matrix\n"
      ],
      "metadata": {
        "id": "nQG-5iLoKAVm"
      },
      "execution_count": null,
      "outputs": []
    },
    {
      "cell_type": "markdown",
      "metadata": {
        "id": "cF-tbskFeYnn"
      },
      "source": [
        "#Read the dataset and process the dataset\n"
      ]
    },
    {
      "cell_type": "code",
      "execution_count": null,
      "metadata": {
        "id": "MItX6IAvtxPx"
      },
      "outputs": [],
      "source": [
        "liu_ = '/content/drive/My Drive/AD Identification using SATD/liu_datset_processed.csv'\n",
        "liu_ = pd.read_csv(liu_, low_memory=False)\n",
        "\n",
        "liu_['Comments'].fillna('', inplace=True)\n",
        "liu_['TDType'] = liu_['TDType'].astype(str)\n",
        "\n",
        "values_to_remove = ['MULTITHREAD', 'nan', 'removeType']\n",
        "replacement_value = 'WITHOUT_CLASSIFICATION'\n",
        "liu_['TDType'].replace(values_to_remove, replacement_value, inplace=True)\n",
        "\n",
        "liu_['Comments'] = liu_['Comments'].str.replace('content=', '', regex=False)\n",
        "liu_['Comments'] = liu_['Comments'].str.replace('\"', '', regex=False)\n",
        "\n",
        "# Remove duplicates\n",
        "liu_ = liu_.drop_duplicates(subset=['Comments', 'TDType'])\n",
        "\n",
        "liu_['TDType'] = liu_['TDType'].replace('removeType', 'WITHOUT_CLASSIFICATION')"
      ]
    },
    {
      "cell_type": "code",
      "execution_count": null,
      "metadata": {
        "colab": {
          "base_uri": "https://localhost:8080/"
        },
        "id": "-rOU-PcknHuX",
        "outputId": "b3aaf256-3841-4c96-fc9a-1222907b1de9"
      },
      "outputs": [
        {
          "output_type": "stream",
          "name": "stdout",
          "text": [
            "Number of duplicate rows: 0\n"
          ]
        }
      ],
      "source": [
        "# Count the number of duplicate rows in the DataFrame\n",
        "num_duplicates = liu_.duplicated().sum()\n",
        "\n",
        "print(f\"Number of duplicate rows: {num_duplicates}\")\n"
      ]
    },
    {
      "cell_type": "code",
      "source": [
        "data = liu_\n",
        "\n",
        "y_multi_class = data['TDType']\n",
        "\n",
        "\n",
        "# Split dataset into training and testing sets\n",
        "X_train, X_test, y_train_class, y_test_class = train_test_split(data['Comments'], y_multi_class, test_size=0.2, random_state=42)\n",
        "\n",
        "\n",
        "def random_classifier_multi_class(y_test):\n",
        "    classes = np.unique(y_test)  # Unique class labels\n",
        "    np.random.seed(42)\n",
        "    y_pred = np.random.choice(classes, size=len(y_test))\n",
        "    return y_pred\n",
        "\n",
        "\n",
        "y_pred_class = random_classifier_multi_class(y_test_class)\n",
        "\n",
        "# Evaluate Multi-Class Random Predictions\n",
        "print(\"Multi-Class Random Classifier Evaluation\")\n",
        "print(classification_report(y_test_class, y_pred_class))\n",
        "\n"
      ],
      "metadata": {
        "colab": {
          "base_uri": "https://localhost:8080/"
        },
        "id": "tTEB7SPzNAQw",
        "outputId": "72e1cfaa-6df0-487f-83c6-b594e6f567f0"
      },
      "execution_count": null,
      "outputs": [
        {
          "output_type": "stream",
          "name": "stdout",
          "text": [
            "Multi-Class Random Classifier Evaluation\n",
            "                        precision    recall  f1-score   support\n",
            "\n",
            "             ALGORITHM       0.02      0.10      0.04       200\n",
            "         COMPATIBILITY       0.01      0.08      0.01        89\n",
            "                DEFECT       0.02      0.13      0.03       135\n",
            "                DESIGN       0.27      0.12      0.17      2206\n",
            "         DOCUMENTATION       0.00      0.00      0.00        23\n",
            "        IMPLEMENTATION       0.04      0.11      0.06       387\n",
            "                  TEST       0.01      0.08      0.02       143\n",
            "WITHOUT_CLASSIFICATION       0.58      0.12      0.20      4592\n",
            "\n",
            "              accuracy                           0.12      7775\n",
            "             macro avg       0.12      0.09      0.07      7775\n",
            "          weighted avg       0.42      0.12      0.17      7775\n",
            "\n"
          ]
        }
      ]
    },
    {
      "cell_type": "code",
      "source": [],
      "metadata": {
        "id": "MkdFQzSPNAOr"
      },
      "execution_count": null,
      "outputs": []
    }
  ],
  "metadata": {
    "colab": {
      "gpuType": "T4",
      "machine_shape": "hm",
      "provenance": []
    },
    "kernelspec": {
      "display_name": "Python 3",
      "name": "python3"
    },
    "language_info": {
      "name": "python"
    }
  },
  "nbformat": 4,
  "nbformat_minor": 0
}