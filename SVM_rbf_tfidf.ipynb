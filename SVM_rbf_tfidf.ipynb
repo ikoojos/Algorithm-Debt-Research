{
  "cells": [
    {
      "cell_type": "code",
      "execution_count": null,
      "metadata": {
        "id": "DcsKeqbTQnon"
      },
      "outputs": [],
      "source": [
        " import warnings\n",
        "\n",
        "# Ignore all warnings\n",
        "warnings.filterwarnings(\"ignore\")"
      ]
    },
    {
      "cell_type": "code",
      "execution_count": null,
      "metadata": {
        "colab": {
          "base_uri": "https://localhost:8080/"
        },
        "id": "DMA9H5i62C9Z",
        "outputId": "66b5c258-10db-4bd1-90d7-a4402c898f29"
      },
      "outputs": [
        {
          "output_type": "stream",
          "name": "stdout",
          "text": [
            "Mounted at /content/drive\n",
            "/content/drive/My Drive/AD Identification using SATD\n"
          ]
        }
      ],
      "source": [
        "from google.colab import drive\n",
        "drive.mount('/content/drive')\n",
        "%cd '/content/drive/My Drive/AD Identification using SATD'"
      ]
    },
    {
      "cell_type": "code",
      "source": [
        "import matplotlib.pyplot as plt\n",
        "import numpy as np\n",
        "\n",
        "from sklearn.model_selection import train_test_split, StratifiedKFold, GridSearchCV\n",
        "from sklearn.feature_extraction.text import CountVectorizer, TfidfVectorizer, HashingVectorizer\n",
        "from sklearn.metrics import accuracy_score, classification_report, confusion_matrix\n",
        "from sklearn.preprocessing import LabelEncoder, StandardScaler, MultiLabelBinarizer\n",
        "from sklearn.svm import SVC\n",
        "from sklearn.multioutput import MultiOutputClassifier\n",
        "from sklearn.pipeline import Pipeline\n",
        "\n",
        "import pandas as pd\n"
      ],
      "metadata": {
        "id": "jJ_LAFT22Is-"
      },
      "execution_count": null,
      "outputs": []
    },
    {
      "cell_type": "markdown",
      "metadata": {
        "id": "cF-tbskFeYnn"
      },
      "source": [
        "#Read the dataset\n"
      ]
    },
    {
      "cell_type": "code",
      "execution_count": null,
      "metadata": {
        "id": "MItX6IAvtxPx"
      },
      "outputs": [],
      "source": [
        "import pandas as pd\n",
        "liu_ = '/content/drive/My Drive/AD Identification using SATD/liu_datset_processed.csv'\n",
        "liu_ = pd.read_csv(liu_, low_memory=False)"
      ]
    },
    {
      "cell_type": "code",
      "execution_count": null,
      "metadata": {
        "id": "vNrWN2oDsJDZ"
      },
      "outputs": [],
      "source": [
        "liu_['Comments'].fillna('', inplace=True)\n",
        "liu_['TDType'] = liu_['TDType'].astype(str)\n",
        "\n",
        "values_to_remove = ['MULTITHREAD', 'nan', 'removeType']\n",
        "replacement_value = 'WITHOUT_CLASSIFICATION'\n",
        "liu_['TDType'].replace(values_to_remove, replacement_value, inplace=True)\n",
        "\n",
        "liu_['Comments'] = liu_['Comments'].str.replace('content=', '', regex=False)\n",
        "liu_['Comments'] = liu_['Comments'].str.replace('\"', '', regex=False)\n",
        "\n",
        "liu_ = liu_.drop_duplicates(subset=['Comments', 'TDType'])\n",
        "liu_['TDType'] = liu_['TDType'].replace('removeType', 'WITHOUT_CLASSIFICATION')"
      ]
    },
    {
      "cell_type": "code",
      "execution_count": null,
      "metadata": {
        "id": "2EbLDtvUshnW"
      },
      "outputs": [],
      "source": []
    },
    {
      "cell_type": "code",
      "execution_count": null,
      "metadata": {
        "colab": {
          "base_uri": "https://localhost:8080/"
        },
        "id": "-rOU-PcknHuX",
        "outputId": "b3326422-c8ba-424a-c859-86ff44f5b801"
      },
      "outputs": [
        {
          "output_type": "stream",
          "name": "stdout",
          "text": [
            "Number of duplicate rows: 0\n"
          ]
        }
      ],
      "source": [
        "# Count the number of duplicate rows in the DataFrame\n",
        "num_duplicates = liu_.duplicated().sum()\n",
        "\n",
        "print(f\"Number of duplicate rows: {num_duplicates}\")\n"
      ]
    },
    {
      "cell_type": "markdown",
      "source": [
        "##Tfidf"
      ],
      "metadata": {
        "id": "6tDLHy5GD6Oz"
      }
    },
    {
      "cell_type": "code",
      "source": [
        "data = liu_\n",
        "\n",
        "# Split data into train and test sets (80% train, 20% test)\n",
        "X_train, X_test, y_train, y_test = train_test_split(data['Comments'], data['TDType'], test_size=0.2, random_state=42)\n",
        "# Further split the training set into training and validation sets\n",
        "X_train_final, X_val, y_train_final, y_val = train_test_split(X_train, y_train, test_size=0.2, random_state=42)\n",
        "\n",
        "# Define the pipeline\n",
        "pipeline = Pipeline([\n",
        "    ('TfidfVectorizer', TfidfVectorizer()),\n",
        "    ('scaler', StandardScaler(with_mean=False)),  # Scale feature vectors\n",
        "    ('clf', SVC(random_state=42, kernel='rbf', class_weight='balanced', probability=True))  # SVM\n",
        "])\n",
        "\n",
        "\n",
        "param_grid = {\n",
        "    'clf__C': [0.01, 1],  # Regularization strength\n",
        "\n",
        "\n",
        "}\n",
        "\n",
        "grid_search = GridSearchCV(estimator=pipeline,\n",
        "                           param_grid=param_grid,\n",
        "                           cv=StratifiedKFold(n_splits=5, shuffle=True, random_state=42),\n",
        "                           scoring='accuracy',\n",
        "                           n_jobs=-1,\n",
        "                           verbose=2)\n",
        "\n",
        "# Fit the grid search to the training data\n",
        "grid_search.fit(X_train_final, y_train_final)\n",
        "\n",
        "\n",
        "print(\"Best parameters found:\", grid_search.best_params_)\n",
        "\n",
        "# Evaluate the best model on the validation set\n",
        "best_model = grid_search.best_estimator_\n",
        "y_val_pred = best_model.predict(X_val)\n",
        "conf_matrix_val = confusion_matrix(y_val, y_val_pred)\n",
        "classification_rep_val = classification_report(y_val, y_val_pred)\n",
        "\n",
        "print(\"\\nValidation Confusion Matrix:\")\n",
        "print(conf_matrix_val)\n",
        "print(\"\\nValidation Classification Report:\")\n",
        "print(classification_rep_val)\n",
        "\n",
        "# Evaluate the best model on the test set\n",
        "y_test_pred = best_model.predict(X_test)\n",
        "conf_matrix_test = confusion_matrix(y_test, y_test_pred)\n",
        "classification_rep_test = classification_report(y_test, y_test_pred)\n",
        "\n",
        "print(\"\\nTest Confusion Matrix:\")\n",
        "print(conf_matrix_test)\n",
        "print(\"\\nTest Classification Report:\")\n",
        "print(classification_rep_test)\n"
      ],
      "metadata": {
        "id": "jUOT1e_3BZ9v",
        "colab": {
          "base_uri": "https://localhost:8080/"
        },
        "outputId": "f637b722-04eb-4e09-ef50-cf036817313c"
      },
      "execution_count": null,
      "outputs": [
        {
          "output_type": "stream",
          "name": "stdout",
          "text": [
            "Fitting 5 folds for each of 2 candidates, totalling 10 fits\n",
            "Best parameters found: {'clf__C': 1}\n",
            "\n",
            "Validation Confusion Matrix:\n",
            "[[  36    0    2   80    0    2    0   23]\n",
            " [   0   18    2   37    0    2    1    7]\n",
            " [   2    2   37   45    0    2    3    8]\n",
            " [  21   12   17 1423    4   73    8  158]\n",
            " [   0    0    0    6   10    0    0    4]\n",
            " [   1    2    3  134    3  173    6   26]\n",
            " [   1    0    1   48    0    3   48    4]\n",
            " [  14    6   10  914    0   14   28 2736]]\n",
            "\n",
            "Validation Classification Report:\n",
            "                        precision    recall  f1-score   support\n",
            "\n",
            "             ALGORITHM       0.48      0.25      0.33       143\n",
            "         COMPATIBILITY       0.45      0.27      0.34        67\n",
            "                DEFECT       0.51      0.37      0.43        99\n",
            "                DESIGN       0.53      0.83      0.65      1716\n",
            "         DOCUMENTATION       0.59      0.50      0.54        20\n",
            "        IMPLEMENTATION       0.64      0.50      0.56       348\n",
            "                  TEST       0.51      0.46      0.48       105\n",
            "WITHOUT_CLASSIFICATION       0.92      0.74      0.82      3722\n",
            "\n",
            "              accuracy                           0.72      6220\n",
            "             macro avg       0.58      0.49      0.52      6220\n",
            "          weighted avg       0.77      0.72      0.73      6220\n",
            "\n",
            "\n",
            "Test Confusion Matrix:\n",
            "[[  68    0    1  102    0    3    0   26]\n",
            " [   0   37    0   41    0    2    1    8]\n",
            " [   1    2   48   72    0    1    0   11]\n",
            " [   8    9   35 1853    1   75   11  214]\n",
            " [   0    0    0   10    9    1    0    3]\n",
            " [   2    3    3  155    0  177    3   44]\n",
            " [   0    0    1   66    0    9   56   11]\n",
            " [  14    5    9 1158    2   13   35 3356]]\n",
            "\n",
            "Test Classification Report:\n",
            "                        precision    recall  f1-score   support\n",
            "\n",
            "             ALGORITHM       0.73      0.34      0.46       200\n",
            "         COMPATIBILITY       0.66      0.42      0.51        89\n",
            "                DEFECT       0.49      0.36      0.41       135\n",
            "                DESIGN       0.54      0.84      0.65      2206\n",
            "         DOCUMENTATION       0.75      0.39      0.51        23\n",
            "        IMPLEMENTATION       0.63      0.46      0.53       387\n",
            "                  TEST       0.53      0.39      0.45       143\n",
            "WITHOUT_CLASSIFICATION       0.91      0.73      0.81      4592\n",
            "\n",
            "              accuracy                           0.72      7775\n",
            "             macro avg       0.66      0.49      0.54      7775\n",
            "          weighted avg       0.77      0.72      0.73      7775\n",
            "\n"
          ]
        }
      ]
    }
  ],
  "metadata": {
    "colab": {
      "gpuType": "A100",
      "machine_shape": "hm",
      "provenance": []
    },
    "kernelspec": {
      "display_name": "Python 3",
      "name": "python3"
    },
    "language_info": {
      "name": "python"
    },
    "accelerator": "GPU"
  },
  "nbformat": 4,
  "nbformat_minor": 0
}