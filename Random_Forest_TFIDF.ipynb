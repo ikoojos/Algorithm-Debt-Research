{
  "cells": [
    {
      "cell_type": "code",
      "execution_count": null,
      "metadata": {
        "id": "DcsKeqbTQnon"
      },
      "outputs": [],
      "source": [
        " import warnings\n",
        "\n",
        "# Ignore all warnings\n",
        "warnings.filterwarnings(\"ignore\")"
      ]
    },
    {
      "cell_type": "code",
      "execution_count": null,
      "metadata": {
        "colab": {
          "base_uri": "https://localhost:8080/"
        },
        "id": "DMA9H5i62C9Z",
        "outputId": "cabb1fa7-3ab6-4a38-d070-c5cea6f027fd"
      },
      "outputs": [
        {
          "output_type": "stream",
          "name": "stdout",
          "text": [
            "Mounted at /content/drive\n",
            "/content/drive/My Drive/AD Identification using SATD\n"
          ]
        }
      ],
      "source": [
        "from google.colab import drive\n",
        "drive.mount('/content/drive')\n",
        "%cd '/content/drive/My Drive/AD Identification using SATD'"
      ]
    },
    {
      "cell_type": "code",
      "source": [
        "import matplotlib.pyplot as plt\n",
        "import pandas as pd\n",
        "import numpy as np\n",
        "import seaborn as sns\n",
        "import matplotlib.colors as mcolors\n",
        "\n",
        "from sklearn.model_selection import train_test_split, StratifiedKFold, GridSearchCV\n",
        "from sklearn.feature_extraction.text import CountVectorizer, TfidfVectorizer, HashingVectorizer\n",
        "from sklearn.ensemble import RandomForestClassifier\n",
        "from sklearn.pipeline import Pipeline\n",
        "from sklearn.preprocessing import LabelEncoder, MultiLabelBinarizer, StandardScaler\n",
        "from sklearn.multioutput import MultiOutputClassifier\n",
        "from sklearn.metrics import accuracy_score, classification_report, confusion_matrix, f1_score, make_scorer"
      ],
      "metadata": {
        "id": "nQG-5iLoKAVm"
      },
      "execution_count": null,
      "outputs": []
    },
    {
      "cell_type": "markdown",
      "metadata": {
        "id": "cF-tbskFeYnn"
      },
      "source": [
        "#Read and process the dataset"
      ]
    },
    {
      "cell_type": "code",
      "execution_count": null,
      "metadata": {
        "id": "MItX6IAvtxPx"
      },
      "outputs": [],
      "source": [
        "\n",
        "liu_ = '/content/drive/My Drive/AD Identification using SATD/liu_datset_processed.csv'\n",
        "liu_ = pd.read_csv(liu_, low_memory=False)"
      ]
    },
    {
      "cell_type": "code",
      "execution_count": null,
      "metadata": {
        "id": "vNrWN2oDsJDZ"
      },
      "outputs": [],
      "source": [
        "liu_['Comments'].fillna('', inplace=True)\n",
        "liu_['TDType'] = liu_['TDType'].astype(str)\n",
        "\n",
        "values_to_remove = ['MULTITHREAD', 'nan', 'removeType']\n",
        "replacement_value = 'WITHOUT_CLASSIFICATION'\n",
        "liu_['TDType'].replace(values_to_remove, replacement_value, inplace=True)\n",
        "\n",
        "liu_['Comments'] = liu_['Comments'].str.replace('content=', '', regex=False)\n",
        "liu_['Comments'] = liu_['Comments'].str.replace('\"', '', regex=False)\n",
        "\n",
        "liu_ = liu_.drop_duplicates(subset=['Comments', 'TDType'])\n",
        "\n",
        "liu_['TDType'] = liu_['TDType'].replace('removeType', 'WITHOUT_CLASSIFICATION')"
      ]
    },
    {
      "cell_type": "code",
      "execution_count": null,
      "metadata": {
        "colab": {
          "base_uri": "https://localhost:8080/"
        },
        "id": "-rOU-PcknHuX",
        "outputId": "4d0b22a2-1da2-43a1-d398-dc4f95303ba8"
      },
      "outputs": [
        {
          "output_type": "stream",
          "name": "stdout",
          "text": [
            "Number of duplicate rows: 0\n"
          ]
        }
      ],
      "source": [
        "# Count the number of duplicate rows in the DataFrame\n",
        "num_duplicates = liu_.duplicated().sum()\n",
        "\n",
        "print(f\"Number of duplicate rows: {num_duplicates}\")\n"
      ]
    },
    {
      "cell_type": "markdown",
      "source": [
        "##RF +TFIDF"
      ],
      "metadata": {
        "id": "snocNVTxIH_A"
      }
    },
    {
      "cell_type": "code",
      "execution_count": null,
      "metadata": {
        "colab": {
          "background_save": true,
          "base_uri": "https://localhost:8080/"
        },
        "id": "_pZaISlSCrwl",
        "outputId": "f9d9399f-5c97-43eb-8a5a-139d87b6fa37"
      },
      "outputs": [
        {
          "name": "stdout",
          "output_type": "stream",
          "text": [
            "Fitting 5 folds for each of 64 candidates, totalling 320 fits\n",
            "Best parameters found: {'clf__max_depth': None, 'clf__min_samples_leaf': 1, 'clf__min_samples_split': 5, 'clf__n_estimators': 200}\n",
            "Validation Confusion Matrix:\n",
            "[[  28    0    0   75    0    5    0   35]\n",
            " [   0   18    0   33    0    3    0   13]\n",
            " [   0    1   32   51    0    2    2   11]\n",
            " [   6    2    6 1513    0   54    3  132]\n",
            " [   0    0    0    9    9    0    0    2]\n",
            " [   1    0    4  127    2  197    1   16]\n",
            " [   0    0    2   34    0    2   61    6]\n",
            " [   1    1    0   79    0    2    0 3639]]\n",
            "\n",
            "Validation Classification Report:\n",
            "                        precision    recall  f1-score   support\n",
            "\n",
            "             ALGORITHM       0.78      0.20      0.31       143\n",
            "         COMPATIBILITY       0.82      0.27      0.40        67\n",
            "                DEFECT       0.73      0.32      0.45        99\n",
            "                DESIGN       0.79      0.88      0.83      1716\n",
            "         DOCUMENTATION       0.82      0.45      0.58        20\n",
            "        IMPLEMENTATION       0.74      0.57      0.64       348\n",
            "                  TEST       0.91      0.58      0.71       105\n",
            "WITHOUT_CLASSIFICATION       0.94      0.98      0.96      3722\n",
            "\n",
            "              accuracy                           0.88      6220\n",
            "             macro avg       0.82      0.53      0.61      6220\n",
            "          weighted avg       0.88      0.88      0.87      6220\n",
            "\n",
            "\n",
            "Test Confusion Matrix:\n",
            "[[  56    0    1   98    0    4    0   41]\n",
            " [   0   31    0   39    0    3    3   13]\n",
            " [   0    1   43   67    0    2    4   18]\n",
            " [   2    2    6 1987    0   52    6  151]\n",
            " [   0    0    0   15    5    1    0    2]\n",
            " [   0    0    3  143    0  224    1   16]\n",
            " [   0    0    2   43    0    3   82   13]\n",
            " [   2    1    1  129    1    0    2 4456]]\n",
            "\n",
            "Test Classification Report:\n",
            "                        precision    recall  f1-score   support\n",
            "\n",
            "             ALGORITHM       0.93      0.28      0.43       200\n",
            "         COMPATIBILITY       0.89      0.35      0.50        89\n",
            "                DEFECT       0.77      0.32      0.45       135\n",
            "                DESIGN       0.79      0.90      0.84      2206\n",
            "         DOCUMENTATION       0.83      0.22      0.34        23\n",
            "        IMPLEMENTATION       0.78      0.58      0.66       387\n",
            "                  TEST       0.84      0.57      0.68       143\n",
            "WITHOUT_CLASSIFICATION       0.95      0.97      0.96      4592\n",
            "\n",
            "              accuracy                           0.89      7775\n",
            "             macro avg       0.85      0.52      0.61      7775\n",
            "          weighted avg       0.89      0.89      0.88      7775\n",
            "\n"
          ]
        }
      ],
      "source": [
        "data = liu_\n",
        "\n",
        "# Split data into train and test sets (80% train, 20% test)\n",
        "X_train, X_test, y_train, y_test = train_test_split(data['Comments'], data['TDType'], test_size=0.2, random_state=42)\n",
        "X_train_final, X_val, y_train_final, y_val = train_test_split(X_train, y_train, test_size=0.2, random_state=42)\n",
        "\n",
        "# Define the pipeline for training\n",
        "pipeline = Pipeline([\n",
        "    ('TFIDF', TfidfVectorizer()),\n",
        "    ('scaler', StandardScaler(with_mean=False)),\n",
        "    ('clf', RandomForestClassifier(random_state=42, class_weight='balanced'))\n",
        "])\n",
        "\n",
        "# Define the parameter grid for hyperparameter tuning\n",
        "param_grid = {\n",
        "    'clf__n_estimators': [100, 200],\n",
        "    'clf__max_depth': [None, 10, 20, 30],\n",
        "    'clf__min_samples_split': [None,2, 5, 10],\n",
        "    'clf__min_samples_leaf': [1, 2],\n",
        "\n",
        "}\n",
        "\n",
        "\n",
        "grid_search = GridSearchCV(estimator=pipeline,\n",
        "                           param_grid=param_grid,\n",
        "                           cv=StratifiedKFold(n_splits=5, shuffle=True, random_state=42),\n",
        "                           scoring='accuracy',\n",
        "                           n_jobs=-1,\n",
        "                           verbose=2)\n",
        "\n",
        "\n",
        "grid_search.fit(X_train_final, y_train_final)\n",
        "print(\"Best parameters found:\", grid_search.best_params_)\n",
        "\n",
        "# Evaluate the best model on the validation set\n",
        "best_model = grid_search.best_estimator_\n",
        "y_val_pred = best_model.predict(X_val)\n",
        "conf_matrix_val = confusion_matrix(y_val, y_val_pred)\n",
        "classification_rep_val = classification_report(y_val, y_val_pred)\n",
        "\n",
        "print(\"Validation Confusion Matrix:\")\n",
        "print(conf_matrix_val)\n",
        "print(\"\\nValidation Classification Report:\")\n",
        "print(classification_rep_val)\n",
        "\n",
        "# Evaluate the best model on the test set\n",
        "y_test_pred = best_model.predict(X_test)\n",
        "conf_matrix_test = confusion_matrix(y_test, y_test_pred)\n",
        "classification_rep_test = classification_report(y_test, y_test_pred)\n",
        "\n",
        "print(\"\\nTest Confusion Matrix:\")\n",
        "print(conf_matrix_test)\n",
        "print(\"\\nTest Classification Report:\")\n",
        "print(classification_rep_test)\n"
      ]
    }
  ],
  "metadata": {
    "colab": {
      "gpuType": "T4",
      "machine_shape": "hm",
      "provenance": []
    },
    "kernelspec": {
      "display_name": "Python 3",
      "name": "python3"
    },
    "language_info": {
      "name": "python"
    }
  },
  "nbformat": 4,
  "nbformat_minor": 0
}