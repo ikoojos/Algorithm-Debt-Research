{
  "cells": [
    {
      "cell_type": "markdown",
      "metadata": {
        "id": "view-in-github",
        "colab_type": "text"
      },
      "source": [
        "<a href=\"https://colab.research.google.com/github/ikoojos/Algorithm-Debt-Research/blob/master/Random_Forest_TFIDF.ipynb\" target=\"_parent\"><img src=\"https://colab.research.google.com/assets/colab-badge.svg\" alt=\"Open In Colab\"/></a>"
      ]
    },
    {
      "cell_type": "code",
      "execution_count": null,
      "metadata": {
        "id": "DcsKeqbTQnon",
        "colab": {
          "base_uri": "https://localhost:8080/"
        },
        "outputId": "90318108-f024-4ce7-eaa2-d6da5ea1dfc6"
      },
      "outputs": [
        {
          "output_type": "stream",
          "name": "stdout",
          "text": [
            "Mounted at /content/drive\n"
          ]
        }
      ],
      "source": [
        "import sys\n",
        "from google.colab import drive\n",
        "from itertools import product\n",
        "from sklearn.ensemble import RandomForestClassifier\n",
        "import importlib\n",
        "\n",
        "drive.mount('/content/drive')\n",
        "sys.path.append('/content/drive/My Drive/AD Final Experiments')\n",
        "\n",
        "from preprocessing import preprocess_data\n",
        "from splitting import split_data\n",
        "from utils import *\n",
        "from evaluate_model import evaluate_best_model\n",
        "from rf_tuning import hyperparameter_tuning_rf\n",
        "\n",
        "\n",
        "for module in ['preprocessing', 'splitting', 'utils', 'evaluate_model', 'rf_tuning']:\n",
        "    importlib.reload(sys.modules[module])"
      ]
    },
    {
      "cell_type": "code",
      "execution_count": null,
      "metadata": {
        "id": "DMA9H5i62C9Z"
      },
      "outputs": [],
      "source": [
        "file_path = '/content/drive/My Drive/AD Identification using SATD/liu_datset_processed.csv'\n",
        "data = preprocess_data(file_path)\n",
        "X_train_final, X_val, X_test, y_train_final, y_val, y_test = split_data(data)"
      ]
    },
    {
      "cell_type": "code",
      "source": [
        "param_grid = {\n",
        "    'n_estimators': [100, 200, 100],\n",
        "    'max_depth': [None, 10, 20, 30],\n",
        "    'min_samples_split': [2, 5, 10],\n",
        "    'min_samples_leaf': [1, 2]\n",
        "}\n",
        "\n",
        "vectorizer = TfidfVectorizer()\n",
        "best_model, best_params, best_score = hyperparameter_tuning_rf(X_train_final, y_train_final, X_val, y_val, param_grid, vectorizer)\n",
        "evaluate_best_model(best_model, best_params, best_score, X_test, y_test)"
      ],
      "metadata": {
        "colab": {
          "base_uri": "https://localhost:8080/"
        },
        "id": "eBGnPS8UXhJ-",
        "outputId": "768c24a2-bdd9-4a51-8b38-83c545862f64"
      },
      "execution_count": null,
      "outputs": [
        {
          "output_type": "stream",
          "name": "stdout",
          "text": [
            "Best parameters found: {'n_estimators': 200, 'max_depth': None, 'min_samples_split': 2, 'min_samples_leaf': 1}\n",
            "Validation set accuracy: 0.8829581993569132\n",
            "\n",
            "Test Confusion Matrix:\n",
            "[[  53    0    0   98    0    1    0   48]\n",
            " [   0   31    0   38    0    1    1   18]\n",
            " [   0    0   36   73    0    1    3   22]\n",
            " [   0    0    2 1979    0   22    3  200]\n",
            " [   0    0    0   13    6    0    0    4]\n",
            " [   0    0    2  165    0  199    1   20]\n",
            " [   0    0    0   58    0    1   69   15]\n",
            " [   2    1    1   74    1    0    0 4513]]\n",
            "\n",
            "Test Classification Report:\n",
            "                        precision    recall  f1-score   support\n",
            "\n",
            "             ALGORITHM       0.96      0.27      0.42       200\n",
            "         COMPATIBILITY       0.97      0.35      0.51        89\n",
            "                DEFECT       0.88      0.27      0.41       135\n",
            "                DESIGN       0.79      0.90      0.84      2206\n",
            "         DOCUMENTATION       0.86      0.26      0.40        23\n",
            "        IMPLEMENTATION       0.88      0.51      0.65       387\n",
            "                  TEST       0.90      0.48      0.63       143\n",
            "WITHOUT_CLASSIFICATION       0.93      0.98      0.96      4592\n",
            "\n",
            "              accuracy                           0.89      7775\n",
            "             macro avg       0.90      0.50      0.60      7775\n",
            "          weighted avg       0.89      0.89      0.87      7775\n",
            "\n"
          ]
        }
      ]
    }
  ],
  "metadata": {
    "colab": {
      "gpuType": "T4",
      "machine_shape": "hm",
      "provenance": [],
      "include_colab_link": true
    },
    "kernelspec": {
      "display_name": "Python 3",
      "name": "python3"
    },
    "language_info": {
      "name": "python"
    }
  },
  "nbformat": 4,
  "nbformat_minor": 0
}