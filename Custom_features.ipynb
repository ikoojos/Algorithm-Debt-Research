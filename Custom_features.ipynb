{
  "cells": [
    {
      "cell_type": "markdown",
      "metadata": {
        "id": "view-in-github",
        "colab_type": "text"
      },
      "source": [
        "<a href=\"https://colab.research.google.com/github/ikoojos/Algorithm-Debt-Research/blob/master/Custom_features.ipynb\" target=\"_parent\"><img src=\"https://colab.research.google.com/assets/colab-badge.svg\" alt=\"Open In Colab\"/></a>"
      ]
    },
    {
      "cell_type": "code",
      "execution_count": 1,
      "metadata": {
        "colab": {
          "base_uri": "https://localhost:8080/"
        },
        "id": "DMA9H5i62C9Z",
        "outputId": "e66b1bef-e4b9-43f8-a5c4-a84c4f3edde8"
      },
      "outputs": [
        {
          "output_type": "stream",
          "name": "stdout",
          "text": [
            "Mounted at /content/drive\n",
            "/content/drive/My Drive/AD Final Experiments\n"
          ]
        }
      ],
      "source": [
        "# Mount Google Drive\n",
        "from google.colab import drive\n",
        "drive.mount('/content/drive')\n",
        "%cd '/content/drive/My Drive/AD Final Experiments'\n",
        "\n",
        "# General imports\n",
        "import sys\n",
        "import pandas as pd\n",
        "import numpy as np\n",
        "from itertools import product\n",
        "import importlib\n",
        "import warnings\n",
        "\n",
        "# Machine learning imports\n",
        "from sklearn.model_selection import train_test_split, GridSearchCV\n",
        "from sklearn.feature_extraction.text import CountVectorizer\n",
        "from sklearn.linear_model import LogisticRegression\n",
        "from sklearn.metrics import (\n",
        "    accuracy_score,\n",
        "    classification_report,\n",
        "    confusion_matrix,\n",
        "    f1_score\n",
        ")\n",
        "from scipy.sparse import hstack, csr_matrix\n",
        "from sklearn.pipeline import FeatureUnion, Pipeline\n",
        "from sklearn.base import BaseEstimator, TransformerMixin\n",
        "\n",
        "# Custom modules\n",
        "sys.path.append('/content/drive/My Drive/AD Final Experiments')\n",
        "from preprocessing import preprocess_data\n",
        "from splitting import split_data\n",
        "from utils import *\n",
        "from evaluate_model import evaluate_best_model\n",
        "from lr_tuning import hyperparameter_tuning\n",
        "\n",
        "# Reload custom modules to ensure latest updates\n",
        "for module in ['preprocessing', 'splitting', 'utils', 'evaluate_model', 'lr_tuning']:\n",
        "    importlib.reload(sys.modules[module])\n",
        "\n",
        "# Ignore all warnings\n",
        "warnings.filterwarnings(\"ignore\")\n"
      ]
    },
    {
      "cell_type": "code",
      "source": [
        "drive.mount('/content/drive')\n",
        "\n",
        "sys.path.append('/content/drive/My Drive/AD Final Experiments')\n",
        "\n",
        "file_path = '/content/drive/My Drive/AD Identification using SATD/liu_datset_processed.csv'\n",
        "data = preprocess_data(file_path)\n",
        "#X_train_final, X_val, X_test, y_train_final, y_val, y_test = split_data(data)\n",
        "\n",
        "print(\"Data preprocessing Complete!\")\n"
      ],
      "metadata": {
        "colab": {
          "base_uri": "https://localhost:8080/"
        },
        "id": "iVCpI8UyHaMr",
        "outputId": "306dfeee-5edf-43ea-b842-c361e6e09a1b"
      },
      "execution_count": 2,
      "outputs": [
        {
          "output_type": "stream",
          "name": "stdout",
          "text": [
            "Drive already mounted at /content/drive; to attempt to forcibly remount, call drive.mount(\"/content/drive\", force_remount=True).\n",
            "Data preprocessing Complete!\n"
          ]
        }
      ]
    },
    {
      "cell_type": "code",
      "source": [
        "df = data\n",
        "X = df['Comments'].apply(lambda x: x.lower().strip())\n",
        "y = df['TDType']\n",
        "\n",
        "X_train_raw, X_test_raw, y_train, y_test = train_test_split(X, y, test_size=0.2, random_state=42)\n",
        "\n",
        "class CustomFeatureExtractor(BaseEstimator, TransformerMixin):\n",
        "    def __init__(self, keywords):\n",
        "        self.keywords = keywords\n",
        "\n",
        "    def fit(self, X, y=None):\n",
        "        return self\n",
        "\n",
        "    def transform(self, X):\n",
        "        # Extract features\n",
        "        custom_features = [\n",
        "            {f'contains_{kw}': int(kw in text.lower()) for kw in self.keywords} for text in X\n",
        "        ]\n",
        "        return csr_matrix(pd.DataFrame(custom_features).values)\n",
        "\n",
        "\n",
        "keywords = ['shape', 'input', 'tensor', 'output', 'size', 'convolution',\n",
        "            'value', 'efficient', 'matrix', 'model', 'node', 'function', 'batch']\n",
        "\n",
        "\n",
        "pipeline = Pipeline([\n",
        "    ('features', FeatureUnion([\n",
        "        ('vectorizer', CountVectorizer()),\n",
        "        ('custom', CustomFeatureExtractor(keywords))\n",
        "    ])),\n",
        "    ('clf', LogisticRegression(class_weight='balanced', random_state=42))\n",
        "])\n",
        "\n",
        "# Grid search parameter grid\n",
        "param_grid = {\n",
        "    'clf__C': [0.01, 1, 10],\n",
        "    'clf__penalty': ['l2'],\n",
        "    'clf__max_iter': [100, 200]\n",
        "}\n",
        "\n",
        "grid_search = GridSearchCV(pipeline, param_grid, cv=5, scoring='f1_macro', n_jobs=-1, verbose=1)\n",
        "grid_search.fit(X_train_raw, y_train)\n",
        "\n",
        "# Best parameters and evaluation\n",
        "best_model = grid_search.best_estimator_\n",
        "best_params = grid_search.best_params_\n",
        "best_score = grid_search.best_score_\n",
        "\n",
        "print(\"Best Parameters:\", best_params)\n",
        "print(f\"Best F1 Score (Macro) on Training Set: {best_score:.2f}\")\n",
        "\n",
        "y_pred_test = best_model.predict(X_test_raw)\n",
        "\n",
        "print(\"\\nEvaluation on Test Set:\")\n",
        "print(f\"F1 Score (Macro): {f1_score(y_test, y_pred_test, average='macro'):.2f}\")\n",
        "print(\"Classification Report:\")\n",
        "print(classification_report(y_test, y_pred_test))\n",
        "print(\"Confusion Matrix:\")\n",
        "print(confusion_matrix(y_test, y_pred_test))\n"
      ],
      "metadata": {
        "colab": {
          "base_uri": "https://localhost:8080/"
        },
        "id": "-CRIGfyZCOTw",
        "outputId": "05b0ba16-1577-4a71-941f-4bd0525f115f"
      },
      "execution_count": 4,
      "outputs": [
        {
          "output_type": "stream",
          "name": "stdout",
          "text": [
            "Fitting 5 folds for each of 6 candidates, totalling 30 fits\n",
            "Best Parameters: {'clf__C': 10, 'clf__max_iter': 100, 'clf__penalty': 'l2'}\n",
            "Best F1 Score (Macro) on Training Set: 0.66\n",
            "\n",
            "Evaluation on Test Set:\n",
            "F1 Score (Macro): 0.68\n",
            "Classification Report:\n",
            "                        precision    recall  f1-score   support\n",
            "\n",
            "             ALGORITHM       0.52      0.56      0.54       200\n",
            "         COMPATIBILITY       0.55      0.54      0.55        89\n",
            "                DEFECT       0.49      0.59      0.54       135\n",
            "                DESIGN       0.86      0.81      0.84      2206\n",
            "         DOCUMENTATION       0.62      0.57      0.59        23\n",
            "        IMPLEMENTATION       0.62      0.76      0.68       387\n",
            "                  TEST       0.72      0.76      0.74       143\n",
            "WITHOUT_CLASSIFICATION       0.96      0.96      0.96      4592\n",
            "\n",
            "              accuracy                           0.88      7775\n",
            "             macro avg       0.67      0.69      0.68      7775\n",
            "          weighted avg       0.89      0.88      0.88      7775\n",
            "\n",
            "Confusion Matrix:\n",
            "[[ 112    2    3   50    0    7    2   24]\n",
            " [   2   48    3   15    0    9    4    8]\n",
            " [   5    3   79   29    0    4    4   11]\n",
            " [  64   26   52 1797    5  144   16  102]\n",
            " [   3    0    0    4   13    2    1    0]\n",
            " [   3    1   12   66    0  293    6    6]\n",
            " [   0    1    2   14    1    7  109    9]\n",
            " [  28    6    9  123    2    7    9 4408]]\n"
          ]
        }
      ]
    }
  ],
  "metadata": {
    "colab": {
      "machine_shape": "hm",
      "provenance": [],
      "gpuType": "T4",
      "include_colab_link": true
    },
    "kernelspec": {
      "display_name": "Python 3",
      "name": "python3"
    },
    "language_info": {
      "name": "python"
    },
    "accelerator": "GPU"
  },
  "nbformat": 4,
  "nbformat_minor": 0
}