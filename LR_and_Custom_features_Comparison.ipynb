{
  "cells": [
    {
      "cell_type": "markdown",
      "metadata": {
        "id": "view-in-github",
        "colab_type": "text"
      },
      "source": [
        "<a href=\"https://colab.research.google.com/github/ikoojos/Algorithm-Debt-Research/blob/master/LR_and_Custom_features_Comparison.ipynb\" target=\"_parent\"><img src=\"https://colab.research.google.com/assets/colab-badge.svg\" alt=\"Open In Colab\"/></a>"
      ]
    },
    {
      "cell_type": "code",
      "execution_count": null,
      "metadata": {
        "colab": {
          "base_uri": "https://localhost:8080/"
        },
        "id": "DMA9H5i62C9Z",
        "outputId": "177e98bf-134f-4af4-ebd4-dbe13f263649"
      },
      "outputs": [
        {
          "output_type": "stream",
          "name": "stdout",
          "text": [
            "Mounted at /content/drive\n",
            "/content/drive/My Drive/AD Final Experiments\n"
          ]
        }
      ],
      "source": [
        "from google.colab import drive\n",
        "drive.mount('/content/drive')\n",
        "%cd '/content/drive/My Drive/AD Final Experiments'\n",
        "\n",
        "# General imports\n",
        "import sys\n",
        "import pandas as pd\n",
        "import numpy as np\n",
        "from itertools import product\n",
        "import importlib\n",
        "import warnings\n",
        "\n",
        "from sklearn.model_selection import train_test_split, GridSearchCV\n",
        "from sklearn.feature_extraction.text import CountVectorizer\n",
        "from sklearn.linear_model import LogisticRegression\n",
        "from sklearn.metrics import (\n",
        "    accuracy_score,\n",
        "    classification_report,\n",
        "    confusion_matrix,\n",
        "    f1_score\n",
        ")\n",
        "from scipy.sparse import hstack, csr_matrix\n",
        "from sklearn.pipeline import FeatureUnion, Pipeline\n",
        "from sklearn.base import BaseEstimator, TransformerMixin\n",
        "\n",
        "# Custom modules\n",
        "sys.path.append('/content/drive/My Drive/AD Final Experiments')\n",
        "from preprocessing import preprocess_data\n",
        "from splitting import split_data\n",
        "from utils import *\n",
        "from evaluate_model import evaluate_best_model\n",
        "from lr_tuning import hyperparameter_tuning\n",
        "\n",
        "# Reload custom modules to ensure latest updates\n",
        "for module in ['preprocessing', 'splitting', 'utils', 'evaluate_model', 'lr_tuning']:\n",
        "    importlib.reload(sys.modules[module])\n",
        "\n",
        "# Ignore all warnings\n",
        "warnings.filterwarnings(\"ignore\")\n"
      ]
    },
    {
      "cell_type": "code",
      "source": [
        "file_path = '/content/drive/My Drive/AD Identification using SATD/liu_datset_processed.csv'\n",
        "data = preprocess_data(file_path)\n",
        "#X_train_final, X_val, X_test, y_train_final, y_val, y_test = split_data(data)\n",
        "\n",
        "print(\"Data preprocessing Complete!\")\n"
      ],
      "metadata": {
        "colab": {
          "base_uri": "https://localhost:8080/"
        },
        "id": "iVCpI8UyHaMr",
        "outputId": "6d263c6e-1769-4aab-d821-0c4c1e49fc36"
      },
      "execution_count": null,
      "outputs": [
        {
          "output_type": "stream",
          "name": "stdout",
          "text": [
            "Data preprocessing Complete!\n"
          ]
        }
      ]
    },
    {
      "cell_type": "code",
      "source": [
        "df = data\n",
        "X = df['Comments'].apply(lambda x: x.lower().strip())\n",
        "y = df['TDType']\n",
        "\n",
        "X_train_raw, X_test_raw, y_train, y_test = train_test_split(X, y, test_size=0.2, random_state=42)\n",
        "\n",
        "class CustomFeatureExtractor(BaseEstimator, TransformerMixin):\n",
        "    def __init__(self, keywords, save_csv=False, csv_path=None):\n",
        "        self.keywords = keywords\n",
        "        self.save_csv = save_csv\n",
        "        self.csv_path = csv_path\n",
        "\n",
        "    def fit(self, X, y=None):\n",
        "        return self\n",
        "\n",
        "    def transform(self, X, y=None):\n",
        "        # Extract custom features\n",
        "        custom_features = [\n",
        "            {f'contains_{kw}': int(kw in text.lower()) for kw in self.keywords}\n",
        "            for text in X\n",
        "        ]\n",
        "\n",
        "\n",
        "        custom_features_df = pd.DataFrame(custom_features)\n",
        "\n",
        "        if self.save_csv and self.csv_path:\n",
        "            combined_df = pd.DataFrame({'Comments': X}).reset_index(drop=True)\n",
        "            combined_df = pd.concat([combined_df, custom_features_df], axis=1)\n",
        "\n",
        "            if y is not None:\n",
        "                combined_df['TDType'] = y.reset_index(drop=True) if isinstance(y, pd.Series) else pd.Series(y).reset_index(drop=True)\n",
        "\n",
        "            combined_df.to_csv(self.csv_path, index=False)\n",
        "            print(f\"CSV saved to {self.csv_path}\")\n",
        "\n",
        "        # Return sparse matrix of features for the pipeline\n",
        "        return csr_matrix(custom_features_df.values)\n",
        "\n",
        "keywords = ['shape', 'input', 'tensor', 'output', 'size', 'convolution',\n",
        "            'value', 'efficient', 'matrix', 'model', 'node', 'function', 'batch']\n",
        "\n",
        "# Save CSVs\n",
        "debug_extractor = CustomFeatureExtractor(keywords, save_csv=True, csv_path=\"Custom AD Features.csv\")\n",
        "debug_extractor.transform(X_train_raw, y_train)\n",
        "\n",
        "\n",
        "pipeline = Pipeline([\n",
        "    ('features', FeatureUnion([\n",
        "        ('vectorizer', CountVectorizer()),\n",
        "        ('custom', CustomFeatureExtractor(keywords, save_csv=False))  # Disable saving in pipeline\n",
        "    ])),\n",
        "    ('clf', LogisticRegression(class_weight='balanced', random_state=42))\n",
        "])\n",
        "\n",
        "param_grid = {\n",
        "    'clf__C': [0.01, 1, 10],\n",
        "    'clf__penalty': ['l2'],\n",
        "    'clf__max_iter': [100, 200]\n",
        "}\n",
        "\n",
        "grid_search = GridSearchCV(pipeline, param_grid, cv=5, scoring='f1_macro', n_jobs=-1, verbose=1)\n",
        "grid_search.fit(X_train_raw, y_train)\n",
        "\n",
        "best_model = grid_search.best_estimator_\n",
        "best_params = grid_search.best_params_\n",
        "best_score = grid_search.best_score_\n",
        "\n",
        "print(\"Best Parameters:\", best_params)\n",
        "print(f\"Best F1 Score (Macro) on Training Set: {best_score:.2f}\")\n",
        "\n",
        "y_pred_test = best_model.predict(X_test_raw)\n",
        "\n",
        "print(\"\\nEvaluation on Test Set:\")\n",
        "print(f\"F1 Score (Macro): {f1_score(y_test, y_pred_test, average='macro'):.2f}\")\n",
        "print(\"Classification Report:\")\n",
        "print(classification_report(y_test, y_pred_test))\n",
        "print(\"Confusion Matrix:\")\n",
        "print(confusion_matrix(y_test, y_pred_test))"
      ],
      "metadata": {
        "colab": {
          "base_uri": "https://localhost:8080/"
        },
        "id": "7WcU8GgLondV",
        "outputId": "b0a9a012-4a31-44fc-9934-4c058deaaa07"
      },
      "execution_count": null,
      "outputs": [
        {
          "output_type": "stream",
          "name": "stdout",
          "text": [
            "CSV saved to Custom AD Features.csv\n",
            "Fitting 5 folds for each of 6 candidates, totalling 30 fits\n",
            "Best Parameters: {'clf__C': 10, 'clf__max_iter': 100, 'clf__penalty': 'l2'}\n",
            "Best F1 Score (Macro) on Training Set: 0.66\n",
            "\n",
            "Evaluation on Test Set:\n",
            "F1 Score (Macro): 0.68\n",
            "Classification Report:\n",
            "                        precision    recall  f1-score   support\n",
            "\n",
            "             ALGORITHM       0.51      0.57      0.54       200\n",
            "         COMPATIBILITY       0.56      0.55      0.55        89\n",
            "                DEFECT       0.50      0.59      0.54       135\n",
            "                DESIGN       0.86      0.82      0.84      2206\n",
            "         DOCUMENTATION       0.62      0.57      0.59        23\n",
            "        IMPLEMENTATION       0.63      0.75      0.68       387\n",
            "                  TEST       0.70      0.76      0.73       143\n",
            "WITHOUT_CLASSIFICATION       0.97      0.96      0.96      4592\n",
            "\n",
            "              accuracy                           0.88      7775\n",
            "             macro avg       0.67      0.70      0.68      7775\n",
            "          weighted avg       0.89      0.88      0.88      7775\n",
            "\n",
            "Confusion Matrix:\n",
            "[[ 114    2    3   49    0    7    2   23]\n",
            " [   2   49    3   14    0    9    4    8]\n",
            " [   5    3   79   28    0    4    5   11]\n",
            " [  68   26   50 1801    5  138   19   99]\n",
            " [   3    0    0    4   13    2    1    0]\n",
            " [   3    1   12   67    0  292    6    6]\n",
            " [   0    1    2   14    1    7  109    9]\n",
            " [  30    6    9  122    2    7    9 4407]]\n"
          ]
        }
      ]
    },
    {
      "cell_type": "code",
      "source": [
        "import joblib\n",
        "\n",
        "# Save model\n",
        "joblib.dump(best_model, 'LR_CustomFeatures.pkl')\n",
        "\n",
        "# Later, load it without retraining\n",
        "best_model = joblib.load('LR_CustomFeatures.pkl')\n"
      ],
      "metadata": {
        "id": "X4siFTIm7ms5"
      },
      "execution_count": null,
      "outputs": []
    },
    {
      "cell_type": "code",
      "source": [
        "\n",
        "llm_examples = [\n",
        "    \"Adjust learning per minibatches at very beginning of training process this could be used to tackle the unstableness of ASGD\",\n",
        "    \"TODO: We should be able to move instead of copy but it currently isn't strightforward due to redU and redVT being slices\",\n",
        "\n",
        "    \"Hack for the tracer that allows us to represent RNNs as singlenodes and export them to ONNX in this form\",\n",
        "\n",
        "    \"Linux gcc barfs on this ^^ for 'us = (double)((std::wstring)arg).size();' due to some ambiguity error (while it works fine with Visual Studio). If you encounter this, instead say 'us = (double)((const std::wstring&)arg).size();' with a &. Don't forget the const (I have seen broken typecasts without).\",\n",
        "    \"TODO: fix libname for OSX / Windows\",\n",
        "    \"TODO: just load 5.1, not 5.1.3TODO: dynamic version checks via cudnnGetVersion\",\n",
        "    \"/* TODO: remove the extra copies of the input. These are only * used for debugging purposes during development and testing. */\",\n",
        "    \"/*TODO: merge with call site*/ void BackpropToLeftS(Matrix<ElemType & input1FunctionValues, Matrix<ElemType & input0GradientValues, const Matrix<ElemType & gradientValues, Matrix<ElemType & tempMatrix) { tempMatrix.SetValue(gradientValues); tempMatrix.ColumnElementMultiplyWith(input1FunctionValues); input0GradientValues += tempMatrix;\",\n",
        "    \"TODO vectorize mixed product\",\n",
        "\n",
        "    \"TODO(b/73448937): Move all update damping code to a separate class/function.\",\n",
        "    \"This really should be done in an external debugging tool\",\n",
        "    \"ReshapeNode -- reshape input matrix TODO: Why is this in NonlinearityNodes.h? Should he linear algebra no? =======================================================================\",\n",
        "\n",
        "\n",
        "    \"TODO(nsilberman): Documentation.\",\n",
        "    \"todo: add assertion }\",\n",
        "    \"TODO: add loading from checkpoint\",\n",
        "    \"TODO(satok): Implement all possible cases.\",\n",
        "\n",
        "]\n",
        "\n",
        "\n",
        "# convert to lowercase and strip whitespace, same as training\n",
        "llm_examples_clean = [c.lower().strip() for c in llm_examples]\n"
      ],
      "metadata": {
        "id": "F0vYG7XVpFhH"
      },
      "execution_count": null,
      "outputs": []
    },
    {
      "cell_type": "code",
      "source": [
        "# Predict on LLM examples\n",
        "llm_predictions = best_model.predict(llm_examples_clean)\n",
        "\n",
        "# Print results\n",
        "for comment, pred in zip(llm_examples, llm_predictions):\n",
        "    print(f\"Comment: {comment}\\nYour Model Prediction: {pred}\\n\")"
      ],
      "metadata": {
        "id": "uHvHxWwxttQH"
      },
      "execution_count": null,
      "outputs": []
    }
  ],
  "metadata": {
    "colab": {
      "machine_shape": "hm",
      "provenance": [],
      "gpuType": "T4",
      "include_colab_link": true
    },
    "kernelspec": {
      "display_name": "Python 3",
      "name": "python3"
    },
    "language_info": {
      "name": "python"
    },
    "accelerator": "GPU"
  },
  "nbformat": 4,
  "nbformat_minor": 0
}