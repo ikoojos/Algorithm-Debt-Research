{
  "cells": [
    {
      "cell_type": "code",
      "execution_count": null,
      "metadata": {
        "id": "DcsKeqbTQnon"
      },
      "outputs": [],
      "source": [
        " import warnings\n",
        "\n",
        "# Ignore all warnings\n",
        "warnings.filterwarnings(\"ignore\")"
      ]
    },
    {
      "cell_type": "code",
      "execution_count": null,
      "metadata": {
        "colab": {
          "base_uri": "https://localhost:8080/"
        },
        "id": "DMA9H5i62C9Z",
        "outputId": "de0750d8-06b3-469c-f851-b7788053dd8b"
      },
      "outputs": [
        {
          "output_type": "stream",
          "name": "stdout",
          "text": [
            "Mounted at /content/drive\n",
            "/content/drive/My Drive/AD Identification using SATD\n"
          ]
        }
      ],
      "source": [
        "from google.colab import drive\n",
        "drive.mount('/content/drive')\n",
        "%cd '/content/drive/My Drive/AD Identification using SATD'"
      ]
    },
    {
      "cell_type": "code",
      "source": [
        "import matplotlib.pyplot as plt\n",
        "import pandas as pd\n",
        "import numpy as np\n",
        "import seaborn as sns\n",
        "from sklearn.model_selection import train_test_split, StratifiedKFold, GridSearchCV\n",
        "from sklearn.feature_extraction.text import CountVectorizer, TfidfVectorizer, HashingVectorizer\n",
        "from sklearn.ensemble import RandomForestClassifier\n",
        "from sklearn.linear_model import LogisticRegression\n",
        "from sklearn.svm import SVC\n",
        "from sklearn.pipeline import Pipeline\n",
        "from sklearn.metrics import accuracy_score, classification_report, confusion_matrix\n",
        "from sklearn.preprocessing import LabelEncoder, MultiLabelBinarizer\n",
        "from sklearn.multioutput import MultiOutputClassifier"
      ],
      "metadata": {
        "id": "mLPdx-PhwD87"
      },
      "execution_count": null,
      "outputs": []
    },
    {
      "cell_type": "markdown",
      "source": [
        "##Read the dataset and process"
      ],
      "metadata": {
        "id": "HEgQAe2tghCI"
      }
    },
    {
      "cell_type": "code",
      "source": [
        "# Load the dataset\n",
        "liu_path = '/content/drive/My Drive/AD Identification using SATD/liu_datset_processed.csv'\n",
        "liu_ = pd.read_csv(liu_path, low_memory=False)\n",
        "\n",
        "# Fill missing values in 'Comments'\n",
        "liu_['Comments'].fillna('', inplace=True)\n",
        "liu_['TDType'] = liu_['TDType'].astype(str)\n",
        "\n",
        "\n",
        "values_to_remove = ['MULTITHREAD', 'nan', 'removeType']\n",
        "liu_['TDType'].replace(values_to_remove, 'WITHOUT_CLASSIFICATION', inplace=True)\n",
        "\n",
        "# Remove duplicates based on 'Comments' and 'TDType'\n",
        "liu_ = liu_.drop_duplicates(subset=['Comments', 'TDType'])\n",
        "\n",
        "# Clean up the 'Comments' column\n",
        "liu_['Comments'] = liu_['Comments'].str.replace('content=', '', regex=False)\n",
        "liu_['Comments'] = liu_['Comments'].str.replace('\"', '', regex=False)\n"
      ],
      "metadata": {
        "id": "EiqT39tjwR7p"
      },
      "execution_count": null,
      "outputs": []
    },
    {
      "cell_type": "code",
      "source": [
        "# Count the number of duplicate rows in the DataFrame\n",
        "num_duplicates = liu_.duplicated().sum()\n",
        "print(f\"Number of duplicate rows: {num_duplicates}\")\n"
      ],
      "metadata": {
        "id": "-rOU-PcknHuX",
        "colab": {
          "base_uri": "https://localhost:8080/"
        },
        "outputId": "b7773e29-dcf2-4fb2-bc5d-f852f5de8e82"
      },
      "execution_count": null,
      "outputs": [
        {
          "output_type": "stream",
          "name": "stdout",
          "text": [
            "Number of duplicate rows: 0\n"
          ]
        }
      ]
    },
    {
      "cell_type": "markdown",
      "source": [
        "#LR HASH"
      ],
      "metadata": {
        "id": "il5g6O3oaBZw"
      }
    },
    {
      "cell_type": "code",
      "source": [
        "data = liu_\n",
        "\n",
        "# Split data into train and test sets (80% train, 20% test)\n",
        "X_train, X_test, y_train, y_test = train_test_split(data['Comments'], data['TDType'], test_size=0.2, random_state=42)\n",
        "X_train_final, X_val, y_train_final, y_val = train_test_split(X_train, y_train, test_size=0.2, random_state=42)\n",
        "\n",
        "# Define the pipeline with TF-IDF and LR\n",
        "pipeline = Pipeline([\n",
        "    ('Hash', HashingVectorizer()),\n",
        "    ('scaler', StandardScaler(with_mean=False)),\n",
        "    ('clf', LogisticRegression(random_state=42, max_iter=1000, class_weight='balanced'))\n",
        "])\n",
        "\n",
        "# Define the hyperparameters grid for tuning LR\n",
        "param_grid = {\n",
        "    'clf__C': [0.01, 0.1, 1, 10],  # Regularisation strength\n",
        "    #'clf__solver': ['lbfgs', 'liblinear'],  # Solvers to handle different scenarios\n",
        "    'clf__penalty': ['l2', 'elasticnet'],  # Regularisation penalty type\n",
        "    'clf__max_iter': [100, 200, 500]  # Number of iterations for convergence\n",
        "}\n",
        "\n",
        "# Set up GridSearchCV with StratifiedKFold and the parameter grid\n",
        "grid_search = GridSearchCV(estimator=pipeline,\n",
        "                           param_grid=param_grid,\n",
        "                           cv=StratifiedKFold(n_splits=5, shuffle=True, random_state=42),\n",
        "                           scoring='accuracy',\n",
        "                           n_jobs=-1,\n",
        "                           verbose=2)\n",
        "\n",
        "\n",
        "grid_search.fit(X_train_final, y_train_final)\n",
        "\n",
        "\n",
        "print(\"Best parameters found:\", grid_search.best_params_)\n",
        "\n",
        "# Evaluate the best model on the validation set\n",
        "best_model = grid_search.best_estimator_\n",
        "y_val_pred = best_model.predict(X_val)\n",
        "conf_matrix_val = confusion_matrix(y_val, y_val_pred)\n",
        "classification_rep_val = classification_report(y_val, y_val_pred)\n",
        "\n",
        "print(\"\\nValidation Confusion Matrix:\")\n",
        "print(conf_matrix_val)\n",
        "print(\"\\nValidation Classification Report:\")\n",
        "print(classification_rep_val)\n",
        "\n",
        "#Evaluate the best model on the test set\n",
        "y_test_pred = best_model.predict(X_test)\n",
        "conf_matrix_test = confusion_matrix(y_test, y_test_pred)\n",
        "classification_rep_test = classification_report(y_test, y_test_pred)\n",
        "\n",
        "print(\"\\nTest Confusion Matrix:\")\n",
        "print(conf_matrix_test)\n",
        "print(\"\\nTest Classification Report:\")\n",
        "print(classification_rep_test)\n"
      ],
      "metadata": {
        "colab": {
          "base_uri": "https://localhost:8080/"
        },
        "id": "J2xSbPFk6MmF",
        "outputId": "0c26636b-f160-43c5-9099-d5045d6294f0"
      },
      "execution_count": null,
      "outputs": [
        {
          "output_type": "stream",
          "name": "stdout",
          "text": [
            "Fitting 5 folds for each of 24 candidates, totalling 120 fits\n",
            "Best parameters found: {'clf__C': 10, 'clf__max_iter': 200, 'clf__penalty': 'l2'}\n",
            "\n",
            "Validation Confusion Matrix:\n",
            "[[  70    1    0   49    0    4    0   19]\n",
            " [   3   37    1   19    0    3    0    4]\n",
            " [   3    5   58   15    1    4    6    7]\n",
            " [  69   38   50 1325    4  120   18   92]\n",
            " [   2    0    0    3   12    1    1    1]\n",
            " [   5    3    5   72    4  240    3   16]\n",
            " [   1    3    1   13    1    2   80    4]\n",
            " [  49   17    9   94    1   12   21 3519]]\n",
            "\n",
            "Validation Classification Report:\n",
            "                        precision    recall  f1-score   support\n",
            "\n",
            "             ALGORITHM       0.35      0.49      0.41       143\n",
            "         COMPATIBILITY       0.36      0.55      0.43        67\n",
            "                DEFECT       0.47      0.59      0.52        99\n",
            "                DESIGN       0.83      0.77      0.80      1716\n",
            "         DOCUMENTATION       0.52      0.60      0.56        20\n",
            "        IMPLEMENTATION       0.62      0.69      0.65       348\n",
            "                  TEST       0.62      0.76      0.68       105\n",
            "WITHOUT_CLASSIFICATION       0.96      0.95      0.95      3722\n",
            "\n",
            "              accuracy                           0.86      6220\n",
            "             macro avg       0.59      0.67      0.63      6220\n",
            "          weighted avg       0.87      0.86      0.86      6220\n",
            "\n",
            "\n",
            "Test Confusion Matrix:\n",
            "[[ 122    0    5   40    1    7    2   23]\n",
            " [   3   51    4   12    0    6    4    9]\n",
            " [   4    4   81   28    0    2    6   10]\n",
            " [ 109   29   62 1746    7  126   23  104]\n",
            " [   1    0    0    3   14    5    0    0]\n",
            " [   3    3   11   64    0  289    5   12]\n",
            " [   1    1    3    9    1    3  117    8]\n",
            " [  66    8   10  136    4    9   28 4331]]\n",
            "\n",
            "Test Classification Report:\n",
            "                        precision    recall  f1-score   support\n",
            "\n",
            "             ALGORITHM       0.39      0.61      0.48       200\n",
            "         COMPATIBILITY       0.53      0.57      0.55        89\n",
            "                DEFECT       0.46      0.60      0.52       135\n",
            "                DESIGN       0.86      0.79      0.82      2206\n",
            "         DOCUMENTATION       0.52      0.61      0.56        23\n",
            "        IMPLEMENTATION       0.65      0.75      0.69       387\n",
            "                  TEST       0.63      0.82      0.71       143\n",
            "WITHOUT_CLASSIFICATION       0.96      0.94      0.95      4592\n",
            "\n",
            "              accuracy                           0.87      7775\n",
            "             macro avg       0.63      0.71      0.66      7775\n",
            "          weighted avg       0.88      0.87      0.87      7775\n",
            "\n"
          ]
        }
      ]
    }
  ],
  "metadata": {
    "colab": {
      "gpuType": "T4",
      "machine_shape": "hm",
      "provenance": []
    },
    "kernelspec": {
      "display_name": "Python 3",
      "name": "python3"
    },
    "language_info": {
      "name": "python"
    }
  },
  "nbformat": 4,
  "nbformat_minor": 0
}