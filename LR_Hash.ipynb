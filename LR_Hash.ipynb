{
  "cells": [
    {
      "cell_type": "markdown",
      "metadata": {
        "id": "view-in-github",
        "colab_type": "text"
      },
      "source": [
        "<a href=\"https://colab.research.google.com/github/ikoojos/Algorithm-Debt-Research/blob/master/LR_Hash.ipynb\" target=\"_parent\"><img src=\"https://colab.research.google.com/assets/colab-badge.svg\" alt=\"Open In Colab\"/></a>"
      ]
    },
    {
      "cell_type": "code",
      "source": [
        "import sys\n",
        "from google.colab import drive\n",
        "from itertools import product\n",
        "from sklearn.linear_model import LogisticRegression\n",
        "import importlib\n",
        "\n",
        "# Mount Google Drive\n",
        "drive.mount('/content/drive')\n",
        "sys.path.append('/content/drive/My Drive/AD Final Experiments')\n",
        "\n",
        "# Import custom modules\n",
        "from preprocessing import preprocess_data\n",
        "from splitting import split_data\n",
        "from utils import *\n",
        "from evaluate_model import evaluate_best_model\n",
        "from lr_tuning import hyperparameter_tuning\n",
        "\n",
        "\n",
        "for module in ['preprocessing', 'splitting', 'utils', 'evaluate_model', 'lr_tuning']:\n",
        "    importlib.reload(sys.modules[module])\n"
      ],
      "metadata": {
        "colab": {
          "base_uri": "https://localhost:8080/"
        },
        "id": "XPgcI0ID-uWR",
        "outputId": "daa18168-3229-414d-bde8-e7430f388dd6"
      },
      "execution_count": 14,
      "outputs": [
        {
          "output_type": "stream",
          "name": "stdout",
          "text": [
            "Drive already mounted at /content/drive; to attempt to forcibly remount, call drive.mount(\"/content/drive\", force_remount=True).\n"
          ]
        }
      ]
    },
    {
      "cell_type": "code",
      "source": [
        "file_path = '/content/drive/My Drive/AD Identification using SATD/liu_datset_processed.csv'\n",
        "data = preprocess_data(file_path)\n",
        "X_train_final, X_val, X_test, y_train_final, y_val, y_test = split_data(data)"
      ],
      "metadata": {
        "id": "SROlvyyO88QJ"
      },
      "execution_count": 15,
      "outputs": []
    },
    {
      "cell_type": "code",
      "source": [
        "from sklearn.preprocessing import StandardScaler\n",
        "# Define your parameter grid and vectorizer\n",
        "param_grid = {\n",
        "    'C': [0.01, 1, 10],\n",
        "    'penalty': ['l2'],\n",
        "    'max_iter': [1, 10, 100, 200]\n",
        "}\n",
        "\n",
        "# Use HashingVectorizer\n",
        "vectorizer = HashingVectorizer()\n",
        "best_model, best_params, best_score = hyperparameter_tuning(X_train_final, y_train_final, X_val, y_val, param_grid, vectorizer)\n",
        "evaluate_best_model(best_model, best_params, best_score, X_test, y_test)"
      ],
      "metadata": {
        "colab": {
          "base_uri": "https://localhost:8080/"
        },
        "id": "Xa3Auz7J-J3Z",
        "outputId": "d69237a2-2e95-472b-c668-179acc41262b"
      },
      "execution_count": 16,
      "outputs": [
        {
          "output_type": "stream",
          "name": "stdout",
          "text": [
            "Best parameters found: {'C': 0.01, 'penalty': 'l2', 'max_iter': 200}\n",
            "Validation set accuracy: 0.8435691318327975\n",
            "\n",
            "Test Confusion Matrix:\n",
            "[[  88    2    2   59    2   11    1   35]\n",
            " [   2   41    2   24    0    6    2   12]\n",
            " [   1    4   58   45    0    3    5   19]\n",
            " [  42   15   37 1770    6  118   20  198]\n",
            " [   0    0    0    6   12    3    0    2]\n",
            " [   6    2   12   85    1  236    4   41]\n",
            " [   1    1    4   27    1    8   73   28]\n",
            " [  25    8   17  175    6   13   17 4331]]\n",
            "\n",
            "Test Classification Report:\n",
            "                        precision    recall  f1-score   support\n",
            "\n",
            "             ALGORITHM       0.53      0.44      0.48       200\n",
            "         COMPATIBILITY       0.56      0.46      0.51        89\n",
            "                DEFECT       0.44      0.43      0.43       135\n",
            "                DESIGN       0.81      0.80      0.81      2206\n",
            "         DOCUMENTATION       0.43      0.52      0.47        23\n",
            "        IMPLEMENTATION       0.59      0.61      0.60       387\n",
            "                  TEST       0.60      0.51      0.55       143\n",
            "WITHOUT_CLASSIFICATION       0.93      0.94      0.94      4592\n",
            "\n",
            "              accuracy                           0.85      7775\n",
            "             macro avg       0.61      0.59      0.60      7775\n",
            "          weighted avg       0.85      0.85      0.85      7775\n",
            "\n"
          ]
        }
      ]
    }
  ],
  "metadata": {
    "colab": {
      "gpuType": "T4",
      "machine_shape": "hm",
      "provenance": [],
      "include_colab_link": true
    },
    "kernelspec": {
      "display_name": "Python 3",
      "name": "python3"
    },
    "language_info": {
      "name": "python"
    }
  },
  "nbformat": 4,
  "nbformat_minor": 0
}