{
  "cells": [
    {
      "cell_type": "code",
      "execution_count": null,
      "metadata": {
        "id": "DcsKeqbTQnon"
      },
      "outputs": [],
      "source": [
        " import warnings\n",
        "\n",
        "# Ignore all warnings\n",
        "warnings.filterwarnings(\"ignore\")"
      ]
    },
    {
      "cell_type": "code",
      "execution_count": null,
      "metadata": {
        "colab": {
          "base_uri": "https://localhost:8080/"
        },
        "id": "DMA9H5i62C9Z",
        "outputId": "66b5c258-10db-4bd1-90d7-a4402c898f29"
      },
      "outputs": [
        {
          "output_type": "stream",
          "name": "stdout",
          "text": [
            "Mounted at /content/drive\n",
            "/content/drive/My Drive/AD Identification using SATD\n"
          ]
        }
      ],
      "source": [
        "from google.colab import drive\n",
        "drive.mount('/content/drive')\n",
        "%cd '/content/drive/My Drive/AD Identification using SATD'"
      ]
    },
    {
      "cell_type": "code",
      "source": [
        "import numpy as np\n",
        "import pandas as pd\n",
        "\n",
        "from sklearn.model_selection import train_test_split, StratifiedKFold, GridSearchCV\n",
        "from sklearn.feature_extraction.text import CountVectorizer, TfidfVectorizer, HashingVectorizer\n",
        "from sklearn.svm import SVC\n",
        "from sklearn.metrics import accuracy_score, classification_report, confusion_matrix\n",
        "from sklearn.preprocessing import LabelEncoder, MultiLabelBinarizer, StandardScaler\n",
        "from sklearn.multioutput import MultiOutputClassifier\n",
        "from sklearn.pipeline import Pipeline\n"
      ],
      "metadata": {
        "id": "icdkNGWh60TX"
      },
      "execution_count": null,
      "outputs": []
    },
    {
      "cell_type": "markdown",
      "metadata": {
        "id": "cF-tbskFeYnn"
      },
      "source": [
        "#Read the dataset\n"
      ]
    },
    {
      "cell_type": "code",
      "execution_count": null,
      "metadata": {
        "id": "MItX6IAvtxPx"
      },
      "outputs": [],
      "source": [
        "import pandas as pd\n",
        "liu_ = '/content/drive/My Drive/AD Identification using SATD/liu_datset_processed.csv'\n",
        "liu_ = pd.read_csv(liu_, low_memory=False)"
      ]
    },
    {
      "cell_type": "code",
      "execution_count": null,
      "metadata": {
        "id": "vNrWN2oDsJDZ"
      },
      "outputs": [],
      "source": [
        "liu_['Comments'].fillna('', inplace=True)\n",
        "liu_['TDType'] = liu_['TDType'].astype(str)\n",
        "\n",
        "values_to_remove = ['MULTITHREAD', 'nan', 'removeType']\n",
        "replacement_value = 'WITHOUT_CLASSIFICATION'\n",
        "liu_['TDType'].replace(values_to_remove, replacement_value, inplace=True)\n",
        "\n",
        "liu_['Comments'] = liu_['Comments'].str.replace('content=', '', regex=False)\n",
        "liu_['Comments'] = liu_['Comments'].str.replace('\"', '', regex=False)"
      ]
    },
    {
      "cell_type": "code",
      "execution_count": null,
      "metadata": {
        "id": "2EbLDtvUshnW"
      },
      "outputs": [],
      "source": [
        "liu_ = liu_.drop_duplicates(subset=['Comments', 'TDType'])\n",
        "liu_['TDType'] = liu_['TDType'].replace('removeType', 'WITHOUT_CLASSIFICATION')"
      ]
    },
    {
      "cell_type": "code",
      "execution_count": null,
      "metadata": {
        "colab": {
          "base_uri": "https://localhost:8080/"
        },
        "id": "-rOU-PcknHuX",
        "outputId": "b3326422-c8ba-424a-c859-86ff44f5b801"
      },
      "outputs": [
        {
          "output_type": "stream",
          "name": "stdout",
          "text": [
            "Number of duplicate rows: 0\n"
          ]
        }
      ],
      "source": [
        "# Count the number of duplicate rows in the DataFrame\n",
        "num_duplicates = liu_.duplicated().sum()\n",
        "\n",
        "print(f\"Number of duplicate rows: {num_duplicates}\")\n"
      ]
    },
    {
      "cell_type": "markdown",
      "source": [
        "##CountVect"
      ],
      "metadata": {
        "id": "Glg8pO2aEUNr"
      }
    },
    {
      "cell_type": "code",
      "source": [
        "data = liu_\n",
        "\n",
        "# Split data into train and test sets (80% train, 20% test)\n",
        "X_train, X_test, y_train, y_test = train_test_split(data['Comments'], data['TDType'], test_size=0.2, random_state=42)\n",
        "# Further split the training set into training and validation sets\n",
        "X_train_final, X_val, y_train_final, y_val = train_test_split(X_train, y_train, test_size=0.2, random_state=42)\n",
        "\n",
        "# Define the pipeline\n",
        "pipeline = Pipeline([\n",
        "    ('CountVectorizer', CountVectorizer()),\n",
        "    ('scaler', StandardScaler(with_mean=False)),  # Scale feature vectors\n",
        "    ('clf', SVC(random_state=42, kernel='rbf', class_weight='balanced', probability=True))  # SVM\n",
        "])\n",
        "\n",
        "\n",
        "param_grid = {\n",
        "    'clf__C': [0.01, 1],  # Regularization strength\n",
        "\n",
        "\n",
        "}\n",
        "\n",
        "grid_search = GridSearchCV(estimator=pipeline,\n",
        "                           param_grid=param_grid,\n",
        "                           cv=StratifiedKFold(n_splits=5, shuffle=True, random_state=42),\n",
        "                           scoring='accuracy',\n",
        "                           n_jobs=-1,\n",
        "                           verbose=2)\n",
        "\n",
        "# Fit the grid search to the training data\n",
        "grid_search.fit(X_train_final, y_train_final)\n",
        "\n",
        "\n",
        "print(\"Best parameters found:\", grid_search.best_params_)\n",
        "\n",
        "# Evaluate the best model on the validation set\n",
        "best_model = grid_search.best_estimator_\n",
        "y_val_pred = best_model.predict(X_val)\n",
        "conf_matrix_val = confusion_matrix(y_val, y_val_pred)\n",
        "classification_rep_val = classification_report(y_val, y_val_pred)\n",
        "\n",
        "print(\"\\nValidation Confusion Matrix:\")\n",
        "print(conf_matrix_val)\n",
        "print(\"\\nValidation Classification Report:\")\n",
        "print(classification_rep_val)\n",
        "\n",
        "# Evaluate the best model on the test set\n",
        "y_test_pred = best_model.predict(X_test)\n",
        "conf_matrix_test = confusion_matrix(y_test, y_test_pred)\n",
        "classification_rep_test = classification_report(y_test, y_test_pred)\n",
        "\n",
        "print(\"\\nTest Confusion Matrix:\")\n",
        "print(conf_matrix_test)\n",
        "print(\"\\nTest Classification Report:\")\n",
        "print(classification_rep_test)\n"
      ],
      "metadata": {
        "id": "r-FODTGsBX1r",
        "colab": {
          "base_uri": "https://localhost:8080/"
        },
        "outputId": "83c15d7c-d846-471a-ccf1-b4eee6b63c1e"
      },
      "execution_count": null,
      "outputs": [
        {
          "output_type": "stream",
          "name": "stdout",
          "text": [
            "Fitting 5 folds for each of 2 candidates, totalling 10 fits\n",
            "Best parameters found: {'clf__C': 1}\n",
            "\n",
            "Validation Confusion Matrix:\n",
            "[[  29    4    1   49    0    4    0   56]\n",
            " [   0   21    1   25    0    2    1   17]\n",
            " [   1    1   31   29    1    3    3   30]\n",
            " [  12   12   16  895    8   69   15  689]\n",
            " [   0    0    0    5   10    2    0    3]\n",
            " [   0    2    2   75    4  141    5  119]\n",
            " [   0    1    0   30    1    4   42   27]\n",
            " [   8    6    2  617    5    5    5 3074]]\n",
            "\n",
            "Validation Classification Report:\n",
            "                        precision    recall  f1-score   support\n",
            "\n",
            "             ALGORITHM       0.58      0.20      0.30       143\n",
            "         COMPATIBILITY       0.45      0.31      0.37        67\n",
            "                DEFECT       0.58      0.31      0.41        99\n",
            "                DESIGN       0.52      0.52      0.52      1716\n",
            "         DOCUMENTATION       0.34      0.50      0.41        20\n",
            "        IMPLEMENTATION       0.61      0.41      0.49       348\n",
            "                  TEST       0.59      0.40      0.48       105\n",
            "WITHOUT_CLASSIFICATION       0.77      0.83      0.79      3722\n",
            "\n",
            "              accuracy                           0.68      6220\n",
            "             macro avg       0.56      0.44      0.47      6220\n",
            "          weighted avg       0.67      0.68      0.67      6220\n",
            "\n",
            "\n",
            "Test Confusion Matrix:\n",
            "[[  53    0    0   68    0    8    1   70]\n",
            " [   0   38    2   18    0    5    0   26]\n",
            " [   3    3   49   43    0    4    1   32]\n",
            " [   9   16   20 1097    3  102   21  938]\n",
            " [   0    0    1    4    8    5    0    5]\n",
            " [   1    0    2   84    1  160    3  136]\n",
            " [   0    1    1   39    1   10   46   45]\n",
            " [   6    5    1  772    5    4    3 3796]]\n",
            "\n",
            "Test Classification Report:\n",
            "                        precision    recall  f1-score   support\n",
            "\n",
            "             ALGORITHM       0.74      0.27      0.39       200\n",
            "         COMPATIBILITY       0.60      0.43      0.50        89\n",
            "                DEFECT       0.64      0.36      0.46       135\n",
            "                DESIGN       0.52      0.50      0.51      2206\n",
            "         DOCUMENTATION       0.44      0.35      0.39        23\n",
            "        IMPLEMENTATION       0.54      0.41      0.47       387\n",
            "                  TEST       0.61      0.32      0.42       143\n",
            "WITHOUT_CLASSIFICATION       0.75      0.83      0.79      4592\n",
            "\n",
            "              accuracy                           0.67      7775\n",
            "             macro avg       0.61      0.43      0.49      7775\n",
            "          weighted avg       0.67      0.67      0.66      7775\n",
            "\n"
          ]
        }
      ]
    }
  ],
  "metadata": {
    "colab": {
      "gpuType": "A100",
      "machine_shape": "hm",
      "provenance": []
    },
    "kernelspec": {
      "display_name": "Python 3",
      "name": "python3"
    },
    "language_info": {
      "name": "python"
    },
    "accelerator": "GPU"
  },
  "nbformat": 4,
  "nbformat_minor": 0
}