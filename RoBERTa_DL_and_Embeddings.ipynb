{
  "cells": [
    {
      "cell_type": "markdown",
      "metadata": {
        "id": "view-in-github",
        "colab_type": "text"
      },
      "source": [
        "<a href=\"https://colab.research.google.com/github/ikoojos/Algorithm-Debt-Research/blob/master/RoBERTa_DL_and_Embeddings.ipynb\" target=\"_parent\"><img src=\"https://colab.research.google.com/assets/colab-badge.svg\" alt=\"Open In Colab\"/></a>"
      ]
    },
    {
      "cell_type": "code",
      "source": [
        "%cd '/content/drive/My Drive/AD Final Experiments'"
      ],
      "metadata": {
        "id": "4Plyc4ljr0gR"
      },
      "execution_count": null,
      "outputs": []
    },
    {
      "cell_type": "code",
      "execution_count": null,
      "metadata": {
        "colab": {
          "base_uri": "https://localhost:8080/"
        },
        "id": "DMA9H5i62C9Z",
        "outputId": "30351eb4-87cc-4eda-db8d-fc0c44e12a48"
      },
      "outputs": [
        {
          "output_type": "stream",
          "name": "stdout",
          "text": [
            "Mounted at /content/drive\n"
          ]
        }
      ],
      "source": [
        "import sys\n",
        "import os\n",
        "from google.colab import drive\n",
        "drive.mount('/content/drive')\n",
        "sys.path.append('/content/drive/My Drive/AD Final Experiments')\n",
        "\n",
        "import importlib\n",
        "import numpy as np\n",
        "import pandas as pd\n",
        "from itertools import product\n",
        "\n",
        "from sklearn.linear_model import LogisticRegression\n",
        "from sklearn.model_selection import train_test_split\n",
        "from sklearn.preprocessing import LabelEncoder, StandardScaler, MultiLabelBinarizer\n",
        "from sklearn.multioutput import MultiOutputClassifier\n",
        "\n",
        "from nltk.tokenize import word_tokenize\n",
        "from gensim.models import Word2Vec\n",
        "\n",
        "import torch\n",
        "from torch.utils.data import DataLoader, Dataset\n",
        "from transformers import RobertaTokenizer, RobertaForSequenceClassification, Trainer, TrainingArguments, EarlyStoppingCallback\n",
        "\n",
        "from preprocessing import preprocess_data\n",
        "from splitting import split_data\n",
        "from utils import *\n",
        "from evaluate_model import evaluate_best_model\n",
        "from lr_tuning import hyperparameter_tuning\n",
        "\n",
        "for module in ['preprocessing', 'splitting', 'utils', 'evaluate_model', 'lr_tuning']:\n",
        "    importlib.reload(sys.modules[module])\n"
      ]
    },
    {
      "cell_type": "code",
      "execution_count": null,
      "metadata": {
        "id": "MItX6IAvtxPx"
      },
      "outputs": [],
      "source": [
        "file_path = '/content/drive/My Drive/AD Identification using SATD/liu_datset_processed.csv'\n",
        "data = preprocess_data(file_path)"
      ]
    },
    {
      "cell_type": "code",
      "source": [
        "pip install transformers"
      ],
      "metadata": {
        "id": "9_vHpe-wNiKL",
        "colab": {
          "base_uri": "https://localhost:8080/"
        },
        "outputId": "8da1401f-370a-49f3-9496-68c0ef001313"
      },
      "execution_count": null,
      "outputs": [
        {
          "output_type": "stream",
          "name": "stdout",
          "text": [
            "Requirement already satisfied: transformers in /usr/local/lib/python3.11/dist-packages (4.47.1)\n",
            "Requirement already satisfied: filelock in /usr/local/lib/python3.11/dist-packages (from transformers) (3.16.1)\n",
            "Requirement already satisfied: huggingface-hub<1.0,>=0.24.0 in /usr/local/lib/python3.11/dist-packages (from transformers) (0.27.1)\n",
            "Requirement already satisfied: numpy>=1.17 in /usr/local/lib/python3.11/dist-packages (from transformers) (1.26.4)\n",
            "Requirement already satisfied: packaging>=20.0 in /usr/local/lib/python3.11/dist-packages (from transformers) (24.2)\n",
            "Requirement already satisfied: pyyaml>=5.1 in /usr/local/lib/python3.11/dist-packages (from transformers) (6.0.2)\n",
            "Requirement already satisfied: regex!=2019.12.17 in /usr/local/lib/python3.11/dist-packages (from transformers) (2024.11.6)\n",
            "Requirement already satisfied: requests in /usr/local/lib/python3.11/dist-packages (from transformers) (2.32.3)\n",
            "Requirement already satisfied: tokenizers<0.22,>=0.21 in /usr/local/lib/python3.11/dist-packages (from transformers) (0.21.0)\n",
            "Requirement already satisfied: safetensors>=0.4.1 in /usr/local/lib/python3.11/dist-packages (from transformers) (0.5.2)\n",
            "Requirement already satisfied: tqdm>=4.27 in /usr/local/lib/python3.11/dist-packages (from transformers) (4.67.1)\n",
            "Requirement already satisfied: fsspec>=2023.5.0 in /usr/local/lib/python3.11/dist-packages (from huggingface-hub<1.0,>=0.24.0->transformers) (2024.10.0)\n",
            "Requirement already satisfied: typing-extensions>=3.7.4.3 in /usr/local/lib/python3.11/dist-packages (from huggingface-hub<1.0,>=0.24.0->transformers) (4.12.2)\n",
            "Requirement already satisfied: charset-normalizer<4,>=2 in /usr/local/lib/python3.11/dist-packages (from requests->transformers) (3.4.1)\n",
            "Requirement already satisfied: idna<4,>=2.5 in /usr/local/lib/python3.11/dist-packages (from requests->transformers) (3.10)\n",
            "Requirement already satisfied: urllib3<3,>=1.21.1 in /usr/local/lib/python3.11/dist-packages (from requests->transformers) (2.3.0)\n",
            "Requirement already satisfied: certifi>=2017.4.17 in /usr/local/lib/python3.11/dist-packages (from requests->transformers) (2024.12.14)\n"
          ]
        }
      ]
    },
    {
      "cell_type": "code",
      "source": [
        "import wandb\n",
        "\n",
        "wandb.init(mode=\"disabled\")"
      ],
      "metadata": {
        "colab": {
          "base_uri": "https://localhost:8080/",
          "height": 38
        },
        "id": "_NbPy7m57jfa",
        "outputId": "e2090b37-1168-4ce5-c549-6ead3aff655c"
      },
      "execution_count": null,
      "outputs": [
        {
          "output_type": "execute_result",
          "data": {
            "text/html": [
              "<button onClick=\"this.nextSibling.style.display='block';this.style.display='none';\">Display W&B run</button><iframe src='https://wandb.ai/dummy/dummy/runs/wjt6kj2k?jupyter=true' style='border:none;width:100%;height:420px;display:none;'></iframe>"
            ],
            "text/plain": [
              "<wandb.sdk.wandb_run.Run at 0x7b53ad566850>"
            ]
          },
          "metadata": {},
          "execution_count": 5
        }
      ]
    },
    {
      "cell_type": "code",
      "source": [
        "class_mapping = {label: idx for idx, label in enumerate(data['TDType'].unique())}\n",
        "data['label'] = data['TDType'].map(class_mapping)\n",
        "\n",
        "\n",
        "X_train_temp, X_test, y_train_temp, y_test = train_test_split(data['Comments'], data['label'], test_size=0.2, random_state=42)\n",
        "X_train, X_val, y_train, y_val = train_test_split(X_train_temp, y_train_temp, test_size=0.2, random_state=42)\n",
        "\n",
        "\n",
        "tokenizer = RobertaTokenizer.from_pretrained('roberta-base')\n",
        "model = RobertaForSequenceClassification.from_pretrained('roberta-base', num_labels=len(class_mapping))\n",
        "\n",
        "\n",
        "class CustomDataset(Dataset):\n",
        "    def __init__(self, texts, labels, tokenizer, max_length=128):\n",
        "        self.texts = texts\n",
        "        self.labels = labels\n",
        "        self.tokenizer = tokenizer\n",
        "        self.max_length = max_length\n",
        "\n",
        "    def __len__(self):\n",
        "        return len(self.texts)\n",
        "\n",
        "    def __getitem__(self, idx):\n",
        "        text = str(self.texts.iloc[idx])\n",
        "        label = self.labels.iloc[idx]\n",
        "\n",
        "        # Tokenize the text\n",
        "        encoding = self.tokenizer(\n",
        "            text,\n",
        "            truncation=True,\n",
        "            padding='max_length',\n",
        "            max_length=self.max_length,\n",
        "            return_tensors='pt'\n",
        "        )\n",
        "\n",
        "        return {\n",
        "            'input_ids': encoding['input_ids'].squeeze(),\n",
        "            'attention_mask': encoding['attention_mask'].squeeze(),\n",
        "            'labels': torch.tensor(label, dtype=torch.long)\n",
        "        }\n",
        "\n",
        "train_dataset = CustomDataset(X_train, y_train, tokenizer)\n",
        "val_dataset = CustomDataset(X_val, y_val, tokenizer)\n",
        "test_dataset = CustomDataset(X_test, y_test, tokenizer)\n",
        "\n",
        "# Define training arguments\n",
        "training_args = TrainingArguments(\n",
        "    output_dir='./results',\n",
        "    num_train_epochs=30,\n",
        "    per_device_train_batch_size=16,\n",
        "    per_device_eval_batch_size=16,\n",
        "    evaluation_strategy=\"epoch\",\n",
        "    save_strategy=\"epoch\",\n",
        "    logging_dir='./logs',\n",
        "    logging_steps=10,\n",
        "    load_best_model_at_end=True,\n",
        "    metric_for_best_model=\"accuracy\",\n",
        "    greater_is_better=True,\n",
        ")\n",
        "\n",
        "def compute_metrics(pred):\n",
        "    labels = pred.label_ids\n",
        "    preds = pred.predictions.argmax(-1)\n",
        "    acc = accuracy_score(labels, preds)\n",
        "    return {\n",
        "        'accuracy': acc,\n",
        "        'f1': f1_score(labels, preds, average='weighted')\n",
        "    }\n",
        "\n",
        "trainer = Trainer(\n",
        "    model=model,\n",
        "    args=training_args,\n",
        "    train_dataset=train_dataset,\n",
        "    eval_dataset=val_dataset,\n",
        "    compute_metrics=compute_metrics,\n",
        "    callbacks=[EarlyStoppingCallback(early_stopping_patience=3)]\n",
        ")\n",
        "\n",
        "\n",
        "trainer.train()\n",
        "\n",
        "test_results = trainer.predict(test_dataset)\n",
        "\n",
        "y_test_pred = np.argmax(test_results.predictions, axis=1)\n",
        "print(\"\\nClassification Report on Test Set:\")\n",
        "print(classification_report(y_test, y_test_pred, target_names=class_mapping.keys()))\n",
        "\n",
        "def extract_embeddings(model, dataset):\n",
        "    embeddings = []\n",
        "    dataloader = DataLoader(dataset, batch_size=16)\n",
        "\n",
        "    model.eval()\n",
        "    with torch.no_grad():\n",
        "        for batch in dataloader:\n",
        "            inputs = {\n",
        "                'input_ids': batch['input_ids'].to(model.device),\n",
        "                'attention_mask': batch['attention_mask'].to(model.device),\n",
        "            }\n",
        "            outputs = model.roberta(**inputs)\n",
        "            hidden_states = outputs.last_hidden_state[:, 0, :]  # Extract [CLS] token embeddings\n",
        "            embeddings.append(hidden_states.cpu().numpy())\n",
        "\n",
        "    return np.concatenate(embeddings, axis=0)\n",
        "\n",
        "embeddings_train = extract_embeddings(model, train_dataset)\n",
        "embeddings_val = extract_embeddings(model, val_dataset)\n",
        "embeddings_test = extract_embeddings(model, test_dataset)\n"
      ],
      "metadata": {
        "colab": {
          "base_uri": "https://localhost:8080/",
          "height": 878
        },
        "id": "laZ9KBIYAfLH",
        "outputId": "07d43ef3-79c9-4260-dc9c-cfa6a3921474"
      },
      "execution_count": null,
      "outputs": [
        {
          "output_type": "stream",
          "name": "stderr",
          "text": [
            "Some weights of RobertaForSequenceClassification were not initialized from the model checkpoint at roberta-base and are newly initialized: ['classifier.dense.bias', 'classifier.dense.weight', 'classifier.out_proj.bias', 'classifier.out_proj.weight']\n",
            "You should probably TRAIN this model on a down-stream task to be able to use it for predictions and inference.\n"
          ]
        },
        {
          "output_type": "display_data",
          "data": {
            "text/plain": [
              "<IPython.core.display.HTML object>"
            ],
            "text/html": [
              "\n",
              "    <div>\n",
              "      \n",
              "      <progress value='21770' max='46650' style='width:300px; height:20px; vertical-align: middle;'></progress>\n",
              "      [21770/46650 2:15:35 < 2:34:58, 2.68 it/s, Epoch 14/30]\n",
              "    </div>\n",
              "    <table border=\"1\" class=\"dataframe\">\n",
              "  <thead>\n",
              " <tr style=\"text-align: left;\">\n",
              "      <th>Epoch</th>\n",
              "      <th>Training Loss</th>\n",
              "      <th>Validation Loss</th>\n",
              "      <th>Accuracy</th>\n",
              "      <th>F1</th>\n",
              "    </tr>\n",
              "  </thead>\n",
              "  <tbody>\n",
              "    <tr>\n",
              "      <td>1</td>\n",
              "      <td>0.661400</td>\n",
              "      <td>0.488906</td>\n",
              "      <td>0.861254</td>\n",
              "      <td>0.834444</td>\n",
              "    </tr>\n",
              "    <tr>\n",
              "      <td>2</td>\n",
              "      <td>0.518000</td>\n",
              "      <td>0.455821</td>\n",
              "      <td>0.872026</td>\n",
              "      <td>0.857409</td>\n",
              "    </tr>\n",
              "    <tr>\n",
              "      <td>3</td>\n",
              "      <td>0.460600</td>\n",
              "      <td>0.447091</td>\n",
              "      <td>0.869936</td>\n",
              "      <td>0.862942</td>\n",
              "    </tr>\n",
              "    <tr>\n",
              "      <td>4</td>\n",
              "      <td>0.265200</td>\n",
              "      <td>0.455140</td>\n",
              "      <td>0.873794</td>\n",
              "      <td>0.874766</td>\n",
              "    </tr>\n",
              "    <tr>\n",
              "      <td>5</td>\n",
              "      <td>0.224700</td>\n",
              "      <td>0.515130</td>\n",
              "      <td>0.875080</td>\n",
              "      <td>0.872890</td>\n",
              "    </tr>\n",
              "    <tr>\n",
              "      <td>6</td>\n",
              "      <td>0.224300</td>\n",
              "      <td>0.504594</td>\n",
              "      <td>0.893248</td>\n",
              "      <td>0.888905</td>\n",
              "    </tr>\n",
              "    <tr>\n",
              "      <td>7</td>\n",
              "      <td>0.134100</td>\n",
              "      <td>0.520049</td>\n",
              "      <td>0.890032</td>\n",
              "      <td>0.887895</td>\n",
              "    </tr>\n",
              "    <tr>\n",
              "      <td>8</td>\n",
              "      <td>0.113000</td>\n",
              "      <td>0.605652</td>\n",
              "      <td>0.893891</td>\n",
              "      <td>0.890170</td>\n",
              "    </tr>\n",
              "    <tr>\n",
              "      <td>9</td>\n",
              "      <td>0.176200</td>\n",
              "      <td>0.639823</td>\n",
              "      <td>0.890032</td>\n",
              "      <td>0.889778</td>\n",
              "    </tr>\n",
              "    <tr>\n",
              "      <td>10</td>\n",
              "      <td>0.120400</td>\n",
              "      <td>0.670379</td>\n",
              "      <td>0.885691</td>\n",
              "      <td>0.884954</td>\n",
              "    </tr>\n",
              "    <tr>\n",
              "      <td>11</td>\n",
              "      <td>0.181100</td>\n",
              "      <td>0.647230</td>\n",
              "      <td>0.896463</td>\n",
              "      <td>0.891425</td>\n",
              "    </tr>\n",
              "    <tr>\n",
              "      <td>12</td>\n",
              "      <td>0.079800</td>\n",
              "      <td>0.640878</td>\n",
              "      <td>0.894534</td>\n",
              "      <td>0.892159</td>\n",
              "    </tr>\n",
              "    <tr>\n",
              "      <td>13</td>\n",
              "      <td>0.194300</td>\n",
              "      <td>0.714873</td>\n",
              "      <td>0.896302</td>\n",
              "      <td>0.893003</td>\n",
              "    </tr>\n",
              "    <tr>\n",
              "      <td>14</td>\n",
              "      <td>0.050000</td>\n",
              "      <td>0.725293</td>\n",
              "      <td>0.895338</td>\n",
              "      <td>0.893660</td>\n",
              "    </tr>\n",
              "  </tbody>\n",
              "</table><p>"
            ]
          },
          "metadata": {}
        },
        {
          "output_type": "display_data",
          "data": {
            "text/plain": [
              "<IPython.core.display.HTML object>"
            ],
            "text/html": []
          },
          "metadata": {}
        },
        {
          "output_type": "stream",
          "name": "stdout",
          "text": [
            "\n",
            "Classification Report on Test Set:\n",
            "                        precision    recall  f1-score   support\n",
            "\n",
            "             ALGORITHM       0.55      0.36      0.43       200\n",
            "         COMPATIBILITY       0.59      0.44      0.50        89\n",
            "                DEFECT       0.58      0.47      0.52       135\n",
            "                DESIGN       0.82      0.89      0.85      2206\n",
            "         DOCUMENTATION       0.71      0.43      0.54        23\n",
            "        IMPLEMENTATION       0.78      0.60      0.68       387\n",
            "                  TEST       0.82      0.78      0.80       143\n",
            "WITHOUT_CLASSIFICATION       0.96      0.97      0.97      4592\n",
            "\n",
            "              accuracy                           0.89      7775\n",
            "             macro avg       0.73      0.62      0.66      7775\n",
            "          weighted avg       0.89      0.89      0.89      7775\n",
            "\n"
          ]
        }
      ]
    },
    {
      "cell_type": "code",
      "source": [
        "def save_embeddings_to_csv(embeddings, file_path, labels=None):\n",
        "\n",
        "    df = pd.DataFrame(embeddings)\n",
        "    if labels is not None:\n",
        "        df['label'] = labels\n",
        "    df.to_csv(file_path, index=False)\n",
        "\n",
        "save_embeddings_to_csv(embeddings_train, 'rober_train_embeddings_.csv', y_train.values)\n",
        "save_embeddings_to_csv(embeddings_val, 'rober_val_embeddings_.csv', y_val.values)\n",
        "save_embeddings_to_csv(embeddings_test, 'rober_test_embeddings_.csv', y_test.values)\n",
        "\n",
        "print(\"Embeddings saved to CSV files.\")\n"
      ],
      "metadata": {
        "id": "z-NtVubWA0-b",
        "colab": {
          "base_uri": "https://localhost:8080/"
        },
        "outputId": "d9aa00c3-848f-4732-b185-4691a6304d32"
      },
      "execution_count": null,
      "outputs": [
        {
          "output_type": "stream",
          "name": "stdout",
          "text": [
            "Embeddings saved to CSV files.\n"
          ]
        }
      ]
    },
    {
      "cell_type": "markdown",
      "source": [
        "##Train LR using RobERTA Embeddings"
      ],
      "metadata": {
        "id": "BdQHdz34EVpN"
      }
    },
    {
      "cell_type": "code",
      "source": [
        "from sklearn.pipeline import Pipeline\n",
        "\n",
        "train = pd.read_csv('rober_train_embeddings_.csv')\n",
        "val = pd.read_csv('rober_val_embeddings_.csv')\n",
        "test = pd.read_csv('rober_test_embeddings_.csv')\n",
        "\n",
        "X_train_final = train.iloc[:, :-1].to_numpy()\n",
        "y_train_final = train['label']\n",
        "\n",
        "X_val = val.iloc[:, :-1].to_numpy()\n",
        "y_val = val['label']\n",
        "\n",
        "X_test = test.iloc[:, :-1].to_numpy()\n",
        "y_test = test['label']\n",
        "\n",
        "\n",
        "param_grid = {\n",
        "    'C': [0.01, 1, 10],\n",
        "    'penalty': ['l2'],\n",
        "    'max_iter': [1, 10, 100, 200]\n",
        "}\n",
        "\n",
        "best_score = -1\n",
        "best_params = None\n",
        "best_model = None\n",
        "\n",
        "\n",
        "for C, penalty, max_iter in product(param_grid['C'], param_grid['penalty'], param_grid['max_iter']):\n",
        "    solver = 'lbfgs'\n",
        "    try:\n",
        "        pipeline = Pipeline([\n",
        "            ('scaler', StandardScaler()),\n",
        "            ('clf', LogisticRegression(C=C, penalty=penalty, max_iter=max_iter, solver=solver, random_state=42, class_weight='balanced'))\n",
        "        ])\n",
        "\n",
        "        pipeline.fit(X_train_final, y_train_final)\n",
        "        y_val_pred = pipeline.predict(X_val)\n",
        "        score = accuracy_score(y_val, y_val_pred)\n",
        "\n",
        "\n",
        "        if score > best_score:\n",
        "            best_score = score\n",
        "            best_params = {'C': C, 'penalty': penalty, 'max_iter': max_iter}\n",
        "            best_model = pipeline\n",
        "\n",
        "    except Exception as e:\n",
        "        print(f\"Skipping configuration C={C}, penalty={penalty}, max_iter={max_iter} due to error: {e}\")\n",
        "\n",
        "def evaluate_best_model(model, params, score, X_test, y_test):\n",
        "    print(f\"Best Params: {params}\")\n",
        "    print(f\"Validation Best Score: {score}\")\n",
        "    y_test_pred = model.predict(X_test)\n",
        "    print(\"\\nTest Accuracy:\", accuracy_score(y_test, y_test_pred))\n",
        "    print(\"\\nTest Classification Report:\")\n",
        "    print(classification_report(y_test, y_test_pred))\n",
        "\n",
        "evaluate_best_model(best_model, best_params, best_score, X_test, y_test)\n"
      ],
      "metadata": {
        "colab": {
          "base_uri": "https://localhost:8080/"
        },
        "id": "VbKA4AuLpQxN",
        "outputId": "f03ca4b8-ce3e-421f-89b2-27895e680dfd"
      },
      "execution_count": null,
      "outputs": [
        {
          "output_type": "stream",
          "name": "stdout",
          "text": [
            "Best Params: {'C': 0.01, 'penalty': 'l2', 'max_iter': 1}\n",
            "Validation Best Score: 0.8831189710610933\n",
            "\n",
            "Test Accuracy: 0.8770418006430868\n",
            "\n",
            "Test Classification Report:\n",
            "              precision    recall  f1-score   support\n",
            "\n",
            "           0       0.49      0.39      0.44       200\n",
            "           1       0.47      0.53      0.50        89\n",
            "           2       0.35      0.56      0.43       135\n",
            "           3       0.85      0.84      0.84      2206\n",
            "           4       0.10      0.48      0.16        23\n",
            "           5       0.75      0.64      0.69       387\n",
            "           6       0.72      0.80      0.76       143\n",
            "           7       0.97      0.96      0.96      4592\n",
            "\n",
            "    accuracy                           0.88      7775\n",
            "   macro avg       0.59      0.65      0.60      7775\n",
            "weighted avg       0.89      0.88      0.88      7775\n",
            "\n"
          ]
        }
      ]
    }
  ],
  "metadata": {
    "colab": {
      "machine_shape": "hm",
      "provenance": [],
      "gpuType": "T4",
      "include_colab_link": true
    },
    "kernelspec": {
      "display_name": "Python 3",
      "name": "python3"
    },
    "language_info": {
      "name": "python"
    },
    "accelerator": "GPU"
  },
  "nbformat": 4,
  "nbformat_minor": 0
}