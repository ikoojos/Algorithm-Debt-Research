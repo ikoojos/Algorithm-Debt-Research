{
  "cells": [
    {
      "cell_type": "code",
      "execution_count": null,
      "metadata": {
        "id": "DcsKeqbTQnon"
      },
      "outputs": [],
      "source": [
        " import warnings\n",
        "\n",
        "# Ignore all warnings\n",
        "warnings.filterwarnings(\"ignore\")"
      ]
    },
    {
      "cell_type": "code",
      "execution_count": null,
      "metadata": {
        "colab": {
          "base_uri": "https://localhost:8080/"
        },
        "id": "DMA9H5i62C9Z",
        "outputId": "0e84a21e-559f-4980-b3d7-71f8b7794c48"
      },
      "outputs": [
        {
          "output_type": "stream",
          "name": "stdout",
          "text": [
            "Mounted at /content/drive\n",
            "/content/drive/My Drive/AD Identification using SATD\n"
          ]
        }
      ],
      "source": [
        "from google.colab import drive\n",
        "drive.mount('/content/drive')\n",
        "%cd '/content/drive/My Drive/AD Identification using SATD'"
      ]
    },
    {
      "cell_type": "code",
      "source": [
        "import pandas as pd\n",
        "import numpy as np\n",
        "\n",
        "from sklearn.model_selection import train_test_split, StratifiedKFold, GridSearchCV\n",
        "from sklearn.feature_extraction.text import HashingVectorizer\n",
        "from sklearn.svm import SVC\n",
        "from sklearn.metrics import accuracy_score, classification_report, confusion_matrix\n",
        "from sklearn.preprocessing import LabelEncoder, StandardScaler, MultiLabelBinarizer\n",
        "from sklearn.multioutput import MultiOutputClassifier\n",
        "from sklearn.pipeline import Pipeline\n",
        "\n"
      ],
      "metadata": {
        "id": "SxrEjip__xfn"
      },
      "execution_count": null,
      "outputs": []
    },
    {
      "cell_type": "markdown",
      "metadata": {
        "id": "cF-tbskFeYnn"
      },
      "source": [
        "#Read the dataset\n"
      ]
    },
    {
      "cell_type": "code",
      "execution_count": null,
      "metadata": {
        "id": "MItX6IAvtxPx"
      },
      "outputs": [],
      "source": [
        "import pandas as pd\n",
        "liu_ = '/content/drive/My Drive/AD Identification using SATD/liu_datset_processed.csv'\n",
        "liu_ = pd.read_csv(liu_, low_memory=False)"
      ]
    },
    {
      "cell_type": "code",
      "execution_count": null,
      "metadata": {
        "id": "vNrWN2oDsJDZ"
      },
      "outputs": [],
      "source": [
        "liu_['Comments'].fillna('', inplace=True)\n",
        "liu_['TDType'] = liu_['TDType'].astype(str)\n",
        "\n",
        "values_to_remove = ['MULTITHREAD', 'nan', 'removeType']\n",
        "replacement_value = 'WITHOUT_CLASSIFICATION'\n",
        "liu_['TDType'].replace(values_to_remove, replacement_value, inplace=True)\n",
        "\n",
        "liu_['Comments'] = liu_['Comments'].str.replace('content=', '', regex=False)\n",
        "liu_['Comments'] = liu_['Comments'].str.replace('\"', '', regex=False)"
      ]
    },
    {
      "cell_type": "code",
      "execution_count": null,
      "metadata": {
        "id": "2EbLDtvUshnW"
      },
      "outputs": [],
      "source": [
        "liu_ = liu_.drop_duplicates(subset=['Comments', 'TDType'])\n",
        "liu_['TDType'] = liu_['TDType'].replace('removeType', 'WITHOUT_CLASSIFICATION')"
      ]
    },
    {
      "cell_type": "code",
      "execution_count": null,
      "metadata": {
        "colab": {
          "base_uri": "https://localhost:8080/"
        },
        "id": "-rOU-PcknHuX",
        "outputId": "311503a3-911b-4bd0-95fa-ba795128f6e0"
      },
      "outputs": [
        {
          "output_type": "stream",
          "name": "stdout",
          "text": [
            "Number of duplicate rows: 0\n"
          ]
        }
      ],
      "source": [
        "# Count the number of duplicate rows in the DataFrame\n",
        "num_duplicates = liu_.duplicated().sum()\n",
        "\n",
        "print(f\"Number of duplicate rows: {num_duplicates}\")\n"
      ]
    },
    {
      "cell_type": "markdown",
      "source": [
        "##Hash"
      ],
      "metadata": {
        "id": "SNXG3JRm025-"
      }
    },
    {
      "cell_type": "code",
      "source": [
        "data = liu_\n",
        "\n",
        "# Split data into train and test sets (80% train, 20% test)\n",
        "X_train, X_test, y_train, y_test = train_test_split(data['Comments'], data['TDType'], test_size=0.2, random_state=42)\n",
        "# Further split the training set into training and validation sets\n",
        "X_train_final, X_val, y_train_final, y_val = train_test_split(X_train, y_train, test_size=0.2, random_state=42)\n",
        "\n",
        "# Define the pipeline\n",
        "pipeline = Pipeline([\n",
        "    ('HASH', HashingVectorizer()),\n",
        "    ('scaler', StandardScaler(with_mean=False)),  # Scale feature vectors\n",
        "    ('clf', SVC(random_state=42, kernel='linear', class_weight='balanced', probability=True))  # SVM\n",
        "])\n",
        "\n",
        "\n",
        "param_grid = {\n",
        "    #'clf__C': [0.01, 0.1, 1, 10],  # Regularization strength\n",
        "    'clf__gamma': ['scale', 'auto']  # Kernel coefficient for 'rbf'\n",
        "}\n",
        "\n",
        "# Set up GridSearchCV with StratifiedKFold and the parameter grid\n",
        "grid_search = GridSearchCV(estimator=pipeline,\n",
        "                           param_grid=param_grid,\n",
        "                           cv=StratifiedKFold(n_splits=5, shuffle=True, random_state=42),\n",
        "                           scoring='accuracy',\n",
        "                           n_jobs=-1,\n",
        "                           verbose=2)\n",
        "\n",
        "# Fit the grid search to the training data\n",
        "grid_search.fit(X_train_final, y_train_final)\n",
        "\n",
        "# Print the best parameters found by GridSearchCV\n",
        "print(\"Best parameters found:\", grid_search.best_params_)\n",
        "\n",
        "# Evaluate the best model on the validation set\n",
        "best_model = grid_search.best_estimator_\n",
        "y_val_pred = best_model.predict(X_val)\n",
        "conf_matrix_val = confusion_matrix(y_val, y_val_pred)\n",
        "classification_rep_val = classification_report(y_val, y_val_pred)\n",
        "\n",
        "print(\"\\nValidation Confusion Matrix:\")\n",
        "print(conf_matrix_val)\n",
        "print(\"\\nValidation Classification Report:\")\n",
        "print(classification_rep_val)\n",
        "\n",
        "# Evaluate the best model on the test set\n",
        "y_test_pred = best_model.predict(X_test)\n",
        "conf_matrix_test = confusion_matrix(y_test, y_test_pred)\n",
        "classification_rep_test = classification_report(y_test, y_test_pred)\n",
        "\n",
        "print(\"\\nTest Confusion Matrix:\")\n",
        "print(conf_matrix_test)\n",
        "print(\"\\nTest Classification Report:\")\n",
        "print(classification_rep_test)\n"
      ],
      "metadata": {
        "colab": {
          "base_uri": "https://localhost:8080/"
        },
        "id": "ryF_OhSByb0E",
        "outputId": "e7a949c0-0471-4576-85a3-7a907891b270"
      },
      "execution_count": null,
      "outputs": [
        {
          "output_type": "stream",
          "name": "stdout",
          "text": [
            "Fitting 5 folds for each of 2 candidates, totalling 10 fits\n",
            "Best parameters found: {'clf__gamma': 'scale'}\n",
            "\n",
            "Validation Confusion Matrix:\n",
            "[[  49    0    2   56    0    3    0   33]\n",
            " [   1   26    2   23    0    3    0   12]\n",
            " [   1    4   43   40    1    1    3    6]\n",
            " [  46   12   44 1313    3   91    6  201]\n",
            " [   0    0    0    8    9    1    0    2]\n",
            " [   2    4    7  109    3  194    1   28]\n",
            " [   3    0    4   29    0    4   55   10]\n",
            " [  36    6    8  182    0    9    1 3480]]\n",
            "\n",
            "Validation Classification Report:\n",
            "                        precision    recall  f1-score   support\n",
            "\n",
            "             ALGORITHM       0.36      0.34      0.35       143\n",
            "         COMPATIBILITY       0.50      0.39      0.44        67\n",
            "                DEFECT       0.39      0.43      0.41        99\n",
            "                DESIGN       0.75      0.77      0.76      1716\n",
            "         DOCUMENTATION       0.56      0.45      0.50        20\n",
            "        IMPLEMENTATION       0.63      0.56      0.59       348\n",
            "                  TEST       0.83      0.52      0.64       105\n",
            "WITHOUT_CLASSIFICATION       0.92      0.93      0.93      3722\n",
            "\n",
            "              accuracy                           0.83      6220\n",
            "             macro avg       0.62      0.55      0.58      6220\n",
            "          weighted avg       0.83      0.83      0.83      6220\n",
            "\n",
            "\n",
            "Test Confusion Matrix:\n",
            "[[  89    0    2   54    0    8    0   47]\n",
            " [   1   38    3   25    0    4    3   15]\n",
            " [   1    1   63   40    0    4    4   22]\n",
            " [  41    8   53 1736    3  117   14  234]\n",
            " [   1    0    0   10    8    1    0    3]\n",
            " [   7    1   10  124    0  213    3   29]\n",
            " [   2    1    4   39    1   10   61   25]\n",
            " [  37    9   15  187    4    4    4 4332]]\n",
            "\n",
            "Test Classification Report:\n",
            "                        precision    recall  f1-score   support\n",
            "\n",
            "             ALGORITHM       0.50      0.45      0.47       200\n",
            "         COMPATIBILITY       0.66      0.43      0.52        89\n",
            "                DEFECT       0.42      0.47      0.44       135\n",
            "                DESIGN       0.78      0.79      0.79      2206\n",
            "         DOCUMENTATION       0.50      0.35      0.41        23\n",
            "        IMPLEMENTATION       0.59      0.55      0.57       387\n",
            "                  TEST       0.69      0.43      0.53       143\n",
            "WITHOUT_CLASSIFICATION       0.92      0.94      0.93      4592\n",
            "\n",
            "              accuracy                           0.84      7775\n",
            "             macro avg       0.63      0.55      0.58      7775\n",
            "          weighted avg       0.84      0.84      0.84      7775\n",
            "\n"
          ]
        }
      ]
    }
  ],
  "metadata": {
    "colab": {
      "gpuType": "T4",
      "machine_shape": "hm",
      "provenance": []
    },
    "kernelspec": {
      "display_name": "Python 3",
      "name": "python3"
    },
    "language_info": {
      "name": "python"
    }
  },
  "nbformat": 4,
  "nbformat_minor": 0
}