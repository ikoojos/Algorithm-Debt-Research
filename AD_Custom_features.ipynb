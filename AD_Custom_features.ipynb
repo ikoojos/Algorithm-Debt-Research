{
  "cells": [
    {
      "cell_type": "markdown",
      "metadata": {
        "id": "view-in-github",
        "colab_type": "text"
      },
      "source": [
        "<a href=\"https://colab.research.google.com/github/ikoojos/Algorithm-Debt-Research/blob/master/AD_Custom_features.ipynb\" target=\"_parent\"><img src=\"https://colab.research.google.com/assets/colab-badge.svg\" alt=\"Open In Colab\"/></a>"
      ]
    },
    {
      "cell_type": "code",
      "execution_count": null,
      "metadata": {
        "colab": {
          "base_uri": "https://localhost:8080/"
        },
        "id": "DMA9H5i62C9Z",
        "outputId": "9d96274e-ee90-43c8-c5aa-a8b6839ebc1d"
      },
      "outputs": [
        {
          "output_type": "stream",
          "name": "stdout",
          "text": [
            "Mounted at /content/drive\n",
            "/content/drive/My Drive/AD Final Experiments\n"
          ]
        }
      ],
      "source": [
        "from google.colab import drive\n",
        "drive.mount('/content/drive')\n",
        "%cd '/content/drive/My Drive/AD Final Experiments'\n",
        "\n",
        "# General imports\n",
        "import sys\n",
        "import pandas as pd\n",
        "import numpy as np\n",
        "from itertools import product\n",
        "import importlib\n",
        "import warnings\n",
        "\n",
        "from sklearn.model_selection import train_test_split, GridSearchCV\n",
        "from sklearn.feature_extraction.text import CountVectorizer\n",
        "from sklearn.linear_model import LogisticRegression\n",
        "from sklearn.metrics import (\n",
        "    accuracy_score,\n",
        "    classification_report,\n",
        "    confusion_matrix,\n",
        "    f1_score\n",
        ")\n",
        "from scipy.sparse import hstack, csr_matrix\n",
        "from sklearn.pipeline import FeatureUnion, Pipeline\n",
        "from sklearn.base import BaseEstimator, TransformerMixin\n",
        "\n",
        "# Custom modules\n",
        "sys.path.append('/content/drive/My Drive/AD Final Experiments')\n",
        "from preprocessing import preprocess_data\n",
        "from splitting import split_data\n",
        "from utils import *\n",
        "from evaluate_model import evaluate_best_model\n",
        "from lr_tuning import hyperparameter_tuning\n",
        "from feature_extractor import CustomFeatureExtractor, keywords\n",
        "\n",
        "# Reload custom modules to ensure latest updates\n",
        "for module in ['preprocessing', 'splitting', 'utils', 'evaluate_model', 'lr_tuning']:\n",
        "    importlib.reload(sys.modules[module])\n",
        "\n",
        "# Ignore all warnings\n",
        "warnings.filterwarnings(\"ignore\")\n"
      ]
    },
    {
      "cell_type": "code",
      "source": [
        "file_path = '/content/drive/My Drive/AD Identification using SATD/liu_datset_processed.csv'\n",
        "data = preprocess_data(file_path)"
      ],
      "metadata": {
        "id": "iVCpI8UyHaMr"
      },
      "execution_count": null,
      "outputs": []
    },
    {
      "cell_type": "code",
      "source": [
        "df = data\n",
        "X = df['Comments'].apply(lambda x: x.lower().strip())\n",
        "y = df['TDType']\n",
        "\n",
        "X_train_raw, X_test_raw, y_train, y_test = train_test_split(X, y, test_size=0.2, random_state=42)\n",
        "\n",
        "# Save CSVs for - Train Set\n",
        "debug_extractor = CustomFeatureExtractor(keywords, save_csv=False)\n",
        "debug_extractor.transform(X_train_raw, y_train)\n",
        "\n",
        "# Save CSVs for - Test Set\n",
        "debug_extractor_test = CustomFeatureExtractor(keywords, save_csv=False)\n",
        "debug_extractor_test.transform(X_test_raw, y_test)\n",
        "\n",
        "# Define pipeline\n",
        "pipeline = Pipeline([\n",
        "    ('features', FeatureUnion([\n",
        "        ('vectorizer', CountVectorizer()),\n",
        "        ('custom', CustomFeatureExtractor(keywords, save_csv=False))  # Disable saving in pipeline\n",
        "    ])),\n",
        "    ('clf', LogisticRegression(class_weight='balanced', random_state=42))\n",
        "])\n",
        "\n",
        "param_grid = {\n",
        "    'clf__C': [0.01, 1, 10],\n",
        "    'clf__penalty': ['l2'],\n",
        "    'clf__max_iter': [100, 200]\n",
        "}\n",
        "\n",
        "grid_search = GridSearchCV(pipeline, param_grid, cv=5, scoring='f1_macro', n_jobs=-1, verbose=1)\n",
        "grid_search.fit(X_train_raw, y_train)\n",
        "\n",
        "best_model = grid_search.best_estimator_\n",
        "best_params = grid_search.best_params_\n",
        "best_score = grid_search.best_score_\n",
        "\n",
        "print(\"Best Parameters:\", best_params)\n",
        "print(f\"Best F1 Score (Macro) on Training Set: {best_score:.2f}\")\n",
        "\n",
        "y_pred_test = best_model.predict(X_test_raw)\n",
        "\n",
        "print(\"\\nEvaluation on Test Set:\")\n",
        "print(f\"F1 Score (Macro): {f1_score(y_test, y_pred_test, average='macro'):.2f}\")\n",
        "print(\"Classification Report:\")\n",
        "print(classification_report(y_test, y_pred_test))\n",
        "print(\"Confusion Matrix:\")\n",
        "print(confusion_matrix(y_test, y_pred_test))"
      ],
      "metadata": {
        "colab": {
          "base_uri": "https://localhost:8080/"
        },
        "id": "7WcU8GgLondV",
        "outputId": "172b2ffe-809f-40bc-fadf-651ca4e1cdfc"
      },
      "execution_count": null,
      "outputs": [
        {
          "output_type": "stream",
          "name": "stdout",
          "text": [
            "CSV saved to Custom_AD_Train_Features.csv\n",
            "CSV saved to Custom_AD_Test_Features.csv\n",
            "Fitting 5 folds for each of 6 candidates, totalling 30 fits\n",
            "Best Parameters: {'clf__C': 10, 'clf__max_iter': 100, 'clf__penalty': 'l2'}\n",
            "Best F1 Score (Macro) on Training Set: 0.66\n",
            "\n",
            "Evaluation on Test Set:\n",
            "F1 Score (Macro): 0.68\n",
            "Classification Report:\n",
            "                        precision    recall  f1-score   support\n",
            "\n",
            "             ALGORITHM       0.52      0.57      0.54       200\n",
            "         COMPATIBILITY       0.55      0.54      0.54        89\n",
            "                DEFECT       0.50      0.58      0.53       135\n",
            "                DESIGN       0.85      0.82      0.84      2206\n",
            "         DOCUMENTATION       0.62      0.57      0.59        23\n",
            "        IMPLEMENTATION       0.63      0.75      0.69       387\n",
            "                  TEST       0.71      0.76      0.73       143\n",
            "WITHOUT_CLASSIFICATION       0.97      0.96      0.96      4592\n",
            "\n",
            "              accuracy                           0.88      7775\n",
            "             macro avg       0.67      0.69      0.68      7775\n",
            "          weighted avg       0.89      0.88      0.88      7775\n",
            "\n",
            "Confusion Matrix:\n",
            "[[ 114    2    3   50    0    7    2   22]\n",
            " [   2   48    4   15    0    8    4    8]\n",
            " [   5    3   78   30    0    4    4   11]\n",
            " [  65   27   49 1809    5  134   18   99]\n",
            " [   3    0    0    5   13    1    1    0]\n",
            " [   3    1   12   68    0  291    6    6]\n",
            " [   0    1    2   15    1    7  108    9]\n",
            " [  29    6    9  124    2    7    9 4406]]\n"
          ]
        }
      ]
    }
  ],
  "metadata": {
    "colab": {
      "machine_shape": "hm",
      "provenance": [],
      "gpuType": "T4",
      "include_colab_link": true
    },
    "kernelspec": {
      "display_name": "Python 3",
      "name": "python3"
    },
    "language_info": {
      "name": "python"
    },
    "accelerator": "GPU"
  },
  "nbformat": 4,
  "nbformat_minor": 0
}