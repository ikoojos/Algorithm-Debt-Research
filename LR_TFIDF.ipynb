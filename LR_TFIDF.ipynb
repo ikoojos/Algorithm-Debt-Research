{
  "cells": [
    {
      "cell_type": "markdown",
      "metadata": {
        "id": "view-in-github",
        "colab_type": "text"
      },
      "source": [
        "<a href=\"https://colab.research.google.com/github/ikoojos/Algorithm-Debt-Research/blob/master/LR_TFIDF.ipynb\" target=\"_parent\"><img src=\"https://colab.research.google.com/assets/colab-badge.svg\" alt=\"Open In Colab\"/></a>"
      ]
    },
    {
      "cell_type": "code",
      "source": [
        "import sys\n",
        "from google.colab import drive\n",
        "from itertools import product\n",
        "from sklearn.linear_model import LogisticRegression\n",
        "import importlib\n",
        "\n",
        "# Mount Google Drive\n",
        "drive.mount('/content/drive')\n",
        "sys.path.append('/content/drive/My Drive/AD Final Experiments')\n",
        "\n",
        "# Import custom modules\n",
        "from preprocessing import preprocess_data\n",
        "from splitting import split_data\n",
        "from utils import *\n",
        "from evaluate_model import evaluate_best_model\n",
        "from lr_tuning import hyperparameter_tuning\n",
        "\n",
        "\n",
        "for module in ['preprocessing', 'splitting', 'utils', 'evaluate_model', 'lr_tuning']:\n",
        "    importlib.reload(sys.modules[module])\n"
      ],
      "metadata": {
        "colab": {
          "base_uri": "https://localhost:8080/"
        },
        "id": "XPgcI0ID-uWR",
        "outputId": "5f17a640-56f4-4c1b-c34a-99b1e3c07fa8"
      },
      "execution_count": 1,
      "outputs": [
        {
          "output_type": "stream",
          "name": "stdout",
          "text": [
            "Mounted at /content/drive\n"
          ]
        }
      ]
    },
    {
      "cell_type": "code",
      "source": [
        "file_path = '/content/drive/My Drive/AD Identification using SATD/liu_datset_processed.csv'\n",
        "data = preprocess_data(file_path)\n",
        "X_train_final, X_val, X_test, y_train_final, y_val, y_test = split_data(data)"
      ],
      "metadata": {
        "id": "SROlvyyO88QJ"
      },
      "execution_count": 2,
      "outputs": []
    },
    {
      "cell_type": "code",
      "source": [
        "from sklearn.preprocessing import StandardScaler\n",
        "# Define your parameter grid and vectorizer\n",
        "param_grid = {\n",
        "    'C': [0.01, 1, 10],\n",
        "    'penalty': ['l2'],\n",
        "    'max_iter': [1, 10, 100, 200]\n",
        "}\n",
        "\n",
        "# Use TfidfVectorizer\n",
        "vectorizer = TfidfVectorizer()\n",
        "best_model, best_params, best_score = hyperparameter_tuning(X_train_final, y_train_final, X_val, y_val, param_grid, vectorizer)\n",
        "evaluate_best_model(best_model, best_params, best_score, X_test, y_test)"
      ],
      "metadata": {
        "colab": {
          "base_uri": "https://localhost:8080/"
        },
        "id": "Xa3Auz7J-J3Z",
        "outputId": "501378fa-de2a-43e1-c0fd-4ba4e5a022af"
      },
      "execution_count": 4,
      "outputs": [
        {
          "output_type": "stream",
          "name": "stdout",
          "text": [
            "Best parameters found: {'C': 0.01, 'penalty': 'l2', 'max_iter': 200}\n",
            "Validation set accuracy: 0.8454983922829582\n",
            "\n",
            "Test Confusion Matrix:\n",
            "[[  88    2    2   65    1    9    0   33]\n",
            " [   2   43    2   26    0    5    2    9]\n",
            " [   1    5   59   42    0    3    4   21]\n",
            " [  41   14   38 1752    8  119   22  212]\n",
            " [   0    0    0    5   12    4    0    2]\n",
            " [   6    2    9   92    3  229    5   41]\n",
            " [   3    2    2   30    1   12   68   25]\n",
            " [  22    4   13  182    5   10   15 4341]]\n",
            "\n",
            "Test Classification Report:\n",
            "                        precision    recall  f1-score   support\n",
            "\n",
            "             ALGORITHM       0.54      0.44      0.48       200\n",
            "         COMPATIBILITY       0.60      0.48      0.53        89\n",
            "                DEFECT       0.47      0.44      0.45       135\n",
            "                DESIGN       0.80      0.79      0.80      2206\n",
            "         DOCUMENTATION       0.40      0.52      0.45        23\n",
            "        IMPLEMENTATION       0.59      0.59      0.59       387\n",
            "                  TEST       0.59      0.48      0.53       143\n",
            "WITHOUT_CLASSIFICATION       0.93      0.95      0.94      4592\n",
            "\n",
            "              accuracy                           0.85      7775\n",
            "             macro avg       0.61      0.59      0.60      7775\n",
            "          weighted avg       0.84      0.85      0.85      7775\n",
            "\n"
          ]
        }
      ]
    }
  ],
  "metadata": {
    "colab": {
      "gpuType": "T4",
      "machine_shape": "hm",
      "provenance": [],
      "include_colab_link": true
    },
    "kernelspec": {
      "display_name": "Python 3",
      "name": "python3"
    },
    "language_info": {
      "name": "python"
    }
  },
  "nbformat": 4,
  "nbformat_minor": 0
}