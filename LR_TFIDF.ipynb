{
  "cells": [
    {
      "cell_type": "markdown",
      "metadata": {
        "id": "view-in-github",
        "colab_type": "text"
      },
      "source": [
        "<a href=\"https://colab.research.google.com/github/ikoojos/Algorithm-Debt-Research/blob/master/LR_TFIDF.ipynb\" target=\"_parent\"><img src=\"https://colab.research.google.com/assets/colab-badge.svg\" alt=\"Open In Colab\"/></a>"
      ]
    },
    {
      "cell_type": "code",
      "source": [
        "import sys\n",
        "print(sys.path)\n"
      ],
      "metadata": {
        "colab": {
          "base_uri": "https://localhost:8080/"
        },
        "id": "XPgcI0ID-uWR",
        "outputId": "d9981ded-dc09-4067-cc80-c32afbb530ee"
      },
      "execution_count": 1,
      "outputs": [
        {
          "output_type": "stream",
          "name": "stdout",
          "text": [
            "['/content', '/env/python', '/usr/lib/python310.zip', '/usr/lib/python3.10', '/usr/lib/python3.10/lib-dynload', '', '/usr/local/lib/python3.10/dist-packages', '/usr/lib/python3/dist-packages', '/usr/local/lib/python3.10/dist-packages/IPython/extensions', '/usr/local/lib/python3.10/dist-packages/setuptools/_vendor', '/root/.ipython']\n"
          ]
        }
      ]
    },
    {
      "cell_type": "code",
      "source": [
        "from google.colab import drive\n",
        "drive.mount('/content/drive')\n",
        "\n",
        "# Add the shared module folder to Python's path\n",
        "import sys\n",
        "sys.path.append('/content/drive/My Drive/AD Final Experiments')\n",
        "\n",
        "import importlib\n",
        "import preprocessing\n",
        "importlib.reload(preprocessing)\n",
        "from preprocessing import preprocess_data\n",
        "\n",
        "import splitting\n",
        "importlib.reload(splitting)\n",
        "from splitting import split_data\n",
        "\n",
        "import utils\n",
        "importlib.reload(utils)\n",
        "from utils import *\n",
        "\n",
        "import evaluate_model\n",
        "importlib.reload(evaluate_model)\n",
        "from evaluate_model import evaluate_best_model\n",
        "\n",
        "# Example usage\n",
        "file_path = '/content/drive/My Drive/AD Identification using SATD/liu_datset_processed.csv'\n",
        "data = preprocess_data(file_path)\n",
        "X_train_final, X_val, X_test, y_train_final, y_val, y_test = split_data(data)\n",
        "\n",
        "print(\"Data preprocessing and splitting complete!\")\n"
      ],
      "metadata": {
        "colab": {
          "base_uri": "https://localhost:8080/"
        },
        "id": "SROlvyyO88QJ",
        "outputId": "69e78e17-f960-4de4-f2cb-bcebcf5e96a7"
      },
      "execution_count": 3,
      "outputs": [
        {
          "output_type": "stream",
          "name": "stdout",
          "text": [
            "Drive already mounted at /content/drive; to attempt to forcibly remount, call drive.mount(\"/content/drive\", force_remount=True).\n",
            "Data preprocessing and splitting complete!\n"
          ]
        }
      ]
    },
    {
      "cell_type": "code",
      "source": [
        "from itertools import product\n",
        "from sklearn.linear_model import LogisticRegression\n",
        "\n",
        "# Preprocess the data\n",
        "file_path = '/content/drive/My Drive/AD Identification using SATD/liu_datset_processed.csv'\n",
        "data = preprocess_data(file_path)  # Use preprocess_data to preprocess the dataset\n",
        "\n",
        "# Split the data into training, validation, and test sets\n",
        "X_train_final, X_val, X_test, y_train_final, y_val, y_test = split_data(data)  # Use split_data to split data\n"
      ],
      "metadata": {
        "id": "PdpQszt43_yN"
      },
      "execution_count": 4,
      "outputs": []
    },
    {
      "cell_type": "code",
      "source": [
        "from sklearn.metrics import confusion_matrix, classification_report\n",
        "\n",
        "# Your existing code\n",
        "param_grid = {\n",
        "    'C': [0.01, 1, 10],\n",
        "    'penalty': ['l2'],\n",
        "    'max_iter': [1, 10, 100, 200]\n",
        "}\n",
        "\n",
        "best_score = -1\n",
        "best_params = None\n",
        "best_model = None\n",
        "\n",
        "for C, penalty, max_iter in product(param_grid['C'], param_grid['penalty'], param_grid['max_iter']):\n",
        "    if penalty == 'elasticnet':\n",
        "        solver = 'saga'\n",
        "    else:\n",
        "        solver = 'lbfgs'\n",
        "\n",
        "    try:\n",
        "        pipeline = Pipeline([\n",
        "            ('TFIDF', TfidfVectorizer()),\n",
        "            ('scaler', StandardScaler(with_mean=False)),\n",
        "            ('clf', LogisticRegression(C=C, penalty=penalty, max_iter=max_iter, solver=solver, random_state=42, class_weight='balanced'))\n",
        "        ])\n",
        "\n",
        "        pipeline.fit(X_train_final, y_train_final)\n",
        "        y_val_pred = pipeline.predict(X_val)\n",
        "        score = accuracy_score(y_val, y_val_pred)\n",
        "\n",
        "        if score > best_score:\n",
        "            best_score = score\n",
        "            best_params = {'C': C, 'penalty': penalty, 'max_iter': max_iter}\n",
        "            best_model = pipeline\n",
        "\n",
        "    except Exception as e:\n",
        "        print(f\"Skipping configuration C={C}, penalty={penalty}, max_iter={max_iter} due to error: {e}\")\n",
        "\n",
        "# Call the function\n",
        "evaluate_best_model(best_model, best_params, best_score, X_test, y_test)"
      ],
      "metadata": {
        "colab": {
          "base_uri": "https://localhost:8080/"
        },
        "id": "Xa3Auz7J-J3Z",
        "outputId": "47d2fc7e-2c8a-4511-fbb4-0a0a8c4e4e87"
      },
      "execution_count": 5,
      "outputs": [
        {
          "output_type": "stream",
          "name": "stdout",
          "text": [
            "Best parameters found: {'C': 0.01, 'penalty': 'l2', 'max_iter': 200}\n",
            "Validation set accuracy: 0.8454983922829582\n",
            "\n",
            "Test Confusion Matrix:\n",
            "[[  88    2    2   65    1    9    0   33]\n",
            " [   2   43    2   26    0    5    2    9]\n",
            " [   1    5   59   42    0    3    4   21]\n",
            " [  41   14   38 1752    8  119   22  212]\n",
            " [   0    0    0    5   12    4    0    2]\n",
            " [   6    2    9   92    3  229    5   41]\n",
            " [   3    2    2   30    1   12   68   25]\n",
            " [  22    4   13  182    5   10   15 4341]]\n",
            "\n",
            "Test Classification Report:\n",
            "                        precision    recall  f1-score   support\n",
            "\n",
            "             ALGORITHM       0.54      0.44      0.48       200\n",
            "         COMPATIBILITY       0.60      0.48      0.53        89\n",
            "                DEFECT       0.47      0.44      0.45       135\n",
            "                DESIGN       0.80      0.79      0.80      2206\n",
            "         DOCUMENTATION       0.40      0.52      0.45        23\n",
            "        IMPLEMENTATION       0.59      0.59      0.59       387\n",
            "                  TEST       0.59      0.48      0.53       143\n",
            "WITHOUT_CLASSIFICATION       0.93      0.95      0.94      4592\n",
            "\n",
            "              accuracy                           0.85      7775\n",
            "             macro avg       0.61      0.59      0.60      7775\n",
            "          weighted avg       0.84      0.85      0.85      7775\n",
            "\n"
          ]
        }
      ]
    },
    {
      "cell_type": "code",
      "source": [],
      "metadata": {
        "id": "R2L3LTij-J0X"
      },
      "execution_count": null,
      "outputs": []
    },
    {
      "cell_type": "code",
      "source": [],
      "metadata": {
        "id": "3OuPg-Xo-Jx5"
      },
      "execution_count": null,
      "outputs": []
    },
    {
      "cell_type": "code",
      "source": [],
      "metadata": {
        "id": "Y-aMNTVI-Jvb"
      },
      "execution_count": null,
      "outputs": []
    }
  ],
  "metadata": {
    "colab": {
      "gpuType": "T4",
      "machine_shape": "hm",
      "provenance": [],
      "include_colab_link": true
    },
    "kernelspec": {
      "display_name": "Python 3",
      "name": "python3"
    },
    "language_info": {
      "name": "python"
    }
  },
  "nbformat": 4,
  "nbformat_minor": 0
}