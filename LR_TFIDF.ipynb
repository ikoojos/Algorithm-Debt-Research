{
  "cells": [
    {
      "cell_type": "code",
      "execution_count": null,
      "metadata": {
        "id": "DcsKeqbTQnon"
      },
      "outputs": [],
      "source": [
        " import warnings\n",
        "\n",
        "# Ignore all warnings\n",
        "warnings.filterwarnings(\"ignore\")"
      ]
    },
    {
      "cell_type": "code",
      "execution_count": null,
      "metadata": {
        "colab": {
          "base_uri": "https://localhost:8080/"
        },
        "id": "DMA9H5i62C9Z",
        "outputId": "de0750d8-06b3-469c-f851-b7788053dd8b"
      },
      "outputs": [
        {
          "output_type": "stream",
          "name": "stdout",
          "text": [
            "Mounted at /content/drive\n",
            "/content/drive/My Drive/AD Identification using SATD\n"
          ]
        }
      ],
      "source": [
        "from google.colab import drive\n",
        "drive.mount('/content/drive')\n",
        "%cd '/content/drive/My Drive/AD Identification using SATD'"
      ]
    },
    {
      "cell_type": "code",
      "source": [
        "import matplotlib.pyplot as plt\n",
        "import pandas as pd\n",
        "import numpy as np\n",
        "import matplotlib.colors as mcolors\n",
        "import seaborn as sns\n",
        "\n",
        "from sklearn.model_selection import train_test_split\n",
        "from sklearn.feature_extraction.text import CountVectorizer, TfidfVectorizer, HashingVectorizer\n",
        "from sklearn.linear_model import LogisticRegression\n",
        "from sklearn.svm import SVC\n",
        "from sklearn.metrics import accuracy_score, classification_report, confusion_matrix\n",
        "from sklearn.preprocessing import LabelEncoder, MultiLabelBinarizer\n",
        "from sklearn.multioutput import MultiOutputClassifier\n",
        "\n"
      ],
      "metadata": {
        "id": "mLPdx-PhwD87"
      },
      "execution_count": null,
      "outputs": []
    },
    {
      "cell_type": "code",
      "source": [
        "import pandas as pd\n",
        "liu_ = '/content/drive/My Drive/AD Identification using SATD/liu_datset_processed.csv'\n",
        "liu_ = pd.read_csv(liu_, low_memory=False)"
      ],
      "metadata": {
        "id": "7vce-bht3jWT"
      },
      "execution_count": null,
      "outputs": []
    },
    {
      "cell_type": "code",
      "source": [
        "liu_ = '/content/drive/My Drive/AD Identification using SATD/liu_datset_processed.csv'\n",
        "liu_ = pd.read_csv(liu_, low_memory=False)\n",
        "\n",
        "# Handle missing values in 'Comments'\n",
        "liu_['Comments'].fillna('', inplace=True)\n",
        "\n",
        "# Standardize 'TDType' column values\n",
        "values_to_remove = ['MULTITHREAD', 'nan', 'removeType']\n",
        "replacement_value = 'WITHOUT_CLASSIFICATION'\n",
        "liu_['TDType'] = liu_['TDType'].fillna('').astype(str).replace(values_to_remove, replacement_value)\n",
        "\n",
        "# Clean 'Comments' column\n",
        "liu_['Comments'] = liu_['Comments'].str.replace('content=', '', regex=False).str.replace('\"', '', regex=False)\n",
        "\n",
        "# Remove duplicates based on specific columns (e.g., 'Comments' and 'TDType')\n",
        "liu_ = liu_.drop_duplicates(subset=['Comments', 'TDType'])\n"
      ],
      "metadata": {
        "id": "EiqT39tjwR7p"
      },
      "execution_count": null,
      "outputs": []
    },
    {
      "cell_type": "code",
      "source": [
        "\n"
      ],
      "metadata": {
        "id": "2EbLDtvUshnW"
      },
      "execution_count": null,
      "outputs": []
    },
    {
      "cell_type": "code",
      "source": [
        "# Count the number of duplicate rows in the DataFrame\n",
        "num_duplicates = liu_.duplicated().sum()\n",
        "\n",
        "print(f\"Number of duplicate rows: {num_duplicates}\")\n"
      ],
      "metadata": {
        "id": "-rOU-PcknHuX",
        "colab": {
          "base_uri": "https://localhost:8080/"
        },
        "outputId": "b7773e29-dcf2-4fb2-bc5d-f852f5de8e82"
      },
      "execution_count": null,
      "outputs": [
        {
          "output_type": "stream",
          "name": "stdout",
          "text": [
            "Number of duplicate rows: 0\n"
          ]
        }
      ]
    },
    {
      "cell_type": "markdown",
      "source": [
        "#LR TFIDF"
      ],
      "metadata": {
        "id": "n_X05905aKML"
      }
    },
    {
      "cell_type": "code",
      "source": [
        "import pandas as pd\n",
        "from sklearn.model_selection import train_test_split, StratifiedKFold, GridSearchCV\n",
        "from sklearn.feature_extraction.text import TfidfVectorizer\n",
        "from sklearn.linear_model import LogisticRegression\n",
        "from sklearn.pipeline import Pipeline\n",
        "from sklearn.metrics import confusion_matrix, classification_report, accuracy_score\n",
        "\n",
        "\n",
        "data = liu_\n",
        "\n",
        "# Split data into train and test sets (80% train, 20% test)\n",
        "X_train, X_test, y_train, y_test = train_test_split(data['Comments'], data['TDType'], test_size=0.2, random_state=42)\n",
        "X_train_final, X_val, y_train_final, y_val = train_test_split(X_train, y_train, test_size=0.2, random_state=42)\n",
        "\n",
        "pipeline = Pipeline([\n",
        "    ('TFIDF', TfidfVectorizer()),\n",
        "    ('scaler', StandardScaler(with_mean=False)),\n",
        "    ('clf', LogisticRegression(random_state=42, max_iter=1000, class_weight='balanced'))\n",
        "])\n",
        "\n",
        "# Define the hyperparameters grid for tuning LR\n",
        "param_grid = {\n",
        "    'clf__C': [0.01, 0.1, 1, 10],  # Regularisation strength\n",
        "    'clf__penalty': ['l2', 'elasticnet'],  # Regularisation penalty type\n",
        "    'clf__max_iter': [100, 200, 500]  # Number of iterations for convergence\n",
        "}\n",
        "\n",
        "\n",
        "grid_search = GridSearchCV(estimator=pipeline,\n",
        "                           param_grid=param_grid,\n",
        "                           cv=StratifiedKFold(n_splits=5, shuffle=True, random_state=42),\n",
        "                           scoring='accuracy',\n",
        "                           n_jobs=-1,\n",
        "                           verbose=2)\n",
        "\n",
        "# Fit the grid search to the training data\n",
        "grid_search.fit(X_train_final, y_train_final)\n",
        "print(\"Best parameters found:\", grid_search.best_params_)\n",
        "\n",
        "# Evaluate the best model on the validation set\n",
        "best_model = grid_search.best_estimator_\n",
        "y_val_pred = best_model.predict(X_val)\n",
        "conf_matrix_val = confusion_matrix(y_val, y_val_pred)\n",
        "classification_rep_val = classification_report(y_val, y_val_pred)\n",
        "\n",
        "print(\"\\nValidation Confusion Matrix:\")\n",
        "print(conf_matrix_val)\n",
        "print(\"\\nValidation Classification Report:\")\n",
        "print(classification_rep_val)\n",
        "\n",
        "# Evaluate the best model on the test set\n",
        "y_test_pred = best_model.predict(X_test)\n",
        "conf_matrix_test = confusion_matrix(y_test, y_test_pred)\n",
        "classification_rep_test = classification_report(y_test, y_test_pred)\n",
        "\n",
        "print(\"\\nTest Confusion Matrix:\")\n",
        "print(conf_matrix_test)\n",
        "print(\"\\nTest Classification Report:\")\n",
        "print(classification_rep_test)\n"
      ],
      "metadata": {
        "id": "x9GOP5MbmqNe",
        "colab": {
          "base_uri": "https://localhost:8080/"
        },
        "outputId": "d996a74c-d1bd-4e11-ca1b-a20cc67ab9fa"
      },
      "execution_count": null,
      "outputs": [
        {
          "output_type": "stream",
          "name": "stdout",
          "text": [
            "Fitting 5 folds for each of 24 candidates, totalling 120 fits\n",
            "Best parameters found: {'clf__C': 10, 'clf__max_iter': 200, 'clf__penalty': 'l2'}\n",
            "\n",
            "Validation Confusion Matrix:\n",
            "[[  67    0    0   55    0    4    0   17]\n",
            " [   2   38    1   18    0    4    0    4]\n",
            " [   3    5   55   19    1    4    6    6]\n",
            " [  53   27   39 1396    3   94   15   89]\n",
            " [   1    0    0    3   12    1    1    2]\n",
            " [   5    4    5   79    5  234    4   12]\n",
            " [   1    2    2   11    0    2   82    5]\n",
            " [  38   13    7  131    1   21   18 3493]]\n",
            "\n",
            "Validation Classification Report:\n",
            "                        precision    recall  f1-score   support\n",
            "\n",
            "             ALGORITHM       0.39      0.47      0.43       143\n",
            "         COMPATIBILITY       0.43      0.57      0.49        67\n",
            "                DEFECT       0.50      0.56      0.53        99\n",
            "                DESIGN       0.82      0.81      0.81      1716\n",
            "         DOCUMENTATION       0.55      0.60      0.57        20\n",
            "        IMPLEMENTATION       0.64      0.67      0.66       348\n",
            "                  TEST       0.65      0.78      0.71       105\n",
            "WITHOUT_CLASSIFICATION       0.96      0.94      0.95      3722\n",
            "\n",
            "              accuracy                           0.86      6220\n",
            "             macro avg       0.62      0.67      0.64      6220\n",
            "          weighted avg       0.87      0.86      0.87      6220\n",
            "\n",
            "\n",
            "Test Confusion Matrix:\n",
            "[[ 114    0    5   47    1    8    2   23]\n",
            " [   3   48    3   17    0    5    5    8]\n",
            " [   3    5   77   29    0    2    7   12]\n",
            " [  68   19   48 1835    3  112   20  101]\n",
            " [   1    0    0    3   13    5    0    1]\n",
            " [   2    2   11   73    0  285    3   11]\n",
            " [   0    1    2   13    1    3  114    9]\n",
            " [  54    7    7  155    4   11   27 4327]]\n",
            "\n",
            "Test Classification Report:\n",
            "                        precision    recall  f1-score   support\n",
            "\n",
            "             ALGORITHM       0.47      0.57      0.51       200\n",
            "         COMPATIBILITY       0.59      0.54      0.56        89\n",
            "                DEFECT       0.50      0.57      0.53       135\n",
            "                DESIGN       0.84      0.83      0.84      2206\n",
            "         DOCUMENTATION       0.59      0.57      0.58        23\n",
            "        IMPLEMENTATION       0.66      0.74      0.70       387\n",
            "                  TEST       0.64      0.80      0.71       143\n",
            "WITHOUT_CLASSIFICATION       0.96      0.94      0.95      4592\n",
            "\n",
            "              accuracy                           0.88      7775\n",
            "             macro avg       0.66      0.69      0.67      7775\n",
            "          weighted avg       0.88      0.88      0.88      7775\n",
            "\n"
          ]
        }
      ]
    }
  ],
  "metadata": {
    "colab": {
      "gpuType": "T4",
      "machine_shape": "hm",
      "provenance": []
    },
    "kernelspec": {
      "display_name": "Python 3",
      "name": "python3"
    },
    "language_info": {
      "name": "python"
    }
  },
  "nbformat": 4,
  "nbformat_minor": 0
}