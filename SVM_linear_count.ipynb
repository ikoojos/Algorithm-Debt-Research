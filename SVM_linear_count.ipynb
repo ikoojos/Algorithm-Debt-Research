{
  "cells": [
    {
      "cell_type": "code",
      "execution_count": null,
      "metadata": {
        "id": "DcsKeqbTQnon"
      },
      "outputs": [],
      "source": [
        " import warnings\n",
        "\n",
        "# Ignore all warnings\n",
        "warnings.filterwarnings(\"ignore\")"
      ]
    },
    {
      "cell_type": "code",
      "execution_count": null,
      "metadata": {
        "colab": {
          "base_uri": "https://localhost:8080/"
        },
        "id": "DMA9H5i62C9Z",
        "outputId": "66b5c258-10db-4bd1-90d7-a4402c898f29"
      },
      "outputs": [
        {
          "output_type": "stream",
          "name": "stdout",
          "text": [
            "Mounted at /content/drive\n",
            "/content/drive/My Drive/AD Identification using SATD\n"
          ]
        }
      ],
      "source": [
        "from google.colab import drive\n",
        "drive.mount('/content/drive')\n",
        "%cd '/content/drive/My Drive/AD Identification using SATD'"
      ]
    },
    {
      "cell_type": "code",
      "source": [
        "import numpy as np\n",
        "import pandas as pd\n",
        "\n",
        "from sklearn.model_selection import train_test_split, StratifiedKFold, GridSearchCV\n",
        "from sklearn.feature_extraction.text import CountVectorizer, TfidfVectorizer, HashingVectorizer\n",
        "from sklearn.metrics import accuracy_score, classification_report, confusion_matrix\n",
        "from sklearn.preprocessing import LabelEncoder, StandardScaler, MultiLabelBinarizer\n",
        "from sklearn.svm import SVC\n",
        "from sklearn.multioutput import MultiOutputClassifier\n",
        "from sklearn.pipeline import Pipeline"
      ],
      "metadata": {
        "id": "zAlb0UA95X5_"
      },
      "execution_count": null,
      "outputs": []
    },
    {
      "cell_type": "markdown",
      "metadata": {
        "id": "cF-tbskFeYnn"
      },
      "source": [
        "#Read the dataset\n"
      ]
    },
    {
      "cell_type": "code",
      "execution_count": null,
      "metadata": {
        "id": "MItX6IAvtxPx"
      },
      "outputs": [],
      "source": [
        "import pandas as pd\n",
        "liu_ = '/content/drive/My Drive/AD Identification using SATD/liu_datset_processed.csv'\n",
        "liu_ = pd.read_csv(liu_, low_memory=False)"
      ]
    },
    {
      "cell_type": "code",
      "execution_count": null,
      "metadata": {
        "id": "vNrWN2oDsJDZ"
      },
      "outputs": [],
      "source": [
        "liu_['Comments'].fillna('', inplace=True)\n",
        "liu_['TDType'] = liu_['TDType'].astype(str)\n",
        "\n",
        "values_to_remove = ['MULTITHREAD', 'nan', 'removeType']\n",
        "replacement_value = 'WITHOUT_CLASSIFICATION'\n",
        "liu_['TDType'].replace(values_to_remove, replacement_value, inplace=True)\n",
        "\n",
        "liu_['Comments'] = liu_['Comments'].str.replace('content=', '', regex=False)\n",
        "liu_['Comments'] = liu_['Comments'].str.replace('\"', '', regex=False)"
      ]
    },
    {
      "cell_type": "code",
      "execution_count": null,
      "metadata": {
        "colab": {
          "base_uri": "https://localhost:8080/"
        },
        "id": "-rOU-PcknHuX",
        "outputId": "b3326422-c8ba-424a-c859-86ff44f5b801"
      },
      "outputs": [
        {
          "output_type": "stream",
          "name": "stdout",
          "text": [
            "Number of duplicate rows: 0\n"
          ]
        }
      ],
      "source": [
        "# Count the number of duplicate rows in the DataFrame\n",
        "num_duplicates = liu_.duplicated().sum()\n",
        "\n",
        "print(f\"Number of duplicate rows: {num_duplicates}\")\n"
      ]
    },
    {
      "cell_type": "markdown",
      "source": [
        "##CountVect"
      ],
      "metadata": {
        "id": "Glg8pO2aEUNr"
      }
    },
    {
      "cell_type": "code",
      "source": [
        "\n",
        "\n",
        "data = liu_\n",
        "\n",
        "# Split data into train and test sets (80% train, 20% test)\n",
        "X_train, X_test, y_train, y_test = train_test_split(data['Comments'], data['TDType'], test_size=0.2, random_state=42)\n",
        "# Further split the training set into training and validation sets\n",
        "X_train_final, X_val, y_train_final, y_val = train_test_split(X_train, y_train, test_size=0.2, random_state=42)\n",
        "\n",
        "# Define the pipeline\n",
        "pipeline = Pipeline([\n",
        "    ('CountVectorizer', CountVectorizer()),\n",
        "    ('scaler', StandardScaler(with_mean=False)),  # Scale feature vectors\n",
        "    ('clf', SVC(random_state=42, kernel='linear', class_weight='balanced', probability=True))  # SVM\n",
        "])\n",
        "\n",
        "\n",
        "param_grid = {\n",
        "    'clf__C': [0.01, 1],  # Regularization strength\n",
        "\n",
        "\n",
        "}\n",
        "\n",
        "grid_search = GridSearchCV(estimator=pipeline,\n",
        "                           param_grid=param_grid,\n",
        "                           cv=StratifiedKFold(n_splits=5, shuffle=True, random_state=42),\n",
        "                           scoring='accuracy',\n",
        "                           n_jobs=-1,\n",
        "                           verbose=2)\n",
        "\n",
        "# Fit the grid search to the training data\n",
        "grid_search.fit(X_train_final, y_train_final)\n",
        "\n",
        "\n",
        "print(\"Best parameters found:\", grid_search.best_params_)\n",
        "\n",
        "# Evaluate the model on the validation set\n",
        "best_model = grid_search.best_estimator_\n",
        "y_val_pred = best_model.predict(X_val)\n",
        "conf_matrix_val = confusion_matrix(y_val, y_val_pred)\n",
        "classification_rep_val = classification_report(y_val, y_val_pred)\n",
        "\n",
        "print(\"\\nValidation Confusion Matrix:\")\n",
        "print(conf_matrix_val)\n",
        "print(\"\\nValidation Classification Report:\")\n",
        "print(classification_rep_val)\n",
        "\n",
        "# Evaluate the best model on the test set\n",
        "y_test_pred = best_model.predict(X_test)\n",
        "conf_matrix_test = confusion_matrix(y_test, y_test_pred)\n",
        "classification_rep_test = classification_report(y_test, y_test_pred)\n",
        "\n",
        "print(\"\\nTest Confusion Matrix:\")\n",
        "print(conf_matrix_test)\n",
        "print(\"\\nTest Classification Report:\")\n",
        "print(classification_rep_test)\n"
      ],
      "metadata": {
        "id": "bFCoxdk5BXZL",
        "colab": {
          "base_uri": "https://localhost:8080/"
        },
        "outputId": "45f9488f-aa54-47b5-bb6f-caee19105c23"
      },
      "execution_count": null,
      "outputs": [
        {
          "output_type": "stream",
          "name": "stdout",
          "text": [
            "Fitting 5 folds for each of 2 candidates, totalling 10 fits\n",
            "Best parameters found: {'clf__C': 0.01}\n",
            "\n",
            "Validation Confusion Matrix:\n",
            "[[  53    3    6   54    1    7    0   19]\n",
            " [   1   36    3   15    0    5    0    7]\n",
            " [   1    4   54   19    4    5    5    7]\n",
            " [  74   32   68 1282   15  108   22  115]\n",
            " [   1    1    0    3   11    3    1    0]\n",
            " [   8    5    6   82    3  228    4   12]\n",
            " [   1    2    3   13    2    3   74    7]\n",
            " [  42   19    8   85    4    8    7 3549]]\n",
            "\n",
            "Validation Classification Report:\n",
            "                        precision    recall  f1-score   support\n",
            "\n",
            "             ALGORITHM       0.29      0.37      0.33       143\n",
            "         COMPATIBILITY       0.35      0.54      0.43        67\n",
            "                DEFECT       0.36      0.55      0.44        99\n",
            "                DESIGN       0.83      0.75      0.78      1716\n",
            "         DOCUMENTATION       0.28      0.55      0.37        20\n",
            "        IMPLEMENTATION       0.62      0.66      0.64       348\n",
            "                  TEST       0.65      0.70      0.68       105\n",
            "WITHOUT_CLASSIFICATION       0.96      0.95      0.95      3722\n",
            "\n",
            "              accuracy                           0.85      6220\n",
            "             macro avg       0.54      0.63      0.58      6220\n",
            "          weighted avg       0.86      0.85      0.85      6220\n",
            "\n",
            "\n",
            "Test Confusion Matrix:\n",
            "[[ 102    5    4   49    0    9    1   30]\n",
            " [   3   44    5   21    0    3    4    9]\n",
            " [   4   12   67   29    0    7    8    8]\n",
            " [  65   31   92 1675   20  152   33  138]\n",
            " [   4    2    0    6    8    3    0    0]\n",
            " [  13    8   12   90    2  241    9   12]\n",
            " [   0    3    8   10    2    3  107   10]\n",
            " [  51   27   21  108    2    4    8 4371]]\n",
            "\n",
            "Test Classification Report:\n",
            "                        precision    recall  f1-score   support\n",
            "\n",
            "             ALGORITHM       0.42      0.51      0.46       200\n",
            "         COMPATIBILITY       0.33      0.49      0.40        89\n",
            "                DEFECT       0.32      0.50      0.39       135\n",
            "                DESIGN       0.84      0.76      0.80      2206\n",
            "         DOCUMENTATION       0.24      0.35      0.28        23\n",
            "        IMPLEMENTATION       0.57      0.62      0.60       387\n",
            "                  TEST       0.63      0.75      0.68       143\n",
            "WITHOUT_CLASSIFICATION       0.95      0.95      0.95      4592\n",
            "\n",
            "              accuracy                           0.85      7775\n",
            "             macro avg       0.54      0.62      0.57      7775\n",
            "          weighted avg       0.86      0.85      0.86      7775\n",
            "\n"
          ]
        }
      ]
    }
  ],
  "metadata": {
    "colab": {
      "gpuType": "A100",
      "machine_shape": "hm",
      "provenance": []
    },
    "kernelspec": {
      "display_name": "Python 3",
      "name": "python3"
    },
    "language_info": {
      "name": "python"
    },
    "accelerator": "GPU"
  },
  "nbformat": 4,
  "nbformat_minor": 0
}