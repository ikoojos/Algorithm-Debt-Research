{
  "cells": [
    {
      "cell_type": "code",
      "execution_count": null,
      "metadata": {
        "id": "DcsKeqbTQnon"
      },
      "outputs": [],
      "source": [
        " import warnings\n",
        "\n",
        "# Ignore all warnings\n",
        "warnings.filterwarnings(\"ignore\")"
      ]
    },
    {
      "cell_type": "code",
      "execution_count": null,
      "metadata": {
        "colab": {
          "base_uri": "https://localhost:8080/"
        },
        "id": "DMA9H5i62C9Z",
        "outputId": "de0750d8-06b3-469c-f851-b7788053dd8b"
      },
      "outputs": [
        {
          "output_type": "stream",
          "name": "stdout",
          "text": [
            "Mounted at /content/drive\n",
            "/content/drive/My Drive/AD Identification using SATD\n"
          ]
        }
      ],
      "source": [
        "from google.colab import drive\n",
        "drive.mount('/content/drive')\n",
        "%cd '/content/drive/My Drive/AD Identification using SATD'"
      ]
    },
    {
      "cell_type": "markdown",
      "metadata": {
        "id": "cF-tbskFeYnn"
      },
      "source": [
        "#Read the dataset"
      ]
    },
    {
      "cell_type": "code",
      "source": [
        "import pandas as pd\n",
        "import numpy as np\n",
        "\n",
        "from sklearn.model_selection import train_test_split, StratifiedKFold, GridSearchCV\n",
        "from sklearn.feature_extraction.text import CountVectorizer, TfidfVectorizer, HashingVectorizer\n",
        "from sklearn.linear_model import LogisticRegression\n",
        "from sklearn.preprocessing import LabelEncoder, StandardScaler, MultiLabelBinarizer\n",
        "from sklearn.metrics import accuracy_score, classification_report, confusion_matrix\n",
        "from sklearn.pipeline import Pipeline\n"
      ],
      "metadata": {
        "id": "mLPdx-PhwD87"
      },
      "execution_count": null,
      "outputs": []
    },
    {
      "cell_type": "code",
      "source": [
        "liu_ = '/content/drive/My Drive/AD Identification using SATD/liu_datset_processed.csv'\n",
        "liu_ = pd.read_csv(liu_, low_memory=False)\n",
        "liu_['Comments'].fillna('', inplace=True)\n",
        "liu_['TDType'] = liu_['TDType'].astype(str)\n",
        "liu_['TDType'] = liu_['TDType'].replace('removeType', 'WITHOUT_CLASSIFICATION')\n",
        "\n",
        "# Remove duplicates based on specific columns (e.g., 'Comments' and 'TDType')\n",
        "liu_ = liu_.drop_duplicates(subset=['Comments', 'TDType'])\n",
        "\n",
        "liu_['Comments'].fillna('', inplace=True)\n",
        "liu_['TDType'] = liu_['TDType'].astype(str)\n",
        "\n",
        "# Replace values with 'WITHOUT CLASSIFICATION'\n",
        "values_to_remove = ['MULTITHREAD', 'nan', 'removeType']\n",
        "replacement_value = 'WITHOUT_CLASSIFICATION'\n",
        "liu_['TDType'].replace(values_to_remove, replacement_value, inplace=True)\n",
        "\n",
        "liu_['Comments'] = liu_['Comments'].str.replace('content=', '', regex=False)\n",
        "liu_['Comments'] = liu_['Comments'].str.replace('\"', '', regex=False)\n",
        "\n",
        "liu_['TDType'] = liu_['TDType'].replace('removeType', 'WITHOUT_CLASSIFICATION')"
      ],
      "metadata": {
        "id": "7vce-bht3jWT"
      },
      "execution_count": null,
      "outputs": []
    },
    {
      "cell_type": "code",
      "source": [
        "# Count the number of duplicate rows in the DataFrame\n",
        "num_duplicates = liu_.duplicated().sum()\n",
        "\n",
        "print(f\"Number of duplicate rows: {num_duplicates}\")\n"
      ],
      "metadata": {
        "id": "-rOU-PcknHuX",
        "colab": {
          "base_uri": "https://localhost:8080/"
        },
        "outputId": "b7773e29-dcf2-4fb2-bc5d-f852f5de8e82"
      },
      "execution_count": null,
      "outputs": [
        {
          "output_type": "stream",
          "name": "stdout",
          "text": [
            "Number of duplicate rows: 0\n"
          ]
        }
      ]
    },
    {
      "cell_type": "markdown",
      "source": [
        "##LR couunt"
      ],
      "metadata": {
        "id": "MCP7sTZvZ4W6"
      }
    },
    {
      "cell_type": "code",
      "source": [
        "data = liu_\n",
        "\n",
        "X_train, X_test, y_train, y_test = train_test_split(data['Comments'], data['TDType'], test_size=0.2, random_state=42)\n",
        "# Further split the training set into training and validation sets (80% of training goes to training, 20% goes to validation)\n",
        "X_train_final, X_val, y_train_final, y_val = train_test_split(X_train, y_train, test_size=0.2, random_state=42)\n",
        "\n",
        "\n",
        "pipeline = Pipeline([\n",
        "    ('COUNT', CountVectorizer()),\n",
        "    ('scaler', StandardScaler(with_mean=False)),\n",
        "    ('clf', LogisticRegression(random_state=42, class_weight='balanced'))\n",
        "])\n",
        "\n",
        "# hyperparameters grid\n",
        "param_grid = {\n",
        "    'clf__C': [0.01, 0.1, 1, 10],  # Regularisation strength\n",
        "    'clf__penalty': ['l2', 'elasticnet'],  # Regularisation penalty type\n",
        "    'clf__max_iter': [100, 200, 500]  # Number of iterations for convergence\n",
        "}\n",
        "\n",
        "\n",
        "grid_search = GridSearchCV(estimator=pipeline,\n",
        "                           param_grid=param_grid,\n",
        "                           cv=StratifiedKFold(n_splits=5, shuffle=True, random_state=42),\n",
        "                           scoring='accuracy',\n",
        "                           n_jobs=-1,\n",
        "                           verbose=2)\n",
        "\n",
        "# Fit the grid search to the training data\n",
        "grid_search.fit(X_train_final, y_train_final)\n",
        "\n",
        "# Print the best parameters found by GridSearchCV\n",
        "print(\"Best parameters found:\", grid_search.best_params_)\n",
        "\n",
        "# Evaluate the best model on the validation set\n",
        "best_model = grid_search.best_estimator_\n",
        "y_val_pred = best_model.predict(X_val)\n",
        "conf_matrix_val = confusion_matrix(y_val, y_val_pred)\n",
        "classification_rep_val = classification_report(y_val, y_val_pred)\n",
        "\n",
        "print(\"\\nValidation Confusion Matrix:\")\n",
        "print(conf_matrix_val)\n",
        "print(\"\\nValidation Classification Report:\")\n",
        "print(classification_rep_val)\n",
        "\n",
        "# Evaluate the best model on the test set\n",
        "y_test_pred = best_model.predict(X_test)\n",
        "conf_matrix_test = confusion_matrix(y_test, y_test_pred)\n",
        "classification_rep_test = classification_report(y_test, y_test_pred)\n",
        "\n",
        "print(\"\\nTest Confusion Matrix:\")\n",
        "print(conf_matrix_test)\n",
        "print(\"\\nTest Classification Report:\")\n",
        "print(classification_rep_test)\n"
      ],
      "metadata": {
        "colab": {
          "base_uri": "https://localhost:8080/"
        },
        "id": "0GQyLtrfXC5r",
        "outputId": "b56e358c-60f7-4a4f-dd2e-4b1b0f4be137"
      },
      "execution_count": null,
      "outputs": [
        {
          "output_type": "stream",
          "name": "stdout",
          "text": [
            "Fitting 5 folds for each of 24 candidates, totalling 120 fits\n",
            "Best parameters found: {'clf__C': 10, 'clf__max_iter': 100, 'clf__penalty': 'l2'}\n",
            "\n",
            "Validation Confusion Matrix:\n",
            "[[  60    1    2   53    0    4    0   23]\n",
            " [   2   36    2   15    0    4    0    8]\n",
            " [   2    5   55   20    1    5    4    7]\n",
            " [  52   21   51 1357    0  110   16  109]\n",
            " [   2    0    0    4   11    1    1    1]\n",
            " [   2    1    6   76    3  242    4   14]\n",
            " [   1    2    2   13    0    2   79    6]\n",
            " [  20    9    5   84    0    8    6 3590]]\n",
            "\n",
            "Validation Classification Report:\n",
            "                        precision    recall  f1-score   support\n",
            "\n",
            "             ALGORITHM       0.43      0.42      0.42       143\n",
            "         COMPATIBILITY       0.48      0.54      0.51        67\n",
            "                DEFECT       0.45      0.56      0.50        99\n",
            "                DESIGN       0.84      0.79      0.81      1716\n",
            "         DOCUMENTATION       0.73      0.55      0.63        20\n",
            "        IMPLEMENTATION       0.64      0.70      0.67       348\n",
            "                  TEST       0.72      0.75      0.73       105\n",
            "WITHOUT_CLASSIFICATION       0.96      0.96      0.96      3722\n",
            "\n",
            "              accuracy                           0.87      6220\n",
            "             macro avg       0.65      0.66      0.65      6220\n",
            "          weighted avg       0.88      0.87      0.87      6220\n",
            "\n",
            "\n",
            "Test Confusion Matrix:\n",
            "[[ 105    0    6   50    1    8    2   28]\n",
            " [   2   47    3   18    0    5    4   10]\n",
            " [   4    3   71   36    1    4    5   11]\n",
            " [  57   29   58 1794    4  129   24  111]\n",
            " [   1    0    0    7   12    3    0    0]\n",
            " [   4    3   13   75    0  281    5    6]\n",
            " [   0    1    6   15    1    2  110    8]\n",
            " [  42    5    5  115    2    6    8 4409]]\n",
            "\n",
            "Test Classification Report:\n",
            "                        precision    recall  f1-score   support\n",
            "\n",
            "             ALGORITHM       0.49      0.53      0.51       200\n",
            "         COMPATIBILITY       0.53      0.53      0.53        89\n",
            "                DEFECT       0.44      0.53      0.48       135\n",
            "                DESIGN       0.85      0.81      0.83      2206\n",
            "         DOCUMENTATION       0.57      0.52      0.55        23\n",
            "        IMPLEMENTATION       0.64      0.73      0.68       387\n",
            "                  TEST       0.70      0.77      0.73       143\n",
            "WITHOUT_CLASSIFICATION       0.96      0.96      0.96      4592\n",
            "\n",
            "              accuracy                           0.88      7775\n",
            "             macro avg       0.65      0.67      0.66      7775\n",
            "          weighted avg       0.88      0.88      0.88      7775\n",
            "\n"
          ]
        }
      ]
    }
  ],
  "metadata": {
    "colab": {
      "gpuType": "T4",
      "machine_shape": "hm",
      "provenance": []
    },
    "kernelspec": {
      "display_name": "Python 3",
      "name": "python3"
    },
    "language_info": {
      "name": "python"
    }
  },
  "nbformat": 4,
  "nbformat_minor": 0
}