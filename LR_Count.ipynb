{
  "cells": [
    {
      "cell_type": "markdown",
      "metadata": {
        "id": "view-in-github",
        "colab_type": "text"
      },
      "source": [
        "<a href=\"https://colab.research.google.com/github/ikoojos/Algorithm-Debt-Research/blob/master/LR_Count.ipynb\" target=\"_parent\"><img src=\"https://colab.research.google.com/assets/colab-badge.svg\" alt=\"Open In Colab\"/></a>"
      ]
    },
    {
      "cell_type": "code",
      "source": [
        "import sys\n",
        "from google.colab import drive\n",
        "from itertools import product\n",
        "from sklearn.linear_model import LogisticRegression\n",
        "import importlib\n",
        "\n",
        "# Mount Google Drive\n",
        "drive.mount('/content/drive')\n",
        "sys.path.append('/content/drive/My Drive/AD Final Experiments')\n",
        "\n",
        "# Import custom modules\n",
        "from preprocessing import preprocess_data\n",
        "from splitting import split_data\n",
        "from utils import *\n",
        "from evaluate_model import evaluate_best_model\n",
        "from lr_tuning import hyperparameter_tuning\n",
        "\n",
        "\n",
        "for module in ['preprocessing', 'splitting', 'utils', 'evaluate_model', 'lr_tuning']:\n",
        "    importlib.reload(sys.modules[module])\n"
      ],
      "metadata": {
        "colab": {
          "base_uri": "https://localhost:8080/"
        },
        "id": "XPgcI0ID-uWR",
        "outputId": "5f17a640-56f4-4c1b-c34a-99b1e3c07fa8"
      },
      "execution_count": null,
      "outputs": [
        {
          "output_type": "stream",
          "name": "stdout",
          "text": [
            "Mounted at /content/drive\n"
          ]
        }
      ]
    },
    {
      "cell_type": "code",
      "source": [
        "file_path = '/content/drive/My Drive/AD Identification using SATD/liu_datset_processed.csv'\n",
        "data = preprocess_data(file_path)\n",
        "X_train_final, X_val, X_test, y_train_final, y_val, y_test = split_data(data)"
      ],
      "metadata": {
        "id": "SROlvyyO88QJ"
      },
      "execution_count": null,
      "outputs": []
    },
    {
      "cell_type": "code",
      "source": [
        "from sklearn.preprocessing import StandardScaler\n",
        "\n",
        "param_grid = {\n",
        "    'C': [0.01, 1, 10],\n",
        "    'penalty': ['l2'],\n",
        "    'max_iter': [1, 10, 100, 200]\n",
        "}\n",
        "\n",
        "vectorizer = CountVectorizer()\n",
        "best_model, best_params, best_score = hyperparameter_tuning(X_train_final, y_train_final, X_val, y_val, param_grid, vectorizer)\n",
        "evaluate_best_model(best_model, best_params, best_score, X_test, y_test)"
      ],
      "metadata": {
        "colab": {
          "base_uri": "https://localhost:8080/"
        },
        "id": "Xa3Auz7J-J3Z",
        "outputId": "5eef7ffb-aed7-4810-9888-bb7fa4c082ed"
      },
      "execution_count": null,
      "outputs": [
        {
          "output_type": "stream",
          "name": "stdout",
          "text": [
            "Best parameters found: {'C': 0.01, 'penalty': 'l2', 'max_iter': 200}\n",
            "Validation set accuracy: 0.8588424437299035\n",
            "\n",
            "Test Confusion Matrix:\n",
            "[[ 100    1    1   62    1   10    1   24]\n",
            " [   3   44    4   20    0    3    4   11]\n",
            " [   3    5   72   33    0    6    7    9]\n",
            " [  36   19   57 1755   12  153   29  145]\n",
            " [   0    2    1    6   10    4    0    0]\n",
            " [   9    5    8   83    2  267    7    6]\n",
            " [   2    3    7   18    1    6   95   11]\n",
            " [  34   13   10  113    2    6   11 4403]]\n",
            "\n",
            "Test Classification Report:\n",
            "                        precision    recall  f1-score   support\n",
            "\n",
            "             ALGORITHM       0.53      0.50      0.52       200\n",
            "         COMPATIBILITY       0.48      0.49      0.49        89\n",
            "                DEFECT       0.45      0.53      0.49       135\n",
            "                DESIGN       0.84      0.80      0.82      2206\n",
            "         DOCUMENTATION       0.36      0.43      0.39        23\n",
            "        IMPLEMENTATION       0.59      0.69      0.63       387\n",
            "                  TEST       0.62      0.66      0.64       143\n",
            "WITHOUT_CLASSIFICATION       0.96      0.96      0.96      4592\n",
            "\n",
            "              accuracy                           0.87      7775\n",
            "             macro avg       0.60      0.63      0.62      7775\n",
            "          weighted avg       0.87      0.87      0.87      7775\n",
            "\n"
          ]
        }
      ]
    }
  ],
  "metadata": {
    "colab": {
      "gpuType": "T4",
      "machine_shape": "hm",
      "provenance": [],
      "include_colab_link": true
    },
    "kernelspec": {
      "display_name": "Python 3",
      "name": "python3"
    },
    "language_info": {
      "name": "python"
    }
  },
  "nbformat": 4,
  "nbformat_minor": 0
}