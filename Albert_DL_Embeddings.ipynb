{
  "cells": [
    {
      "cell_type": "markdown",
      "metadata": {
        "id": "view-in-github",
        "colab_type": "text"
      },
      "source": [
        "<a href=\"https://colab.research.google.com/github/ikoojos/Algorithm-Debt-Research/blob/master/Albert_DL_Embeddings.ipynb\" target=\"_parent\"><img src=\"https://colab.research.google.com/assets/colab-badge.svg\" alt=\"Open In Colab\"/></a>"
      ]
    },
    {
      "cell_type": "code",
      "execution_count": 1,
      "metadata": {
        "colab": {
          "base_uri": "https://localhost:8080/"
        },
        "id": "DMA9H5i62C9Z",
        "outputId": "f39d46eb-259e-4e93-a4f1-ed1a89d04fc5"
      },
      "outputs": [
        {
          "output_type": "stream",
          "name": "stdout",
          "text": [
            "Mounted at /content/drive\n",
            "/content/drive/My Drive/AD Final Experiments\n"
          ]
        }
      ],
      "source": [
        "import sys\n",
        "from google.colab import drive\n",
        "import importlib\n",
        "\n",
        "drive.mount('/content/drive')\n",
        "%cd '/content/drive/My Drive/AD Final Experiments'\n",
        "sys.path.append('/content/drive/My Drive/AD Final Experiments')\n",
        "\n",
        "from preprocessing import preprocess_data\n",
        "from splitting import split_data\n",
        "from utils import *\n",
        "from evaluate_model import evaluate_best_model\n",
        "from lr_tuning import hyperparameter_tuning\n",
        "\n",
        "for module in ['preprocessing', 'splitting', 'utils', 'evaluate_model', 'lr_tuning']:\n",
        "    importlib.reload(sys.modules[module])\n",
        "\n",
        "import torch\n",
        "from torch.utils.data import DataLoader, Dataset\n",
        "\n",
        "from sklearn.model_selection import GridSearchCV\n",
        "from sklearn.preprocessing import LabelEncoder, StandardScaler, MultiLabelBinarizer\n",
        "from sklearn.multioutput import MultiOutputClassifier\n",
        "from sklearn.linear_model import LogisticRegression\n",
        "\n",
        "from transformers import AlbertTokenizer, AlbertForSequenceClassification, AlbertModel, Trainer, TrainingArguments\n",
        "\n",
        "from itertools import product\n",
        "import warnings\n",
        "\n",
        "warnings.filterwarnings(\"ignore\")"
      ]
    },
    {
      "cell_type": "code",
      "execution_count": 2,
      "metadata": {
        "id": "MItX6IAvtxPx"
      },
      "outputs": [],
      "source": [
        "file_path = '/content/drive/My Drive/AD Identification using SATD/liu_datset_processed.csv'\n",
        "data = preprocess_data(file_path)\n",
        "X_train_final, X_val, X_test, y_train_final, y_val, y_test = split_data(data)"
      ]
    },
    {
      "cell_type": "code",
      "source": [
        "pip install transformers\n"
      ],
      "metadata": {
        "id": "9_vHpe-wNiKL",
        "colab": {
          "base_uri": "https://localhost:8080/"
        },
        "outputId": "627689ea-518c-40dd-f8ef-c77db951334f"
      },
      "execution_count": 4,
      "outputs": [
        {
          "output_type": "stream",
          "name": "stdout",
          "text": [
            "Requirement already satisfied: transformers in /usr/local/lib/python3.10/dist-packages (4.46.3)\n",
            "Requirement already satisfied: filelock in /usr/local/lib/python3.10/dist-packages (from transformers) (3.16.1)\n",
            "Requirement already satisfied: huggingface-hub<1.0,>=0.23.2 in /usr/local/lib/python3.10/dist-packages (from transformers) (0.26.5)\n",
            "Requirement already satisfied: numpy>=1.17 in /usr/local/lib/python3.10/dist-packages (from transformers) (1.26.4)\n",
            "Requirement already satisfied: packaging>=20.0 in /usr/local/lib/python3.10/dist-packages (from transformers) (24.2)\n",
            "Requirement already satisfied: pyyaml>=5.1 in /usr/local/lib/python3.10/dist-packages (from transformers) (6.0.2)\n",
            "Requirement already satisfied: regex!=2019.12.17 in /usr/local/lib/python3.10/dist-packages (from transformers) (2024.9.11)\n",
            "Requirement already satisfied: requests in /usr/local/lib/python3.10/dist-packages (from transformers) (2.32.3)\n",
            "Requirement already satisfied: tokenizers<0.21,>=0.20 in /usr/local/lib/python3.10/dist-packages (from transformers) (0.20.3)\n",
            "Requirement already satisfied: safetensors>=0.4.1 in /usr/local/lib/python3.10/dist-packages (from transformers) (0.4.5)\n",
            "Requirement already satisfied: tqdm>=4.27 in /usr/local/lib/python3.10/dist-packages (from transformers) (4.66.6)\n",
            "Requirement already satisfied: fsspec>=2023.5.0 in /usr/local/lib/python3.10/dist-packages (from huggingface-hub<1.0,>=0.23.2->transformers) (2024.10.0)\n",
            "Requirement already satisfied: typing-extensions>=3.7.4.3 in /usr/local/lib/python3.10/dist-packages (from huggingface-hub<1.0,>=0.23.2->transformers) (4.12.2)\n",
            "Requirement already satisfied: charset-normalizer<4,>=2 in /usr/local/lib/python3.10/dist-packages (from requests->transformers) (3.4.0)\n",
            "Requirement already satisfied: idna<4,>=2.5 in /usr/local/lib/python3.10/dist-packages (from requests->transformers) (3.10)\n",
            "Requirement already satisfied: urllib3<3,>=1.21.1 in /usr/local/lib/python3.10/dist-packages (from requests->transformers) (2.2.3)\n",
            "Requirement already satisfied: certifi>=2017.4.17 in /usr/local/lib/python3.10/dist-packages (from requests->transformers) (2024.8.30)\n"
          ]
        }
      ]
    },
    {
      "cell_type": "code",
      "source": [
        "import wandb\n",
        "\n",
        "# Disable wandb logging\n",
        "wandb.init(mode=\"disabled\")"
      ],
      "metadata": {
        "colab": {
          "base_uri": "https://localhost:8080/",
          "height": 38
        },
        "id": "_NbPy7m57jfa",
        "outputId": "240eb2eb-64ef-4420-d43c-60f95bb0d380"
      },
      "execution_count": 5,
      "outputs": [
        {
          "output_type": "execute_result",
          "data": {
            "text/html": [
              "<button onClick=\"this.nextSibling.style.display='block';this.style.display='none';\">Display W&B run</button><iframe src='?jupyter=true' style='border:none;width:100%;height:420px;display:none;'></iframe>"
            ],
            "text/plain": [
              "<wandb.sdk.wandb_run.Run at 0x7d2933d46ec0>"
            ]
          },
          "metadata": {},
          "execution_count": 5
        }
      ]
    },
    {
      "cell_type": "code",
      "source": [
        "liu_data = data\n",
        "tokenizer = AlbertTokenizer.from_pretrained('albert-base-v2')\n",
        "model = AlbertModel.from_pretrained('albert-base-v2')\n",
        "\n",
        "def encode_text(text):\n",
        "    inputs = tokenizer(text, padding=True, truncation=True, return_tensors='pt')\n",
        "    return inputs\n",
        "\n",
        "def extract_albert_features(text):\n",
        "    inputs = encode_text(text)\n",
        "    with torch.no_grad():\n",
        "        outputs = model(**inputs)\n",
        "    features = outputs.last_hidden_state.mean(dim=1).squeeze().numpy()\n",
        "    return features\n",
        "\n",
        "X_train, X_test, y_train, y_test = train_test_split(liu_data['Comments'], liu_data['TDType'], test_size=0.2, random_state=42)\n",
        "X_train, X_val, y_train, y_val = train_test_split(X_train, y_train, test_size=0.20, random_state=42)\n",
        "\n",
        "X_train_albert = np.vstack(X_train.apply(extract_albert_features))\n",
        "X_val_albert = np.vstack(X_val.apply(extract_albert_features))\n",
        "X_test_albert = np.vstack(X_test.apply(extract_albert_features))\n",
        "\n",
        "train_df = pd.DataFrame(X_train_albert)\n",
        "train_df['label'] = y_train.values\n",
        "\n",
        "val_df = pd.DataFrame(X_val_albert)\n",
        "val_df['label'] = y_val.values\n",
        "\n",
        "test_df = pd.DataFrame(X_test_albert)\n",
        "test_df['label'] = y_test.values"
      ],
      "metadata": {
        "id": "Qm5VhdK1t-cI"
      },
      "execution_count": null,
      "outputs": []
    },
    {
      "cell_type": "code",
      "source": [
        "train_df.to_csv('albert_train_embeddings.csv', index=False)\n",
        "val_df.to_csv('albert_val_embeddings.csv', index=False)\n",
        "test_df.to_csv('albert_test_embeddings.csv', index=False)\n",
        "\n",
        "print(\"Embeddings saved to CSV files successfully!\")\n"
      ],
      "metadata": {
        "colab": {
          "base_uri": "https://localhost:8080/"
        },
        "id": "718rfgLH-BpA",
        "outputId": "269c5a05-6974-45f9-d6e0-59e64faa881b"
      },
      "execution_count": 11,
      "outputs": [
        {
          "output_type": "stream",
          "name": "stdout",
          "text": [
            "Embeddings saved to CSV files successfully!\n"
          ]
        }
      ]
    },
    {
      "cell_type": "code",
      "source": [
        "train = pd.read_csv('albert_train_embeddings.csv')\n",
        "val = pd.read_csv('albert_val_embeddings.csv')\n",
        "test = pd.read_csv('albert_test_embeddings.csv')\n",
        "\n",
        "# Separate features and labels\n",
        "X_train = train.iloc[:, :-1]\n",
        "y_train = train['label']\n",
        "\n",
        "X_val = val.iloc[:, :-1]\n",
        "y_val = val['label']\n",
        "\n",
        "X_test = test.iloc[:, :-1]\n",
        "y_test = test['label']\n",
        "\n",
        "scaler = StandardScaler()\n",
        "X_train_scaled = scaler.fit_transform(X_train)\n",
        "X_val_scaled = scaler.transform(X_val)\n",
        "X_test_scaled = scaler.transform(X_test)\n",
        "\n",
        "param_grid = {\n",
        "    'C': [0.01, 1, 10],\n",
        "    'penalty': ['l2'],\n",
        "    'max_iter': [1, 10, 100, 200]\n",
        "}\n",
        "\n",
        "# Hyperparameter tuning function\n",
        "def hyperparameter_tuning(X_train, y_train, X_val, y_val, param_grid):\n",
        "    grid_search = GridSearchCV(LogisticRegression(class_weight='balanced', random_state=42), param_grid, cv=5, scoring='accuracy', n_jobs=-1)\n",
        "    grid_search.fit(X_train, y_train)\n",
        "\n",
        "    best_params = grid_search.best_params_\n",
        "    best_score = grid_search.best_score_\n",
        "\n",
        "    best_model = grid_search.best_estimator_\n",
        "    y_val_pred = best_model.predict(X_val)\n",
        "    val_accuracy = accuracy_score(y_val, y_val_pred)\n",
        "\n",
        "    print(\"\\nBest Parameters:\", best_params)\n",
        "    print(\"\\nValidation Accuracy:\", val_accuracy)\n",
        "\n",
        "    return best_model, best_params, best_score\n",
        "\n",
        "def evaluate_best_model(model, X_test, y_test):\n",
        "    y_test_pred = model.predict(X_test)\n",
        "\n",
        "\n",
        "    print(\"\\nTest Classification Report:\")\n",
        "    print(classification_report(y_test, y_test_pred))\n",
        "\n",
        "\n",
        "best_model, best_params, best_score = hyperparameter_tuning(X_train_scaled, y_train, X_val_scaled, y_val, param_grid)\n",
        "evaluate_best_model(best_model, X_test_scaled, y_test)\n"
      ],
      "metadata": {
        "colab": {
          "base_uri": "https://localhost:8080/"
        },
        "id": "sqmXuL8epGef",
        "outputId": "2d346a32-5f8e-47ee-af63-7e7e73c731f6"
      },
      "execution_count": 3,
      "outputs": [
        {
          "output_type": "stream",
          "name": "stdout",
          "text": [
            "\n",
            "Best Parameters: {'C': 1, 'max_iter': 200, 'penalty': 'l2'}\n",
            "\n",
            "Validation Accuracy: 0.7354340836012861\n",
            "\n",
            "Test Classification Report:\n",
            "                        precision    recall  f1-score   support\n",
            "\n",
            "             ALGORITHM       0.19      0.49      0.28       200\n",
            "         COMPATIBILITY       0.21      0.58      0.31        89\n",
            "                DEFECT       0.15      0.38      0.21       135\n",
            "                DESIGN       0.78      0.54      0.64      2206\n",
            "         DOCUMENTATION       0.16      0.43      0.24        23\n",
            "        IMPLEMENTATION       0.38      0.63      0.48       387\n",
            "                  TEST       0.38      0.62      0.47       143\n",
            "WITHOUT_CLASSIFICATION       0.95      0.87      0.91      4592\n",
            "\n",
            "              accuracy                           0.74      7775\n",
            "             macro avg       0.40      0.57      0.44      7775\n",
            "          weighted avg       0.82      0.74      0.77      7775\n",
            "\n"
          ]
        }
      ]
    }
  ],
  "metadata": {
    "colab": {
      "machine_shape": "hm",
      "provenance": [],
      "gpuType": "T4",
      "include_colab_link": true
    },
    "kernelspec": {
      "display_name": "Python 3",
      "name": "python3"
    },
    "language_info": {
      "name": "python"
    },
    "accelerator": "GPU"
  },
  "nbformat": 4,
  "nbformat_minor": 0
}