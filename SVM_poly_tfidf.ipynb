{
  "cells": [
    {
      "cell_type": "code",
      "execution_count": null,
      "metadata": {
        "id": "DcsKeqbTQnon"
      },
      "outputs": [],
      "source": [
        " import warnings\n",
        "\n",
        "# Ignore all warnings\n",
        "warnings.filterwarnings(\"ignore\")"
      ]
    },
    {
      "cell_type": "code",
      "execution_count": null,
      "metadata": {
        "colab": {
          "base_uri": "https://localhost:8080/"
        },
        "id": "DMA9H5i62C9Z",
        "outputId": "66b5c258-10db-4bd1-90d7-a4402c898f29"
      },
      "outputs": [
        {
          "output_type": "stream",
          "name": "stdout",
          "text": [
            "Mounted at /content/drive\n",
            "/content/drive/My Drive/AD Identification using SATD\n"
          ]
        }
      ],
      "source": [
        "from google.colab import drive\n",
        "drive.mount('/content/drive')\n",
        "%cd '/content/drive/My Drive/AD Identification using SATD'"
      ]
    },
    {
      "cell_type": "markdown",
      "metadata": {
        "id": "cF-tbskFeYnn"
      },
      "source": [
        "#Read the dataset\n"
      ]
    },
    {
      "cell_type": "code",
      "execution_count": null,
      "metadata": {
        "id": "MItX6IAvtxPx"
      },
      "outputs": [],
      "source": [
        "import pandas as pd\n",
        "liu_ = '/content/drive/My Drive/AD Identification using SATD/liu_datset_processed.csv'\n",
        "liu_ = pd.read_csv(liu_, low_memory=False)"
      ]
    },
    {
      "cell_type": "code",
      "execution_count": null,
      "metadata": {
        "id": "vNrWN2oDsJDZ"
      },
      "outputs": [],
      "source": [
        "liu_['Comments'].fillna('', inplace=True)\n",
        "liu_['TDType'] = liu_['TDType'].astype(str)\n",
        "\n",
        "values_to_remove = ['MULTITHREAD', 'nan', 'removeType']\n",
        "replacement_value = 'WITHOUT_CLASSIFICATION'\n",
        "liu_['TDType'].replace(values_to_remove, replacement_value, inplace=True)\n",
        "\n",
        "liu_['Comments'] = liu_['Comments'].str.replace('content=', '', regex=False)\n",
        "liu_['Comments'] = liu_['Comments'].str.replace('\"', '', regex=False)"
      ]
    },
    {
      "cell_type": "code",
      "execution_count": null,
      "metadata": {
        "id": "2EbLDtvUshnW"
      },
      "outputs": [],
      "source": [
        "liu_ = liu_.drop_duplicates(subset=['Comments', 'TDType'])\n",
        "liu_['TDType'] = liu_['TDType'].replace('removeType', 'WITHOUT_CLASSIFICATION')"
      ]
    },
    {
      "cell_type": "code",
      "execution_count": null,
      "metadata": {
        "colab": {
          "base_uri": "https://localhost:8080/"
        },
        "id": "-rOU-PcknHuX",
        "outputId": "b3326422-c8ba-424a-c859-86ff44f5b801"
      },
      "outputs": [
        {
          "output_type": "stream",
          "name": "stdout",
          "text": [
            "Number of duplicate rows: 0\n"
          ]
        }
      ],
      "source": [
        "# Count the number of duplicate rows in the DataFrame\n",
        "num_duplicates = liu_.duplicated().sum()\n",
        "\n",
        "print(f\"Number of duplicate rows: {num_duplicates}\")\n"
      ]
    },
    {
      "cell_type": "code",
      "execution_count": null,
      "metadata": {
        "id": "IDvYCLWvEmB6"
      },
      "outputs": [],
      "source": [
        "import matplotlib.pyplot as plt\n",
        "import numpy as np\n",
        "\n",
        "from sklearn.model_selection import train_test_split, StratifiedKFold, GridSearchCV\n",
        "from sklearn.feature_extraction.text import CountVectorizer, TfidfVectorizer, HashingVectorizer\n",
        "from sklearn.metrics import accuracy_score, classification_report, confusion_matrix\n",
        "from sklearn.preprocessing import LabelEncoder, StandardScaler, MultiLabelBinarizer\n",
        "from sklearn.svm import SVC\n",
        "from sklearn.multioutput import MultiOutputClassifier\n",
        "from sklearn.pipeline import Pipeline\n",
        "\n",
        "import pandas as pd\n"
      ]
    },
    {
      "cell_type": "markdown",
      "source": [
        "##Tfidf"
      ],
      "metadata": {
        "id": "6tDLHy5GD6Oz"
      }
    },
    {
      "cell_type": "code",
      "source": [
        "\n",
        "\n",
        "data = liu_\n",
        "\n",
        "# Split data into train and test sets (80% train, 20% test)\n",
        "X_train, X_test, y_train, y_test = train_test_split(data['Comments'], data['TDType'], test_size=0.2, random_state=42)\n",
        "# Further split the training set into training and validation sets\n",
        "X_train_final, X_val, y_train_final, y_val = train_test_split(X_train, y_train, test_size=0.2, random_state=42)\n",
        "\n",
        "# Define the pipeline\n",
        "pipeline = Pipeline([\n",
        "    ('TfidfVectorizer', TfidfVectorizer()),\n",
        "    ('scaler', StandardScaler(with_mean=False)),  # Scale feature vectors\n",
        "    ('clf', SVC(random_state=42, kernel='poly', class_weight='balanced', probability=True))  # SVM\n",
        "])\n",
        "\n",
        "\n",
        "param_grid = {\n",
        "    'clf__C': [0.01, 1]\n",
        "}\n",
        "\n",
        "grid_search = GridSearchCV(estimator=pipeline,\n",
        "                           param_grid=param_grid,\n",
        "                           cv=StratifiedKFold(n_splits=5, shuffle=True, random_state=42),\n",
        "                           scoring='accuracy',\n",
        "                           n_jobs=-1,\n",
        "                           verbose=2)\n",
        "\n",
        "grid_search.fit(X_train_final, y_train_final)\n",
        "\n",
        "\n",
        "best_model = grid_search.best_estimator_\n",
        "y_val_pred = best_model.predict(X_val)\n",
        "conf_matrix_val = confusion_matrix(y_val, y_val_pred)\n",
        "classification_rep_val = classification_report(y_val, y_val_pred)\n",
        "\n",
        "print(\"\\nValidation Confusion Matrix:\")\n",
        "print(conf_matrix_val)\n",
        "print(\"\\nValidation Classification Report:\")\n",
        "print(classification_rep_val)\n",
        "\n",
        "# Evaluate the best model on the test set\n",
        "y_test_pred = best_model.predict(X_test)\n",
        "conf_matrix_test = confusion_matrix(y_test, y_test_pred)\n",
        "classification_rep_test = classification_report(y_test, y_test_pred)\n",
        "\n",
        "print(\"\\nTest Confusion Matrix:\")\n",
        "print(conf_matrix_test)\n",
        "print(\"\\nTest Classification Report:\")\n",
        "print(classification_rep_test)\n"
      ],
      "metadata": {
        "id": "4DZe2J1_B-Ek",
        "colab": {
          "base_uri": "https://localhost:8080/"
        },
        "outputId": "44976adb-9c38-4dee-9fc1-46829207caa7"
      },
      "execution_count": null,
      "outputs": [
        {
          "output_type": "stream",
          "name": "stdout",
          "text": [
            "Fitting 5 folds for each of 2 candidates, totalling 10 fits\n",
            "\n",
            "Validation Confusion Matrix:\n",
            "[[  24    0    0    2    0    0    0  117]\n",
            " [   0    5    1    0    0    0    0   61]\n",
            " [   0    0   15    2    1    0    1   80]\n",
            " [  10    4    2  159    1   10    4 1526]\n",
            " [   0    0    0    0    5    0    0   15]\n",
            " [   0    0    1    5    0   39    3  300]\n",
            " [   1    0    0    1    0    1   15   87]\n",
            " [   7    4    1   17    1    3    0 3689]]\n",
            "\n",
            "Validation Classification Report:\n",
            "                        precision    recall  f1-score   support\n",
            "\n",
            "             ALGORITHM       0.57      0.17      0.26       143\n",
            "         COMPATIBILITY       0.38      0.07      0.12        67\n",
            "                DEFECT       0.75      0.15      0.25        99\n",
            "                DESIGN       0.85      0.09      0.17      1716\n",
            "         DOCUMENTATION       0.62      0.25      0.36        20\n",
            "        IMPLEMENTATION       0.74      0.11      0.19       348\n",
            "                  TEST       0.65      0.14      0.23       105\n",
            "WITHOUT_CLASSIFICATION       0.63      0.99      0.77      3722\n",
            "\n",
            "              accuracy                           0.64      6220\n",
            "             macro avg       0.65      0.25      0.29      6220\n",
            "          weighted avg       0.69      0.64      0.53      6220\n",
            "\n",
            "\n",
            "Test Confusion Matrix:\n",
            "[[  39    0    0    2    0    2    0  157]\n",
            " [   1   21    0    2    0    0    0   65]\n",
            " [   0    0   27    3    0    0    0  105]\n",
            " [   6    3    6  214    1   23    3 1950]\n",
            " [   0    0    0    2    3    0    0   18]\n",
            " [   1    0    3    4    0   49    0  330]\n",
            " [   0    0    2    4    1    0   19  117]\n",
            " [   8    1    5   14    1    3    0 4560]]\n",
            "\n",
            "Test Classification Report:\n",
            "                        precision    recall  f1-score   support\n",
            "\n",
            "             ALGORITHM       0.71      0.20      0.31       200\n",
            "         COMPATIBILITY       0.84      0.24      0.37        89\n",
            "                DEFECT       0.63      0.20      0.30       135\n",
            "                DESIGN       0.87      0.10      0.17      2206\n",
            "         DOCUMENTATION       0.50      0.13      0.21        23\n",
            "        IMPLEMENTATION       0.64      0.13      0.21       387\n",
            "                  TEST       0.86      0.13      0.23       143\n",
            "WITHOUT_CLASSIFICATION       0.62      0.99      0.77      4592\n",
            "\n",
            "              accuracy                           0.63      7775\n",
            "             macro avg       0.71      0.26      0.32      7775\n",
            "          weighted avg       0.70      0.63      0.54      7775\n",
            "\n"
          ]
        }
      ]
    }
  ],
  "metadata": {
    "colab": {
      "gpuType": "A100",
      "machine_shape": "hm",
      "provenance": []
    },
    "kernelspec": {
      "display_name": "Python 3",
      "name": "python3"
    },
    "language_info": {
      "name": "python"
    },
    "accelerator": "GPU"
  },
  "nbformat": 4,
  "nbformat_minor": 0
}