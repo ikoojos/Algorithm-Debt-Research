{
  "cells": [
    {
      "cell_type": "markdown",
      "metadata": {
        "id": "view-in-github",
        "colab_type": "text"
      },
      "source": [
        "<a href=\"https://colab.research.google.com/github/ikoojos/Algorithm-Debt-Research/blob/master/Random_Forest_Hash_Vectorizer.ipynb\" target=\"_parent\"><img src=\"https://colab.research.google.com/assets/colab-badge.svg\" alt=\"Open In Colab\"/></a>"
      ]
    },
    {
      "cell_type": "code",
      "execution_count": null,
      "metadata": {
        "colab": {
          "base_uri": "https://localhost:8080/"
        },
        "id": "DcsKeqbTQnon",
        "outputId": "ed077d47-3f31-40a3-dde0-f89bba9d84dd"
      },
      "outputs": [
        {
          "name": "stdout",
          "output_type": "stream",
          "text": [
            "Mounted at /content/drive\n"
          ]
        }
      ],
      "source": [
        "import sys\n",
        "from google.colab import drive\n",
        "from itertools import product\n",
        "from sklearn.ensemble import RandomForestClassifier\n",
        "import importlib\n",
        "\n",
        "drive.mount('/content/drive')\n",
        "sys.path.append('/content/drive/My Drive/AD Final Experiments')\n",
        "\n",
        "from preprocessing import preprocess_data\n",
        "from splitting import split_data\n",
        "from utils import *\n",
        "from evaluate_model import evaluate_best_model\n",
        "from rf_tuning import hyperparameter_tuning_rf\n",
        "\n",
        "\n",
        "for module in ['preprocessing', 'splitting', 'utils', 'evaluate_model', 'rf_tuning']:\n",
        "    importlib.reload(sys.modules[module])"
      ]
    },
    {
      "cell_type": "code",
      "execution_count": null,
      "metadata": {
        "id": "DMA9H5i62C9Z"
      },
      "outputs": [],
      "source": [
        "file_path = '/content/drive/My Drive/AD Identification using SATD/liu_datset_processed.csv'\n",
        "data = preprocess_data(file_path)\n",
        "X_train_final, X_val, X_test, y_train_final, y_val, y_test = split_data(data)"
      ]
    },
    {
      "cell_type": "code",
      "execution_count": null,
      "metadata": {
        "colab": {
          "background_save": true
        },
        "id": "eBGnPS8UXhJ-",
        "outputId": "a13aeb25-ef4e-4a95-b91f-bbb68e68b283"
      },
      "outputs": [
        {
          "name": "stdout",
          "output_type": "stream",
          "text": [
            "Best parameters found: {'n_estimators': 200, 'max_depth': None, 'min_samples_split': 5, 'min_samples_leaf': 1}\n",
            "Validation set accuracy: 0.8790996784565916\n",
            "\n",
            "Test Confusion Matrix:\n",
            "[[  61    0    1   95    0    1    0   42]\n",
            " [   0   32    0   41    0    4    0   12]\n",
            " [   0    0   39   71    0    1    1   23]\n",
            " [   3    2    4 1977    0   33    3  184]\n",
            " [   0    0    0   13    7    0    0    3]\n",
            " [   0    0    2  140    0  209    2   34]\n",
            " [   0    0    1   54    0    5   61   22]\n",
            " [   3    1    1  128    1    0    0 4458]]\n",
            "\n",
            "Test Classification Report:\n",
            "                        precision    recall  f1-score   support\n",
            "\n",
            "             ALGORITHM       0.91      0.30      0.46       200\n",
            "         COMPATIBILITY       0.91      0.36      0.52        89\n",
            "                DEFECT       0.81      0.29      0.43       135\n",
            "                DESIGN       0.78      0.90      0.84      2206\n",
            "         DOCUMENTATION       0.88      0.30      0.45        23\n",
            "        IMPLEMENTATION       0.83      0.54      0.65       387\n",
            "                  TEST       0.91      0.43      0.58       143\n",
            "WITHOUT_CLASSIFICATION       0.93      0.97      0.95      4592\n",
            "\n",
            "              accuracy                           0.88      7775\n",
            "             macro avg       0.87      0.51      0.61      7775\n",
            "          weighted avg       0.88      0.88      0.87      7775\n",
            "\n"
          ]
        }
      ],
      "source": [
        "param_grid = {\n",
        "    'n_estimators': [100, 200, 100],\n",
        "    'max_depth': [None, 10, 20, 30],\n",
        "    'min_samples_split': [2, 5, 10],\n",
        "    'min_samples_leaf': [1, 2]\n",
        "}\n",
        "\n",
        "vectorizer = HashingVectorizer()\n",
        "best_model, best_params, best_score = hyperparameter_tuning_rf(X_train_final, y_train_final, X_val, y_val, param_grid, vectorizer)\n",
        "evaluate_best_model(best_model, best_params, best_score, X_test, y_test)"
      ]
    }
  ],
  "metadata": {
    "colab": {
      "gpuType": "T4",
      "machine_shape": "hm",
      "provenance": [],
      "include_colab_link": true
    },
    "kernelspec": {
      "display_name": "Python 3",
      "name": "python3"
    },
    "language_info": {
      "name": "python"
    }
  },
  "nbformat": 4,
  "nbformat_minor": 0
}